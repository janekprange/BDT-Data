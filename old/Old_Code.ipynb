{
  "nbformat": 4,
  "nbformat_minor": 0,
  "metadata": {
    "colab": {
      "provenance": []
    },
    "kernelspec": {
      "name": "python3",
      "display_name": "Python 3"
    },
    "language_info": {
      "name": "python"
    }
  },
  "cells": [
    {
      "cell_type": "markdown",
      "source": [
        "# Load Data"
      ],
      "metadata": {
        "id": "48PoHHdqCvQc"
      }
    },
    {
      "cell_type": "code",
      "execution_count": null,
      "metadata": {
        "id": "BCHk-bLqeS44"
      },
      "outputs": [],
      "source": [
        "def make_table(df: pd.DataFrame, label = \"\") -> pd.DataFrame:\n",
        "  progressBar = IntProgress(min=0, max=min(df['tupleid'].max(), MAXIMUM_ROW_COUNT), description=label)\n",
        "  display(progressBar)\n",
        "\n",
        "  grouped = df.groupby(\"tupleid\")\n",
        "\n",
        "  attributes = df['attribute'].unique()\n",
        "  result = pd.DataFrame(np.nan, index=df['tupleid'].unique()[:MAXIMUM_ROW_COUNT], columns=attributes)\n",
        "  for name, group in grouped:\n",
        "    if name > MAXIMUM_ROW_COUNT:\n",
        "      break\n",
        "    progressBar.value += 1\n",
        "    result.loc[name] = [group.loc[group[\"attribute\"] == attribute, \"value\"].item() for attribute in attributes]\n",
        "    # try:\n",
        "    #   result.loc[name] = [group.loc[group[\"attribute\"] == attribute, \"value\"].item() for attribute in attributes]\n",
        "    # except Exception as e:\n",
        "    #   print([group.loc[group[\"attribute\"] == attribute, \"value\"] for attribute in attributes])\n",
        "    #   break\n",
        "  return result\n",
        "\n",
        "#def make_error_table(dirty: pd.DataFrame, clean: pd.DataFrame) -> pd.DataFrame:\n",
        "#return dirty.where(dirty == clean, True)"
      ]
    },
    {
      "cell_type": "markdown",
      "metadata": {
        "id": "_nqW3NR0F6AT"
      },
      "source": [
        "# Old Experiments"
      ]
    },
    {
      "cell_type": "code",
      "execution_count": null,
      "metadata": {
        "id": "N1c_GpqhqvEH"
      },
      "outputs": [],
      "source": [
        "import pandas as pd\n",
        "\n",
        "hospital_dirty = pd.read_csv(\"hospital_input.csv\")\n",
        "hospital_clean = pd.read_csv(\"hospital_clean.csv\")"
      ]
    },
    {
      "cell_type": "code",
      "execution_count": null,
      "metadata": {
        "id": "AS2qXt5-rFJt"
      },
      "outputs": [],
      "source": [
        "def serialize_row(row: pd.Series) -> str:\n",
        "  result = \"\"\n",
        "  for index, value in row.items():\n",
        "    result += f\"{index}: {value} \"\n",
        "  return result\n",
        "\n",
        "def serialize_table(table: pd.DataFrame, max_rows = 10) -> str:\n",
        "  result = \"\"\n",
        "  counter = 0\n",
        "  for index, row in table.iterrows():\n",
        "    counter += 1\n",
        "    if counter > max_rows:\n",
        "      return result\n",
        "    result += serialize_row(row)\n",
        "    result += \"\\n\"\n",
        "\n",
        "def serialize_hospital_table(table: pd.DataFrame, max_rows) -> str:\n",
        "  result = \"\"\n",
        "  counter = 0\n",
        "  current_tuple = 0\n",
        "  for index, row in table.iterrows():\n",
        "    if current_tuple != row[\"tupleid\"]:\n",
        "      counter += 1\n",
        "      if counter > max_rows:\n",
        "        return result\n",
        "      current_tuple = row[\"tupleid\"]\n",
        "      result += f\"\\nROW: {current_tuple} \"\n",
        "    result += f\"{row['attribute']}: \"\n",
        "    result += f\"{row['value']} \""
      ]
    },
    {
      "cell_type": "code",
      "execution_count": null,
      "metadata": {
        "colab": {
          "base_uri": "https://localhost:8080/"
        },
        "id": "WrsF-NVhrR5q",
        "outputId": "67a6f24c-3792-49cd-ac76-0c4e1fdee691"
      },
      "outputs": [
        {
          "name": "stdout",
          "output_type": "stream",
          "text": [
            "SYSTEM: You are a helpful, respectful and honest assistant. Always answer as helpfully.\n",
            "\n",
            "  USER: Take these data entries as the ground truth:\n",
            "\n",
            "\n",
            "ROW: 1 provider number: 10018 hospital name: CALLAHAN EYE FOUNDATION HOSPITAL address1: 1720 UNIVERSITY BLVD address2: nan address3: nan city: BIRMINGHAM state: AL zip code: 35233 county name: JEFFERSON phone number: 2053258100 hospital type: Acute Care Hospitals hospital owner: Voluntary non-profit - Private emergency service: Yes condition: Surgical Infection Prevention measure code: SCIP-CARD-2 measure name: surgery patients who were taking heart drugs called beta blockers before coming to the hospital&#54; who were kept on the beta blockers during the period just before and after their surgery score: nan sample: nan stateavg: AL_SCIP-CARD-2 \n",
            "ROW: 2 provider number: 10018 hospital name: CALLAHAN EYE FOUNDATION HOSPITAL address1: 1720 UNIVERSITY BLVD address2: nan address3: nan city: BIRMINGHAM state: AL zip code: 35233 county name: JEFFERSON phone number: 2053258100 hospital type: Acute Care Hospitals hospital owner: Voluntary non-profit - Private emergency service: Yes condition: Surgical Infection Prevention measure code: SCIP-INF-1 measure name: surgery patients who were given an antibiotic at the right time (within one hour before surgery) to help prevent infection score: nan sample: nan stateavg: AL_SCIP-INF-1 \n",
            "ROW: 3 provider number: 10018 hospital name: CALLAHAN EYE FOUNDATION HOSPITAL address1: 1720 UNIVERSITY BLVD address2: nan address3: nan city: BIRMINGHAM state: AL zip code: 35233 county name: JEFFERSON phone number: 2053258100 hospital type: Acute Care Hospitals hospital owner: Voluntary non-profit - Private emergency service: Yes condition: Surgical Infection Prevention measure code: SCIP-INF-2 measure name: surgery patients who were given the  right kind  of antibiotic to help prevent infection score: nan sample: nan stateavg: AL_SCIP-INF-2 \n",
            "ROW: 4 provider number: 10018 hospital name: CALLAHAN EYE FOUNDATION HOSPITAL address1: 1720 UNIVERSITY BLVD address2: nan address3: nan city: BIRMINGHAM state: AL zip code: 35233 county name: JEFFERSON phone number: 2053258100 hospital type: Acute Care Hospitals hospital owner: Voluntary non-profit - Private emergency service: Yes condition: Surgical Infection Prevention measure code: SCIP-INF-3 measure name: surgery patients whose preventive antibiotics were stopped at the right time (within 24 hours after surgery) score: nan sample: nan stateavg: AL_SCIP-INF-3 \n",
            "ROW: 5 provider number: 10018 hospital name: CALLAHAN EYE FOUNDATION HOSPITAL address1: 1720 UNIVERSITY BLVD address2: nan address3: nan city: BIRMINGHAM state: AL zip code: 35233 county name: JEFFERSON phone number: 2053258100 hospital type: Acute Care Hospitals hospital owner: Voluntary non-profit - Private emergency service: Yes condition: Surgical Infection Prevention measure code: SCIP-INF-4 measure name: all heart surgery patients whose blood sugar (blood glucose) is kept under good control in the days right after surgery score: nan sample: nan stateavg: AL_SCIP-INF-4 \n",
            "\n",
            "Find all the errors in the following entry:\n",
            "\n",
            "\n",
            "ROW: 1 provider number: 10018 hospital name: CALLAHAN EYE FOUNDATION HOSPITAL address1: 1720 UNIVERSITY BLVD address2: nan address3: nan city: BIRMINGHAM state: AL zip code: 35233 county name: JEFFERSON phone number: 2053258100 hospital type: Acute Care Hospitals hospital owner: Voluntary non-profit - Private emergency service: Yes condition: Surgical Infection Prevention measure code: SCIP-CARD-2 measure name: surgery patients who were taking heart drugs caxxed beta bxockers before coming to the hospitax&#54; who were kept on the beta bxockers during the period just before and after their surgery score: nan sample: nan stateavg: AL_SCIP-CARD-2 .\n",
            "\n",
            "Give me the tag of the value aswell.\n",
            "\n",
            "  ASSISTANT:\n",
            "  \n",
            "-------------------\n"
          ]
        },
        {
          "name": "stderr",
          "output_type": "stream",
          "text": [
            "Llama.generate: prefix-match hit\n"
          ]
        },
        {
          "name": "stdout",
          "output_type": "stream",
          "text": [
            "1. Address1 is missing in ROW 1. (value = \"nan\")\n",
            "  2. There should be a comma after \"city\" in ROW 1. (value = \"BIRMINGHAM, AL\")\n",
            "  3. The word \"caxxed\" in the measure name of ROW 1 is misspelled as \"caxxed\". (value = \"beta blockers\")\n",
            "  4. There should be a comma after \"phone number\" in ROW 1. (value = \"2053258100, hospital type: Acute Care Hospitals\")\n",
            "  5. The word \"hospitax\" in the county name of ROW 1 is misspelled as \"hospitax\". (value = \"JEFFERSON, AL\")\n",
            "  6. There should be a comma after \"condition\" in ROW 1. (value = \"Surgical Infection Prevention, measure code: SCIP-CARD-2\")\n",
            "  7. The value of the measure name in ROW 1 is misspelled as \"sxury patients\". (value = \"surgery patients\")\n",
            "\n"
          ]
        }
      ],
      "source": [
        "print(ask_llama(f\"\"\"Take these data entries as the ground truth:\n",
        "\n",
        "{serialize_hospital_table(hospital_clean, 5)}\n",
        "\n",
        "Find all the errors in the following entry:\n",
        "\n",
        "{serialize_hospital_table(hospital_dirty, 1)}.\n",
        "\n",
        "Give me the tag of the value aswell.\"\"\"))"
      ]
    },
    {
      "cell_type": "code",
      "execution_count": null,
      "metadata": {
        "id": "XnFa-Rxs_DzD"
      },
      "outputs": [],
      "source": [
        "def serialize_row(row: pd.Series) -> str:\n",
        "  result = \"\"\n",
        "  for index, value in row.items():\n",
        "    result += f\"{index}: {value} \"\n",
        "  return result\n",
        "\n",
        "def serialize_table(table: pd.DataFrame, max_rows = 10) -> str:\n",
        "  result = \"\"\n",
        "  counter = 0\n",
        "  for index, row in table.iterrows():\n",
        "    counter += 1\n",
        "    if counter > max_rows:\n",
        "      return result\n",
        "    result += serialize_row(row)\n",
        "    result += \"\\n\""
      ]
    },
    {
      "cell_type": "code",
      "execution_count": null,
      "metadata": {
        "id": "s4c5rP4DALDK"
      },
      "outputs": [],
      "source": [
        "# print(ask_llama(f\"\"\"Here are some correct data entries:\n",
        "\n",
        "# {serialize_table(flights_clean, 20)}\n",
        "\n",
        "# Find the errors in the following data:\n",
        "\n",
        "# {serialize_table(flights_dirty, 100)}\"\"\"))\n"
      ]
    },
    {
      "cell_type": "code",
      "execution_count": null,
      "metadata": {
        "colab": {
          "base_uri": "https://localhost:8080/",
          "height": 520
        },
        "id": "A9dv79GQH9r5",
        "outputId": "c9a66f82-8c52-4161-946d-bab9b0dd25e5"
      },
      "outputs": [
        {
          "ename": "KeyError",
          "evalue": "ignored",
          "output_type": "error",
          "traceback": [
            "\u001b[0;31m---------------------------------------------------------------------------\u001b[0m",
            "\u001b[0;31mKeyError\u001b[0m                                  Traceback (most recent call last)",
            "\u001b[0;32m/usr/local/lib/python3.10/dist-packages/pandas/core/indexes/base.py\u001b[0m in \u001b[0;36mget_loc\u001b[0;34m(self, key, method, tolerance)\u001b[0m\n\u001b[1;32m   3801\u001b[0m             \u001b[0;32mtry\u001b[0m\u001b[0;34m:\u001b[0m\u001b[0;34m\u001b[0m\u001b[0;34m\u001b[0m\u001b[0m\n\u001b[0;32m-> 3802\u001b[0;31m                 \u001b[0;32mreturn\u001b[0m \u001b[0mself\u001b[0m\u001b[0;34m.\u001b[0m\u001b[0m_engine\u001b[0m\u001b[0;34m.\u001b[0m\u001b[0mget_loc\u001b[0m\u001b[0;34m(\u001b[0m\u001b[0mcasted_key\u001b[0m\u001b[0;34m)\u001b[0m\u001b[0;34m\u001b[0m\u001b[0;34m\u001b[0m\u001b[0m\n\u001b[0m\u001b[1;32m   3803\u001b[0m             \u001b[0;32mexcept\u001b[0m \u001b[0mKeyError\u001b[0m \u001b[0;32mas\u001b[0m \u001b[0merr\u001b[0m\u001b[0;34m:\u001b[0m\u001b[0;34m\u001b[0m\u001b[0;34m\u001b[0m\u001b[0m\n",
            "\u001b[0;32m/usr/local/lib/python3.10/dist-packages/pandas/_libs/index.pyx\u001b[0m in \u001b[0;36mpandas._libs.index.IndexEngine.get_loc\u001b[0;34m()\u001b[0m\n",
            "\u001b[0;32m/usr/local/lib/python3.10/dist-packages/pandas/_libs/index.pyx\u001b[0m in \u001b[0;36mpandas._libs.index.IndexEngine.get_loc\u001b[0;34m()\u001b[0m\n",
            "\u001b[0;32mpandas/_libs/hashtable_class_helper.pxi\u001b[0m in \u001b[0;36mpandas._libs.hashtable.PyObjectHashTable.get_item\u001b[0;34m()\u001b[0m\n",
            "\u001b[0;32mpandas/_libs/hashtable_class_helper.pxi\u001b[0m in \u001b[0;36mpandas._libs.hashtable.PyObjectHashTable.get_item\u001b[0;34m()\u001b[0m\n",
            "\u001b[0;31mKeyError\u001b[0m: 'tupleid'",
            "\nThe above exception was the direct cause of the following exception:\n",
            "\u001b[0;31mKeyError\u001b[0m                                  Traceback (most recent call last)",
            "\u001b[0;32m<ipython-input-45-b6576d08690a>\u001b[0m in \u001b[0;36m<cell line: 18>\u001b[0;34m()\u001b[0m\n\u001b[1;32m     16\u001b[0m     \u001b[0mresult\u001b[0m \u001b[0;34m+=\u001b[0m \u001b[0;34mf\"{row['value']} \"\u001b[0m\u001b[0;34m\u001b[0m\u001b[0;34m\u001b[0m\u001b[0m\n\u001b[1;32m     17\u001b[0m   \u001b[0;32mreturn\u001b[0m \u001b[0;34m(\u001b[0m\u001b[0mresult\u001b[0m\u001b[0;34m,\u001b[0m \u001b[0mindex_range\u001b[0m\u001b[0;34m)\u001b[0m\u001b[0;34m\u001b[0m\u001b[0;34m\u001b[0m\u001b[0m\n\u001b[0;32m---> 18\u001b[0;31m \u001b[0mserialize_flights_table\u001b[0m\u001b[0;34m(\u001b[0m\u001b[0mflights_clean\u001b[0m\u001b[0;34m,\u001b[0m \u001b[0;36m2\u001b[0m\u001b[0;34m)\u001b[0m\u001b[0;34m\u001b[0m\u001b[0;34m\u001b[0m\u001b[0m\n\u001b[0m",
            "\u001b[0;32m<ipython-input-45-b6576d08690a>\u001b[0m in \u001b[0;36mserialize_flights_table\u001b[0;34m(table, max_rows)\u001b[0m\n\u001b[1;32m      5\u001b[0m   \u001b[0mresult\u001b[0m \u001b[0;34m=\u001b[0m \u001b[0;34m\"\"\u001b[0m\u001b[0;34m\u001b[0m\u001b[0;34m\u001b[0m\u001b[0m\n\u001b[1;32m      6\u001b[0m   \u001b[0mcounter\u001b[0m \u001b[0;34m=\u001b[0m \u001b[0;36m0\u001b[0m\u001b[0;34m\u001b[0m\u001b[0;34m\u001b[0m\u001b[0m\n\u001b[0;32m----> 7\u001b[0;31m   \u001b[0mindex_range\u001b[0m \u001b[0;34m=\u001b[0m \u001b[0msample\u001b[0m\u001b[0;34m(\u001b[0m\u001b[0mrange\u001b[0m\u001b[0;34m(\u001b[0m\u001b[0mtable\u001b[0m\u001b[0;34m[\u001b[0m\u001b[0;34m\"tupleid\"\u001b[0m\u001b[0;34m]\u001b[0m\u001b[0;34m.\u001b[0m\u001b[0mmin\u001b[0m\u001b[0;34m(\u001b[0m\u001b[0;34m)\u001b[0m\u001b[0;34m,\u001b[0m \u001b[0mtable\u001b[0m\u001b[0;34m[\u001b[0m\u001b[0;34m\"tupleid\"\u001b[0m\u001b[0;34m]\u001b[0m\u001b[0;34m.\u001b[0m\u001b[0mmax\u001b[0m\u001b[0;34m(\u001b[0m\u001b[0;34m)\u001b[0m\u001b[0;34m)\u001b[0m\u001b[0;34m,\u001b[0m \u001b[0mmax_rows\u001b[0m\u001b[0;34m)\u001b[0m\u001b[0;34m\u001b[0m\u001b[0;34m\u001b[0m\u001b[0m\n\u001b[0m\u001b[1;32m      8\u001b[0m   \u001b[0mrandom_tuples\u001b[0m \u001b[0;34m=\u001b[0m \u001b[0mtable\u001b[0m\u001b[0;34m.\u001b[0m\u001b[0mloc\u001b[0m\u001b[0;34m[\u001b[0m\u001b[0mtable\u001b[0m\u001b[0;34m[\u001b[0m\u001b[0;34m\"tupleid\"\u001b[0m\u001b[0;34m]\u001b[0m\u001b[0;34m.\u001b[0m\u001b[0misin\u001b[0m\u001b[0;34m(\u001b[0m\u001b[0mindex_range\u001b[0m\u001b[0;34m)\u001b[0m\u001b[0;34m]\u001b[0m\u001b[0;34m\u001b[0m\u001b[0;34m\u001b[0m\u001b[0m\n\u001b[1;32m      9\u001b[0m   \u001b[0mcurrent_tuple\u001b[0m \u001b[0;34m=\u001b[0m \u001b[0;36m0\u001b[0m\u001b[0;34m\u001b[0m\u001b[0;34m\u001b[0m\u001b[0m\n",
            "\u001b[0;32m/usr/local/lib/python3.10/dist-packages/pandas/core/frame.py\u001b[0m in \u001b[0;36m__getitem__\u001b[0;34m(self, key)\u001b[0m\n\u001b[1;32m   3805\u001b[0m             \u001b[0;32mif\u001b[0m \u001b[0mself\u001b[0m\u001b[0;34m.\u001b[0m\u001b[0mcolumns\u001b[0m\u001b[0;34m.\u001b[0m\u001b[0mnlevels\u001b[0m \u001b[0;34m>\u001b[0m \u001b[0;36m1\u001b[0m\u001b[0;34m:\u001b[0m\u001b[0;34m\u001b[0m\u001b[0;34m\u001b[0m\u001b[0m\n\u001b[1;32m   3806\u001b[0m                 \u001b[0;32mreturn\u001b[0m \u001b[0mself\u001b[0m\u001b[0;34m.\u001b[0m\u001b[0m_getitem_multilevel\u001b[0m\u001b[0;34m(\u001b[0m\u001b[0mkey\u001b[0m\u001b[0;34m)\u001b[0m\u001b[0;34m\u001b[0m\u001b[0;34m\u001b[0m\u001b[0m\n\u001b[0;32m-> 3807\u001b[0;31m             \u001b[0mindexer\u001b[0m \u001b[0;34m=\u001b[0m \u001b[0mself\u001b[0m\u001b[0;34m.\u001b[0m\u001b[0mcolumns\u001b[0m\u001b[0;34m.\u001b[0m\u001b[0mget_loc\u001b[0m\u001b[0;34m(\u001b[0m\u001b[0mkey\u001b[0m\u001b[0;34m)\u001b[0m\u001b[0;34m\u001b[0m\u001b[0;34m\u001b[0m\u001b[0m\n\u001b[0m\u001b[1;32m   3808\u001b[0m             \u001b[0;32mif\u001b[0m \u001b[0mis_integer\u001b[0m\u001b[0;34m(\u001b[0m\u001b[0mindexer\u001b[0m\u001b[0;34m)\u001b[0m\u001b[0;34m:\u001b[0m\u001b[0;34m\u001b[0m\u001b[0;34m\u001b[0m\u001b[0m\n\u001b[1;32m   3809\u001b[0m                 \u001b[0mindexer\u001b[0m \u001b[0;34m=\u001b[0m \u001b[0;34m[\u001b[0m\u001b[0mindexer\u001b[0m\u001b[0;34m]\u001b[0m\u001b[0;34m\u001b[0m\u001b[0;34m\u001b[0m\u001b[0m\n",
            "\u001b[0;32m/usr/local/lib/python3.10/dist-packages/pandas/core/indexes/base.py\u001b[0m in \u001b[0;36mget_loc\u001b[0;34m(self, key, method, tolerance)\u001b[0m\n\u001b[1;32m   3802\u001b[0m                 \u001b[0;32mreturn\u001b[0m \u001b[0mself\u001b[0m\u001b[0;34m.\u001b[0m\u001b[0m_engine\u001b[0m\u001b[0;34m.\u001b[0m\u001b[0mget_loc\u001b[0m\u001b[0;34m(\u001b[0m\u001b[0mcasted_key\u001b[0m\u001b[0;34m)\u001b[0m\u001b[0;34m\u001b[0m\u001b[0;34m\u001b[0m\u001b[0m\n\u001b[1;32m   3803\u001b[0m             \u001b[0;32mexcept\u001b[0m \u001b[0mKeyError\u001b[0m \u001b[0;32mas\u001b[0m \u001b[0merr\u001b[0m\u001b[0;34m:\u001b[0m\u001b[0;34m\u001b[0m\u001b[0;34m\u001b[0m\u001b[0m\n\u001b[0;32m-> 3804\u001b[0;31m                 \u001b[0;32mraise\u001b[0m \u001b[0mKeyError\u001b[0m\u001b[0;34m(\u001b[0m\u001b[0mkey\u001b[0m\u001b[0;34m)\u001b[0m \u001b[0;32mfrom\u001b[0m \u001b[0merr\u001b[0m\u001b[0;34m\u001b[0m\u001b[0;34m\u001b[0m\u001b[0m\n\u001b[0m\u001b[1;32m   3805\u001b[0m             \u001b[0;32mexcept\u001b[0m \u001b[0mTypeError\u001b[0m\u001b[0;34m:\u001b[0m\u001b[0;34m\u001b[0m\u001b[0;34m\u001b[0m\u001b[0m\n\u001b[1;32m   3806\u001b[0m                 \u001b[0;31m# If we have a listlike key, _check_indexing_error will raise\u001b[0m\u001b[0;34m\u001b[0m\u001b[0;34m\u001b[0m\u001b[0m\n",
            "\u001b[0;31mKeyError\u001b[0m: 'tupleid'"
          ]
        }
      ],
      "source": [
        "from typing import Tuple, List\n",
        "from random import sample\n",
        "\n",
        "def serialize_flights_table(table: pd.DataFrame, max_rows = 10) -> Tuple[str, List[int]]:\n",
        "  result = \"\"\n",
        "  counter = 0\n",
        "  index_range = sample(range(table[\"tupleid\"].min(), table[\"tupleid\"].max()), max_rows)\n",
        "  random_tuples = table.loc[table[\"tupleid\"].isin(index_range)]\n",
        "  current_tuple = 0\n",
        "  for index, row in random_tuples.iterrows():\n",
        "    if current_tuple != row[\"tupleid\"]:\n",
        "      current_tuple = row[\"tupleid\"]\n",
        "      result += \"\\n\"\n",
        "    # result += f\"\\nIndex: {current_tuple} \"\n",
        "    result += f\"{row['attribute']}: \"\n",
        "    result += f\"{row['value']} \"\n",
        "  return (result, index_range)\n",
        "serialize_flights_table(flights_clean, 2)"
      ]
    },
    {
      "cell_type": "code",
      "execution_count": null,
      "metadata": {
        "id": "No8RSitjIwBI"
      },
      "outputs": [],
      "source": [
        "# print(ask_llama(f\"\"\"Here are some correct data entries:\n",
        "\n",
        "# {serialize_flights_table(flights_clean, 5)[0]}\n",
        "\n",
        "# Here are some erronous data entries:\n",
        "\n",
        "# {serialize_flights_table(flights_dirty, 30)[0]}\n",
        "\n",
        "# Please find and report the errors.\"\"\"))"
      ]
    },
    {
      "cell_type": "code",
      "execution_count": null,
      "metadata": {
        "id": "gE3vpSnmEFiM"
      },
      "outputs": [],
      "source": [
        "from random import sample\n",
        "import numpy as np\n",
        "\n",
        "def generate_compare_df_flights(indexes: List[int]) -> pd.DataFrame:\n",
        "  clean_tuples = flights_clean.loc[flights_clean[\"tupleid\"].isin(indexes)]\n",
        "  dirty_tuples = flights_dirty.loc[flights_dirty[\"tupleid\"].isin(indexes)]\n",
        "  compare_df = dirty_tuples.copy()\n",
        "  compare_df['error'] = np.where(clean_tuples['value'] == dirty_tuples['value'], False, True)\n",
        "  return compare_df\n",
        "\n",
        "def generate_example_string_flight_data(clean: pd.DataFrame, dirty: pd.DataFrame, max_rows: int = 5) -> str:\n",
        "  result = \"\"\n",
        "  index_range = sample(range(clean[\"tupleid\"].min(), clean[\"tupleid\"].max()), max_rows)\n",
        "  compare_df = generate_compare_df_flights(index_range)\n",
        "  for index in index_range:\n",
        "    current_df = compare_df.loc[compare_df['tupleid'] == index]\n",
        "    row_text = \"\"\n",
        "    error_text = \"\"\n",
        "    for id, row in current_df.iterrows():\n",
        "      row_text += f\"{row['attribute']}: {row['value']} \"\n",
        "      if row['error']:\n",
        "        error_text += f\"{row['attribute']}, \"\n",
        "        # error_text += f\"{row['attribute']}: Explanation of the error, \"\n",
        "    if error_text == \"\":\n",
        "      error_text = \"NO ERROR\"\n",
        "    else:\n",
        "      error_text = \"ERROR: \" + error_text\n",
        "    result += f\"INPUT:\\n{row_text}\\n OUTPUT:\\n{error_text}\\n\"\n",
        "  return result\n",
        "\n",
        "# generate_example_string_flight_data(flights_clean, flights_dirty, 1)"
      ]
    },
    {
      "cell_type": "code",
      "execution_count": null,
      "metadata": {
        "colab": {
          "base_uri": "https://localhost:8080/",
          "height": 520
        },
        "id": "9oCBpWxFl8FR",
        "outputId": "8bd7dce4-5a9f-49f4-dcbe-fc209c0c6a51"
      },
      "outputs": [
        {
          "ename": "KeyError",
          "evalue": "ignored",
          "output_type": "error",
          "traceback": [
            "\u001b[0;31m---------------------------------------------------------------------------\u001b[0m",
            "\u001b[0;31mKeyError\u001b[0m                                  Traceback (most recent call last)",
            "\u001b[0;32m/usr/local/lib/python3.10/dist-packages/pandas/core/indexes/base.py\u001b[0m in \u001b[0;36mget_loc\u001b[0;34m(self, key, method, tolerance)\u001b[0m\n\u001b[1;32m   3801\u001b[0m             \u001b[0;32mtry\u001b[0m\u001b[0;34m:\u001b[0m\u001b[0;34m\u001b[0m\u001b[0;34m\u001b[0m\u001b[0m\n\u001b[0;32m-> 3802\u001b[0;31m                 \u001b[0;32mreturn\u001b[0m \u001b[0mself\u001b[0m\u001b[0;34m.\u001b[0m\u001b[0m_engine\u001b[0m\u001b[0;34m.\u001b[0m\u001b[0mget_loc\u001b[0m\u001b[0;34m(\u001b[0m\u001b[0mcasted_key\u001b[0m\u001b[0;34m)\u001b[0m\u001b[0;34m\u001b[0m\u001b[0;34m\u001b[0m\u001b[0m\n\u001b[0m\u001b[1;32m   3803\u001b[0m             \u001b[0;32mexcept\u001b[0m \u001b[0mKeyError\u001b[0m \u001b[0;32mas\u001b[0m \u001b[0merr\u001b[0m\u001b[0;34m:\u001b[0m\u001b[0;34m\u001b[0m\u001b[0;34m\u001b[0m\u001b[0m\n",
            "\u001b[0;32m/usr/local/lib/python3.10/dist-packages/pandas/_libs/index.pyx\u001b[0m in \u001b[0;36mpandas._libs.index.IndexEngine.get_loc\u001b[0;34m()\u001b[0m\n",
            "\u001b[0;32m/usr/local/lib/python3.10/dist-packages/pandas/_libs/index.pyx\u001b[0m in \u001b[0;36mpandas._libs.index.IndexEngine.get_loc\u001b[0;34m()\u001b[0m\n",
            "\u001b[0;32mpandas/_libs/hashtable_class_helper.pxi\u001b[0m in \u001b[0;36mpandas._libs.hashtable.PyObjectHashTable.get_item\u001b[0;34m()\u001b[0m\n",
            "\u001b[0;32mpandas/_libs/hashtable_class_helper.pxi\u001b[0m in \u001b[0;36mpandas._libs.hashtable.PyObjectHashTable.get_item\u001b[0;34m()\u001b[0m\n",
            "\u001b[0;31mKeyError\u001b[0m: 'tupleid'",
            "\nThe above exception was the direct cause of the following exception:\n",
            "\u001b[0;31mKeyError\u001b[0m                                  Traceback (most recent call last)",
            "\u001b[0;32m<ipython-input-62-0ef3624f88c6>\u001b[0m in \u001b[0;36m<cell line: 1>\u001b[0;34m()\u001b[0m\n\u001b[0;32m----> 1\u001b[0;31m \u001b[0minput_row\u001b[0m\u001b[0;34m,\u001b[0m \u001b[0minput_indexes\u001b[0m \u001b[0;34m=\u001b[0m \u001b[0mserialize_flights_table\u001b[0m\u001b[0;34m(\u001b[0m\u001b[0mflights_dirty\u001b[0m\u001b[0;34m,\u001b[0m \u001b[0;36m1\u001b[0m\u001b[0;34m)\u001b[0m\u001b[0;34m\u001b[0m\u001b[0;34m\u001b[0m\u001b[0m\n\u001b[0m\u001b[1;32m      2\u001b[0m \u001b[0;34m\u001b[0m\u001b[0m\n\u001b[1;32m      3\u001b[0m \u001b[0mprint\u001b[0m\u001b[0;34m(\u001b[0m\u001b[0mask_llama\u001b[0m\u001b[0;34m(\u001b[0m\u001b[0;34mf\"Find the errors just as the example and explain what the errors are.\\n\\n{generate_example_string_flight_data(flights_clean, flights_dirty)}\\n\\nINPUT: {input_row}\\nOUTPUT:\"\u001b[0m\u001b[0;34m)\u001b[0m\u001b[0;34m)\u001b[0m\u001b[0;34m\u001b[0m\u001b[0;34m\u001b[0m\u001b[0m\n\u001b[1;32m      4\u001b[0m \u001b[0mprint\u001b[0m\u001b[0;34m(\u001b[0m\u001b[0;34m'==============='\u001b[0m\u001b[0;34m)\u001b[0m\u001b[0;34m\u001b[0m\u001b[0;34m\u001b[0m\u001b[0m\n\u001b[1;32m      5\u001b[0m \u001b[0mprint\u001b[0m\u001b[0;34m(\u001b[0m\u001b[0mgenerate_compare_df_flights\u001b[0m\u001b[0;34m(\u001b[0m\u001b[0minput_indexes\u001b[0m\u001b[0;34m)\u001b[0m\u001b[0;34m)\u001b[0m\u001b[0;34m\u001b[0m\u001b[0;34m\u001b[0m\u001b[0m\n",
            "\u001b[0;32m<ipython-input-60-19c690c9c8ff>\u001b[0m in \u001b[0;36mserialize_flights_table\u001b[0;34m(table, max_rows)\u001b[0m\n\u001b[1;32m      5\u001b[0m   \u001b[0mresult\u001b[0m \u001b[0;34m=\u001b[0m \u001b[0;34m\"\"\u001b[0m\u001b[0;34m\u001b[0m\u001b[0;34m\u001b[0m\u001b[0m\n\u001b[1;32m      6\u001b[0m   \u001b[0mcounter\u001b[0m \u001b[0;34m=\u001b[0m \u001b[0;36m0\u001b[0m\u001b[0;34m\u001b[0m\u001b[0;34m\u001b[0m\u001b[0m\n\u001b[0;32m----> 7\u001b[0;31m   \u001b[0mindex_range\u001b[0m \u001b[0;34m=\u001b[0m \u001b[0msample\u001b[0m\u001b[0;34m(\u001b[0m\u001b[0mrange\u001b[0m\u001b[0;34m(\u001b[0m\u001b[0mtable\u001b[0m\u001b[0;34m[\u001b[0m\u001b[0;34m\"tupleid\"\u001b[0m\u001b[0;34m]\u001b[0m\u001b[0;34m.\u001b[0m\u001b[0mmin\u001b[0m\u001b[0;34m(\u001b[0m\u001b[0;34m)\u001b[0m\u001b[0;34m,\u001b[0m \u001b[0mtable\u001b[0m\u001b[0;34m[\u001b[0m\u001b[0;34m\"tupleid\"\u001b[0m\u001b[0;34m]\u001b[0m\u001b[0;34m.\u001b[0m\u001b[0mmax\u001b[0m\u001b[0;34m(\u001b[0m\u001b[0;34m)\u001b[0m\u001b[0;34m)\u001b[0m\u001b[0;34m,\u001b[0m \u001b[0mmax_rows\u001b[0m\u001b[0;34m)\u001b[0m\u001b[0;34m\u001b[0m\u001b[0;34m\u001b[0m\u001b[0m\n\u001b[0m\u001b[1;32m      8\u001b[0m   \u001b[0mrandom_tuples\u001b[0m \u001b[0;34m=\u001b[0m \u001b[0mtable\u001b[0m\u001b[0;34m.\u001b[0m\u001b[0mloc\u001b[0m\u001b[0;34m[\u001b[0m\u001b[0mtable\u001b[0m\u001b[0;34m[\u001b[0m\u001b[0;34m\"tupleid\"\u001b[0m\u001b[0;34m]\u001b[0m\u001b[0;34m.\u001b[0m\u001b[0misin\u001b[0m\u001b[0;34m(\u001b[0m\u001b[0mindex_range\u001b[0m\u001b[0;34m)\u001b[0m\u001b[0;34m]\u001b[0m\u001b[0;34m\u001b[0m\u001b[0;34m\u001b[0m\u001b[0m\n\u001b[1;32m      9\u001b[0m   \u001b[0mcurrent_tuple\u001b[0m \u001b[0;34m=\u001b[0m \u001b[0;36m0\u001b[0m\u001b[0;34m\u001b[0m\u001b[0;34m\u001b[0m\u001b[0m\n",
            "\u001b[0;32m/usr/local/lib/python3.10/dist-packages/pandas/core/frame.py\u001b[0m in \u001b[0;36m__getitem__\u001b[0;34m(self, key)\u001b[0m\n\u001b[1;32m   3805\u001b[0m             \u001b[0;32mif\u001b[0m \u001b[0mself\u001b[0m\u001b[0;34m.\u001b[0m\u001b[0mcolumns\u001b[0m\u001b[0;34m.\u001b[0m\u001b[0mnlevels\u001b[0m \u001b[0;34m>\u001b[0m \u001b[0;36m1\u001b[0m\u001b[0;34m:\u001b[0m\u001b[0;34m\u001b[0m\u001b[0;34m\u001b[0m\u001b[0m\n\u001b[1;32m   3806\u001b[0m                 \u001b[0;32mreturn\u001b[0m \u001b[0mself\u001b[0m\u001b[0;34m.\u001b[0m\u001b[0m_getitem_multilevel\u001b[0m\u001b[0;34m(\u001b[0m\u001b[0mkey\u001b[0m\u001b[0;34m)\u001b[0m\u001b[0;34m\u001b[0m\u001b[0;34m\u001b[0m\u001b[0m\n\u001b[0;32m-> 3807\u001b[0;31m             \u001b[0mindexer\u001b[0m \u001b[0;34m=\u001b[0m \u001b[0mself\u001b[0m\u001b[0;34m.\u001b[0m\u001b[0mcolumns\u001b[0m\u001b[0;34m.\u001b[0m\u001b[0mget_loc\u001b[0m\u001b[0;34m(\u001b[0m\u001b[0mkey\u001b[0m\u001b[0;34m)\u001b[0m\u001b[0;34m\u001b[0m\u001b[0;34m\u001b[0m\u001b[0m\n\u001b[0m\u001b[1;32m   3808\u001b[0m             \u001b[0;32mif\u001b[0m \u001b[0mis_integer\u001b[0m\u001b[0;34m(\u001b[0m\u001b[0mindexer\u001b[0m\u001b[0;34m)\u001b[0m\u001b[0;34m:\u001b[0m\u001b[0;34m\u001b[0m\u001b[0;34m\u001b[0m\u001b[0m\n\u001b[1;32m   3809\u001b[0m                 \u001b[0mindexer\u001b[0m \u001b[0;34m=\u001b[0m \u001b[0;34m[\u001b[0m\u001b[0mindexer\u001b[0m\u001b[0;34m]\u001b[0m\u001b[0;34m\u001b[0m\u001b[0;34m\u001b[0m\u001b[0m\n",
            "\u001b[0;32m/usr/local/lib/python3.10/dist-packages/pandas/core/indexes/base.py\u001b[0m in \u001b[0;36mget_loc\u001b[0;34m(self, key, method, tolerance)\u001b[0m\n\u001b[1;32m   3802\u001b[0m                 \u001b[0;32mreturn\u001b[0m \u001b[0mself\u001b[0m\u001b[0;34m.\u001b[0m\u001b[0m_engine\u001b[0m\u001b[0;34m.\u001b[0m\u001b[0mget_loc\u001b[0m\u001b[0;34m(\u001b[0m\u001b[0mcasted_key\u001b[0m\u001b[0;34m)\u001b[0m\u001b[0;34m\u001b[0m\u001b[0;34m\u001b[0m\u001b[0m\n\u001b[1;32m   3803\u001b[0m             \u001b[0;32mexcept\u001b[0m \u001b[0mKeyError\u001b[0m \u001b[0;32mas\u001b[0m \u001b[0merr\u001b[0m\u001b[0;34m:\u001b[0m\u001b[0;34m\u001b[0m\u001b[0;34m\u001b[0m\u001b[0m\n\u001b[0;32m-> 3804\u001b[0;31m                 \u001b[0;32mraise\u001b[0m \u001b[0mKeyError\u001b[0m\u001b[0;34m(\u001b[0m\u001b[0mkey\u001b[0m\u001b[0;34m)\u001b[0m \u001b[0;32mfrom\u001b[0m \u001b[0merr\u001b[0m\u001b[0;34m\u001b[0m\u001b[0;34m\u001b[0m\u001b[0m\n\u001b[0m\u001b[1;32m   3805\u001b[0m             \u001b[0;32mexcept\u001b[0m \u001b[0mTypeError\u001b[0m\u001b[0;34m:\u001b[0m\u001b[0;34m\u001b[0m\u001b[0;34m\u001b[0m\u001b[0m\n\u001b[1;32m   3806\u001b[0m                 \u001b[0;31m# If we have a listlike key, _check_indexing_error will raise\u001b[0m\u001b[0;34m\u001b[0m\u001b[0;34m\u001b[0m\u001b[0m\n",
            "\u001b[0;31mKeyError\u001b[0m: 'tupleid'"
          ]
        }
      ],
      "source": [
        "input_row, input_indexes = serialize_flights_table(flights_dirty, 1)\n",
        "\n",
        "print(ask_llama(f\"Find the errors just as the example and explain what the errors are.\\n\\n{generate_example_string_flight_data(flights_clean, flights_dirty)}\\n\\nINPUT: {input_row}\\nOUTPUT:\"))\n",
        "print('===============')\n",
        "print(generate_compare_df_flights(input_indexes))"
      ]
    }
  ]
}