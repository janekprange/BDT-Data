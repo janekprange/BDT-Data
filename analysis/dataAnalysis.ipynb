{
 "cells": [
  {
   "cell_type": "code",
   "execution_count": null,
   "metadata": {},
   "outputs": [],
   "source": [
    "import matplotlib.pyplot as plt\n",
    "import pandas as pd\n",
    "import plotly.graph_objects as go\n",
    "import plotly.express as px\n",
    "import numpy as np\n",
    "from matplotlib.backends.backend_pdf import PdfPages"
   ]
  },
  {
   "cell_type": "markdown",
   "metadata": {},
   "source": [
    "***DATA***"
   ]
  },
  {
   "cell_type": "code",
   "execution_count": null,
   "metadata": {},
   "outputs": [],
   "source": [
    "# F1 Score\n",
    "a = np.random.random(size=5)\n",
    "b = np.random.random(size=5)\n",
    "data = {'% training data used':[0,10, 30, 50 ,100],\n",
    "        'zero-shot':a,\n",
    "        'few-shot':b}\n",
    "# time\n",
    "time = { \"zero-shot\": np.random.randint(0, high = 100, size=10),\n",
    "        \"few-shot\":np.random.randint(0, high = 100, size=10)}\n",
    "\n",
    "data = pd.DataFrame(data)\n",
    "time = pd.DataFrame(time)\n",
    "print(data.head())\n",
    "print(time.head())"
   ]
  },
  {
   "cell_type": "code",
   "execution_count": null,
   "metadata": {},
   "outputs": [],
   "source": [
    "# Table to pdf\n",
    "fig = plt.figure(figsize=(5,0.001))\n",
    "ax = plt.subplot()\n",
    "\n",
    "ax.axis('tight')\n",
    "ax.axis('off')\n",
    "the_table = ax.table(cellText=data.values,colLabels=data.columns,loc='top', cellLoc='center')\n",
    "\n",
    "plt.savefig(\n",
    "    './img/table.png',\n",
    "    dpi=300,\n",
    "    transparent=True,\n",
    "    bbox_inches='tight'\n",
    ")"
   ]
  },
  {
   "cell_type": "code",
   "execution_count": null,
   "metadata": {},
   "outputs": [],
   "source": [
    "fig = go.Figure()\n",
    "\n",
    "fig = px.line(data, x=\"% training data used\", y = [\"zero-shot\",\"few-shot\"])\n",
    "\n",
    "fig.update_layout(yaxis_range=[-0.1,1.1],\n",
    "    title=\"Error Detection\",\n",
    "    title_yanchor=\"top\",\n",
    "    legend_title=\"Method\",\n",
    "    autosize=False,\n",
    "    width=700,\n",
    "    height=500,\n",
    ")\n",
    "fig.update_yaxes(title=\"F1 Score\")\n",
    "fig.show()"
   ]
  },
  {
   "cell_type": "code",
   "execution_count": null,
   "metadata": {},
   "outputs": [],
   "source": [
    "fig = plt.figure()\n",
    "ax = fig.add_subplot(111)\n",
    "datasetName = \"Hospital\"\n",
    "\n",
    "plt.axhline(y=1,linestyle=':',color='r',label = \"line A\")\n",
    "plt.axhline(y=0,linestyle=':',color='b',label = \"line B\")\n",
    "plt.plot(data[\"% training data used\"],data[\"zero-shot\"],color='orange',label = \"zero-shot\")\n",
    "plt.plot(data[\"% training data used\"],data[\"few-shot\"],color='g',label = \"few-shot\")\n",
    "\n",
    "plt.title(f\"Error Detection ({datasetName})\",fontsize=15)\n",
    "plt.xlabel(\"% training data used\",fontsize=15)\n",
    "plt.ylabel(\"F1 Score\",fontsize=15)\n",
    "\n",
    "ax.set_xlim(0,100)\n",
    "ax.set_ylim(-0.1,1.10)\n",
    "\n",
    "ax.legend(loc='center left', bbox_to_anchor=(1, 0.5))\n",
    "plt.show()\n",
    "\n",
    "plt.savefig(\n",
    "    './img/error_dect.png',\n",
    "    dpi=300,\n",
    "    transparent=True,\n",
    "    bbox_inches='tight'\n",
    ")"
   ]
  },
  {
   "cell_type": "code",
   "execution_count": null,
   "metadata": {},
   "outputs": [],
   "source": [
    "testData = pd.read_csv('./data/simple_test_5_10.csv')\n",
    "testData = testData.sort_values(['Dataset', 'Type'], ascending=[True, True])\n",
    "testData.Time = testData.Time / 60\n",
    "print(testData)"
   ]
  },
  {
   "cell_type": "code",
   "execution_count": null,
   "metadata": {},
   "outputs": [],
   "source": [
    "fig = go.Figure()\n",
    "\n",
    "fig = px.box(testData, y = \"Time\", color = \"Dataset\")\n",
    "fig.show()\n",
    "fig = px.box(testData, y = \"Time\", color = \"Type\")\n",
    "fig.show()"
   ]
  },
  {
   "cell_type": "code",
   "execution_count": null,
   "metadata": {},
   "outputs": [],
   "source": [
    "fig = go.Figure()\n",
    "\n",
    "fig = px.box(testData, y = \"F1-Score\", color = \"Dataset\")\n",
    "fig.show()\n",
    "fig = px.box(testData, y = \"F1-Score\", color = \"Type\")\n",
    "fig.show()"
   ]
  }
 ],
 "metadata": {
  "kernelspec": {
   "display_name": "bdt",
   "language": "python",
   "name": "python3"
  },
  "language_info": {
   "codemirror_mode": {
    "name": "ipython",
    "version": 3
   },
   "file_extension": ".py",
   "mimetype": "text/x-python",
   "name": "python",
   "nbconvert_exporter": "python",
   "pygments_lexer": "ipython3",
   "version": "3.10.13"
  }
 },
 "nbformat": 4,
 "nbformat_minor": 2
}
