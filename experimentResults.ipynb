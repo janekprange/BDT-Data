{
 "cells": [
  {
   "cell_type": "markdown",
   "metadata": {},
   "source": [
    "# Experiment Results\n",
    "\n",
    "This notebooks shows the results from the experiments. The results are read from the log files. Their path has to be defined in the following cell."
   ]
  },
  {
   "cell_type": "code",
   "execution_count": null,
   "metadata": {},
   "outputs": [],
   "source": [
    "import pandas as pd\n",
    "import plotly.express as px\n",
    "\n",
    "ERRORDETECTION_CUSTOM_DATASET = pd.read_csv(\"keep_logs/ed_customDataset\", index_col=False)\n",
    "ERRORDETECTION_PROMPTS = pd.read_csv(\"keep_logs/ed_prompts\", index_col=False)"
   ]
  },
  {
   "cell_type": "markdown",
   "metadata": {},
   "source": [
    "## Custom Dataset\n",
    "\n",
    "This experiment tests the performance of the model when detecting errors on a custom dataset."
   ]
  },
  {
   "cell_type": "code",
   "execution_count": null,
   "metadata": {},
   "outputs": [],
   "source": [
    "fig = px.box(ERRORDETECTION_CUSTOM_DATASET, y=\"Runtime\", color=\"Name\", title=\"Runtime\")\n",
    "fig.show()\n",
    "fig = px.box(ERRORDETECTION_CUSTOM_DATASET, y=\"F1\", color=\"Name\", title=\"F1\")\n",
    "fig.show()"
   ]
  },
  {
   "cell_type": "markdown",
   "metadata": {},
   "source": [
    "## Different prompts\n",
    "\n",
    "This experiment tests the performance of the model when detecting errors with different prompts."
   ]
  },
  {
   "cell_type": "code",
   "execution_count": null,
   "metadata": {},
   "outputs": [],
   "source": [
    "fig = px.box(ERRORDETECTION_PROMPTS, y=\"Runtime\", color=\"Name\", title=\"Runtime\")\n",
    "fig.show()\n",
    "fig = px.box(ERRORDETECTION_PROMPTS, y=\"F1\", color=\"Name\", title=\"F1\")\n",
    "fig.show()"
   ]
  }
 ],
 "metadata": {
  "kernelspec": {
   "display_name": "bdt",
   "language": "python",
   "name": "python3"
  },
  "language_info": {
   "codemirror_mode": {
    "name": "ipython",
    "version": 3
   },
   "file_extension": ".py",
   "mimetype": "text/x-python",
   "name": "python",
   "nbconvert_exporter": "python",
   "pygments_lexer": "ipython3",
   "version": "3.10.13"
  }
 },
 "nbformat": 4,
 "nbformat_minor": 2
}
