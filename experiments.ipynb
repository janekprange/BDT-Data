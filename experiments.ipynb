{
  "cells": [
    {
      "cell_type": "markdown",
      "metadata": {
        "id": "93O27az2E2Dh"
      },
      "source": [
        "# Setup\n",
        "\n",
        "The llama setup was moved to __experiment/setupExperiment.py__ inside the __init__() function."
      ]
    },
    {
      "cell_type": "markdown",
      "metadata": {
        "id": "IlciArfg-Cmu"
      },
      "source": [
        "## Load Data\n",
        "\n",
        "The loading and handling of the data sets is handled by the external DataSet class. This class provides access to all the datasets as datafames via their Subclasses, such as the Flights class. Each Subclass provides access to the data as DataFrames via the .get(Boolean) function. The Boolean controls whether the dirty or clean set should be returned.\n",
        "\n",
        "Each DataSet Subclass also provides the following functionalities:\n",
        "* random_sample(amount) generates two DataFrames, a dirty set and a clean set, of the given size with random (non-duplicate) sample rows.\n",
        "* generate_examples(column_id, amount) generates an example string of 'amount' random sample rows. Whether or not there is an error in the column of the given id is appended as well. \n"
      ]
    },
    {
      "cell_type": "code",
      "execution_count": 8,
      "metadata": {},
      "outputs": [
        {
          "name": "stderr",
          "output_type": "stream",
          "text": [
            "from_string grammar:\n",
            "\n"
          ]
        },
        {
          "name": "stdout",
          "output_type": "stream",
          "text": [
            "root ::= root_1 \n",
            "root_1 ::= [Y] [e] [s] | [N] [o] \n",
            "  src           flight sched_dep_time act_dep_time        sched_arr_time  \\\n",
            "0  aa  AA-3859-IAH-ORD      7:10 a.m.    7:16 a.m.             9:40 a.m.   \n",
            "1  aa  AA-1733-ORD-PHX      7:45 p.m.    7:58 p.m.            10:30 p.m.   \n",
            "2  aa  AA-1640-MIA-MCO      6:30 p.m.          NaN             7:25 p.m.   \n",
            "3  aa   AA-518-MIA-JFK      6:40 a.m.    6:54 a.m.             9:25 a.m.   \n",
            "4  aa  AA-3756-ORD-SLC     12:15 p.m.   12:41 p.m.             2:45 p.m.   \n",
            "5  aa   AA-204-LAX-MCO     11:25 p.m.          NaN  12/02/2011 6:55 a.m.   \n",
            "6  aa  AA-3468-CVG-MIA      7:00 a.m.    7:25 a.m.             9:55 a.m.   \n",
            "7  aa   AA-484-DFW-MIA      4:15 p.m.    4:29 p.m.             7:55 p.m.   \n",
            "8  aa   AA-446-DFW-PHL     11:50 a.m.   12:12 p.m.             3:50 p.m.   \n",
            "9  aa   AA-466-IAH-MIA      6:00 a.m.    6:08 a.m.             9:20 a.m.   \n",
            "\n",
            "  act_arr_time  \n",
            "0    9:32 a.m.  \n",
            "1          NaN  \n",
            "2          NaN  \n",
            "3    9:28 a.m.  \n",
            "4    2:50 p.m.  \n",
            "5          NaN  \n",
            "6    9:45 a.m.  \n",
            "7    7:39 p.m.  \n",
            "8    4:09 p.m.  \n",
            "9    9:05 a.m.  \n"
          ]
        }
      ],
      "source": [
        "from experiment.errorDetection import Flights, Food, Hospital\n",
        "data = Flights().get(True)\n",
        "print(data[:10])"
      ]
    },
    {
      "cell_type": "code",
      "execution_count": 9,
      "metadata": {},
      "outputs": [
        {
          "name": "stdout",
          "output_type": "stream",
          "text": [
            "                src           flight sched_dep_time     act_dep_time  \\\n",
            "584     flightstats  CO-1193-EWR-MCO      9:15 a.m.        9:14 a.m.   \n",
            "891         flights  AA-2268-PHX-ORD      7:15 a.m.        7:22 a.m.   \n",
            "1788  flylouisville  AA-1664-MIA-ATL     10:15 a.m.       10:18 a.m.   \n",
            "1456           ifly  AA-3756-ORD-SLC     12:15 p.m.       12:41 p.m.   \n",
            "28               aa  AA-1221-MCO-ORD      8:00 p.m.        8:23 p.m.   \n",
            "1753             ua  UA-2314-ATL-PHL      2:55 p.m.        2:55 p.m.   \n",
            "457      flightview  AA-1886-BOS-MIA            NaN       10:55 a.m.   \n",
            "616     flightstats  AA-4277-CVG-JFK     12:10 p.m.       12:10 p.m.   \n",
            "1435             CO    CO-62-IAH-EWR      2:30 p.m.        2:48 p.m.   \n",
            "1063    travelocity  UA-3099-PHX-PHL     11:55 a.m.  Contact Airline   \n",
            "\n",
            "     sched_arr_time     act_arr_time  \n",
            "584      12:18 p.m.       12:09 p.m.  \n",
            "891      11:35 a.m.       11:06 a.m.  \n",
            "1788     12:10 p.m.       11:56 a.m.  \n",
            "1456      2:45 p.m.        2:50 p.m.  \n",
            "28        9:45 p.m.        9:53 p.m.  \n",
            "1753      5:00 p.m.        4:47 p.m.  \n",
            "457             NaN        1:40 p.m.  \n",
            "616       2:15 p.m.        1:43 p.m.  \n",
            "1435      7:03 p.m.        7:10 p.m.  \n",
            "1063      6:17 p.m.  Contact Airline  \n",
            "----\n",
            "                src           flight sched_dep_time act_dep_time  \\\n",
            "584     flightstats  CO-1193-EWR-MCO      9:15 a.m.    9:14 a.m.   \n",
            "891         flights  AA-2268-PHX-ORD      7:15 a.m.    7:22 a.m.   \n",
            "1788  flylouisville  AA-1664-MIA-ATL     10:15 a.m.   10:18 a.m.   \n",
            "1456           ifly  AA-3756-ORD-SLC     12:15 p.m.   12:41 p.m.   \n",
            "28               aa  AA-1221-MCO-ORD      8:00 p.m.    8:23 p.m.   \n",
            "1753             ua  UA-2314-ATL-PHL      2:55 p.m.    2:55 p.m.   \n",
            "457      flightview  AA-1886-BOS-MIA     10:45 a.m.   10:55 a.m.   \n",
            "616     flightstats  AA-4277-CVG-JFK     12:10 p.m.   12:10 p.m.   \n",
            "1435             CO    CO-62-IAH-EWR      2:30 p.m.    2:48 p.m.   \n",
            "1063    travelocity  UA-3099-PHX-PHL     11:55 a.m.   11:55 a.m.   \n",
            "\n",
            "     sched_arr_time act_arr_time  \n",
            "584      12:18 p.m.   12:09 p.m.  \n",
            "891      11:35 a.m.   11:06 a.m.  \n",
            "1788     12:10 p.m.   11:56 a.m.  \n",
            "1456      2:45 p.m.    2:50 p.m.  \n",
            "28        9:45 p.m.    9:53 p.m.  \n",
            "1753      5:00 p.m.    4:47 p.m.  \n",
            "457       2:20 p.m.    1:40 p.m.  \n",
            "616       2:15 p.m.    1:43 p.m.  \n",
            "1435      7:03 p.m.    7:10 p.m.  \n",
            "1063      6:17 p.m.    5:38 p.m.  \n"
          ]
        }
      ],
      "source": [
        "dirty, clean = Flights().random_sample_with_quota(10, dirty_amount=2)\n",
        "print(dirty)\n",
        "print(\"----\")\n",
        "print(clean)"
      ]
    },
    {
      "cell_type": "code",
      "execution_count": 10,
      "metadata": {},
      "outputs": [
        {
          "ename": "FileExistsError",
          "evalue": "The directory 'keep_logs/duplicateDetection_fewshot' already exists.",
          "output_type": "error",
          "traceback": [
            "\u001b[0;31m---------------------------------------------------------------------------\u001b[0m",
            "\u001b[0;31mFileExistsError\u001b[0m                           Traceback (most recent call last)",
            "Cell \u001b[0;32mIn[10], line 18\u001b[0m\n\u001b[1;32m     11\u001b[0m     \u001b[38;5;28;01mfor\u001b[39;00m iteration \u001b[38;5;129;01min\u001b[39;00m \u001b[38;5;28mrange\u001b[39m(n_iterations):\n\u001b[1;32m     12\u001b[0m         dd\u001b[38;5;241m.\u001b[39mfew_shot(\n\u001b[1;32m     13\u001b[0m             n_samples\u001b[38;5;241m=\u001b[39mN_ROWS,\n\u001b[1;32m     14\u001b[0m             rows_with_duplicates\u001b[38;5;241m=\u001b[39mN_DUPLICATES,\n\u001b[1;32m     15\u001b[0m             multiple_duplicate_chance\u001b[38;5;241m=\u001b[39mCHANCE_MULTIPLE_DUPLICATES,\n\u001b[1;32m     16\u001b[0m             experiment_name\u001b[38;5;241m=\u001b[39m\u001b[38;5;124mf\u001b[39m\u001b[38;5;124m\"\u001b[39m\u001b[38;5;124mNoGrammar-\u001b[39m\u001b[38;5;132;01m{\u001b[39;00miteration\u001b[38;5;132;01m}\u001b[39;00m\u001b[38;5;124m\"\u001b[39m,\n\u001b[1;32m     17\u001b[0m         )\n\u001b[0;32m---> 18\u001b[0m \u001b[43mtest_duplicateDetection\u001b[49m\u001b[43m(\u001b[49m\u001b[38;5;124;43m\"\u001b[39;49m\u001b[38;5;124;43mkeep_logs/duplicateDetection_fewshot\u001b[39;49m\u001b[38;5;124;43m\"\u001b[39;49m\u001b[43m)\u001b[49m\n",
            "Cell \u001b[0;32mIn[10], line 9\u001b[0m, in \u001b[0;36mtest_duplicateDetection\u001b[0;34m(logging_path, n_iterations)\u001b[0m\n\u001b[1;32m      7\u001b[0m CHANCE_MULTIPLE_DUPLICATES \u001b[38;5;241m=\u001b[39m \u001b[38;5;241m0.3\u001b[39m\n\u001b[1;32m      8\u001b[0m \u001b[38;5;28;01mif\u001b[39;00m os\u001b[38;5;241m.\u001b[39mpath\u001b[38;5;241m.\u001b[39mexists(logging_path):\n\u001b[0;32m----> 9\u001b[0m     \u001b[38;5;28;01mraise\u001b[39;00m \u001b[38;5;167;01mFileExistsError\u001b[39;00m(\u001b[38;5;124mf\u001b[39m\u001b[38;5;124m\"\u001b[39m\u001b[38;5;124mThe directory \u001b[39m\u001b[38;5;124m'\u001b[39m\u001b[38;5;132;01m{\u001b[39;00mlogging_path\u001b[38;5;132;01m}\u001b[39;00m\u001b[38;5;124m'\u001b[39m\u001b[38;5;124m already exists.\u001b[39m\u001b[38;5;124m\"\u001b[39m)\n\u001b[1;32m     10\u001b[0m dd \u001b[38;5;241m=\u001b[39m DuplicateDetection(Affiliation(), logging_path\u001b[38;5;241m=\u001b[39mlogging_path)\n\u001b[1;32m     11\u001b[0m \u001b[38;5;28;01mfor\u001b[39;00m iteration \u001b[38;5;129;01min\u001b[39;00m \u001b[38;5;28mrange\u001b[39m(n_iterations):\n",
            "\u001b[0;31mFileExistsError\u001b[0m: The directory 'keep_logs/duplicateDetection_fewshot' already exists."
          ]
        }
      ],
      "source": [
        "from experiment.duplicateDetection import DuplicateDetection, Affiliation\n",
        "import os \n",
        "\n",
        "def test_duplicateDetection(logging_path: str, n_iterations=3):\n",
        "    N_ROWS = 5\n",
        "    N_DUPLICATES = 2\n",
        "    CHANCE_MULTIPLE_DUPLICATES = 0.3\n",
        "    if os.path.exists(logging_path):\n",
        "        raise FileExistsError(f\"The directory '{logging_path}' already exists.\")\n",
        "    dd = DuplicateDetection(Affiliation(), logging_path=logging_path)\n",
        "    for iteration in range(n_iterations):\n",
        "        dd.few_shot(\n",
        "            n_samples=N_ROWS,\n",
        "            rows_with_duplicates=N_DUPLICATES,\n",
        "            multiple_duplicate_chance=CHANCE_MULTIPLE_DUPLICATES,\n",
        "            experiment_name=f\"NoGrammar-{iteration}\",\n",
        "        )\n",
        "test_duplicateDetection(\"keep_logs/duplicateDetection_fewshot\")"
      ]
    },
    {
      "cell_type": "code",
      "execution_count": null,
      "metadata": {},
      "outputs": [],
      "source": [
        "print(Food().generate_examples(0, 3))"
      ]
    },
    {
      "cell_type": "markdown",
      "metadata": {
        "id": "opz-g210d__2"
      },
      "source": [
        "## Prompt Table Zero Shot\n",
        "The following examples show how to first initialise the experiment and then how to prompt llama for error detection using our external, dedicated python ErrorDetection class. The whole creation of the llama model is inside the construction of the ErrorDetectionModel."
      ]
    },
    {
      "cell_type": "code",
      "execution_count": null,
      "metadata": {
        "id": "UOLl3bUHeHSn"
      },
      "outputs": [],
      "source": [
        "from experiment.errorDetection import ErrorDetection\n",
        "ed = ErrorDetection(dataset=Flights())"
      ]
    },
    {
      "cell_type": "code",
      "execution_count": null,
      "metadata": {},
      "outputs": [],
      "source": [
        "%%capture --no-stdout --no-display\n",
        "\n",
        "ed.zero_shot(n_samples=2, grammar=ErrorDetection.GRAMMAR_YES_OR_NO)"
      ]
    },
    {
      "cell_type": "code",
      "execution_count": null,
      "metadata": {
        "id": "gEsYdHUsbOp-"
      },
      "outputs": [],
      "source": [
        "%%capture --no-stdout --no-display\n",
        "\n",
        "ed.few_shot(n_samples=2, grammar=ErrorDetection.GRAMMAR_YES_OR_NO)"
      ]
    },
    {
      "cell_type": "markdown",
      "metadata": {
        "id": "1Zu1nwsmFm4w"
      },
      "source": [
        "# Experiments (Setup)\n",
        "\n",
        "This is how we conduct the time and score peformance experiments for error detection on the three main datasets: Flights, Food and Hospital."
      ]
    },
    {
      "cell_type": "code",
      "execution_count": null,
      "metadata": {},
      "outputs": [],
      "source": [
        "from experiment.errorDetection import ErrorDetection\n",
        "\n",
        "# maximum number of rows that will be evaluated\n",
        "MAXIMUM_ROW_COUNT = 10 \n",
        "# print debug messages such as the prompts and responses\n",
        "DEBUG_MESSAGES = True \n",
        "\n",
        "error_detection_flights = ErrorDetection(dataset=Flights())\n",
        "error_detection_food = ErrorDetection(dataset=Food())\n",
        "error_detection_hospital = ErrorDetection(dataset=Hospital())"
      ]
    },
    {
      "cell_type": "markdown",
      "metadata": {
        "id": "VZyaZxHoD6MQ"
      },
      "source": [
        "## Flight Test\n",
        "Let's first compute the F1 score of Llama resposes by zero-shotting a sample of `MAXIMUM_ROW_COUNT` amount of random rows of the flight table.\n",
        "\n",
        "For perspective: Prompting a single row (6 attributes in this case) took around 32.192 seconds in one case and around 5.017 in another. It varies quite a bit."
      ]
    },
    {
      "cell_type": "code",
      "execution_count": null,
      "metadata": {
        "id": "vSegEftIghjC"
      },
      "outputs": [],
      "source": [
        "flights_zero_shot_time, flights_zero_shot_score = error_detection_flights.zero_shot(n_samples=MAXIMUM_ROW_COUNT, grammar=ErrorDetection.GRAMMAR_YES_OR_NO)\n",
        "print(f'Time: %s, f1-score: %s'%(flights_zero_shot_time, flights_zero_shot_score))"
      ]
    },
    {
      "cell_type": "markdown",
      "metadata": {},
      "source": [
        "Now the same experiment with few-shotting."
      ]
    },
    {
      "cell_type": "code",
      "execution_count": null,
      "metadata": {
        "colab": {
          "base_uri": "https://localhost:8080/",
          "height": 49,
          "referenced_widgets": [
            "9d44840150934f83abada9fff846cde4",
            "d2d754e3beb1475797fefdfc9158f191",
            "0b2cf038ae21412eabfe39c512a200a5"
          ]
        },
        "id": "YEM1GBE1FXTY",
        "outputId": "79e54310-4322-4ed8-c58f-a919e8d30ac6"
      },
      "outputs": [],
      "source": [
        "flights_few_shot_time, flights_few_shot_score = error_detection_flights.few_shot(n_samples=MAXIMUM_ROW_COUNT, example_count=2, grammar=ErrorDetection.GRAMMAR_YES_OR_NO)\n",
        "print(f'Time: %s, f1-score: %s'%(flights_few_shot_time, flights_few_shot_score))"
      ]
    },
    {
      "cell_type": "markdown",
      "metadata": {
        "id": "Ox9Kn0ArI6zY"
      },
      "source": [
        "# Food Test\n",
        "\n",
        "Next we conduct the same experiment on the Food dataset and we again start with zero-shot. \n",
        "\n",
        "For perspective: A single row (16 attributes) took around 137.798 seconds."
      ]
    },
    {
      "cell_type": "code",
      "execution_count": null,
      "metadata": {
        "id": "DRvVEdHGJPWj"
      },
      "outputs": [],
      "source": [
        "food_zero_shot_time, food_zero_shot_score = error_detection_food.zero_shot(n_samples=MAXIMUM_ROW_COUNT, grammar=ErrorDetection.GRAMMAR_YES_OR_NO)\n",
        "print(f'Time: %s, f1-score: %s'%(food_zero_shot_time, food_zero_shot_score))"
      ]
    },
    {
      "cell_type": "markdown",
      "metadata": {
        "id": "a294YsxsEu4f"
      },
      "source": [
        "Next up is few shot on this dataset."
      ]
    },
    {
      "cell_type": "code",
      "execution_count": null,
      "metadata": {
        "id": "RyMM22E-Eltp"
      },
      "outputs": [],
      "source": [
        "food_few_shot_time, food_few_shot_score = error_detection_food.few_shot(n_samples=MAXIMUM_ROW_COUNT, example_count=2, grammar=ErrorDetection.GRAMMAR_YES_OR_NO)\n",
        "print(f'Time: %s, f1-score: %s'%(food_few_shot_time, food_few_shot_score))"
      ]
    },
    {
      "cell_type": "markdown",
      "metadata": {
        "id": "DqspqZSuJNGm"
      },
      "source": [
        "# Hostpital Test\n",
        "Finally, we conduct the exact same experiment again, but this time on the Hospital dataset.\n",
        "\n",
        "For perspective: A single row (19 attributes) took around 221.656 seconds."
      ]
    },
    {
      "cell_type": "code",
      "execution_count": null,
      "metadata": {
        "id": "BunaTkQQJJJQ"
      },
      "outputs": [],
      "source": [
        "hospital_zero_shot_time, hospital_zero_shot_score = error_detection_hospital.zero_shot(n_samples=MAXIMUM_ROW_COUNT, grammar=ErrorDetection.GRAMMAR_YES_OR_NO)\n",
        "print(f'Time: %s, f1-score: %s'%(hospital_zero_shot_time, hospital_zero_shot_score))"
      ]
    },
    {
      "cell_type": "markdown",
      "metadata": {
        "id": "bZsJviBtFBuF"
      },
      "source": [
        "And now few-shot."
      ]
    },
    {
      "cell_type": "code",
      "execution_count": null,
      "metadata": {
        "id": "sZXIESzTERXd"
      },
      "outputs": [],
      "source": [
        "hospital_few_shot_time, hospital_few_shot_score = error_detection_hospital.few_shot(n_samples=MAXIMUM_ROW_COUNT, example_count=2, grammar=ErrorDetection.GRAMMAR_YES_OR_NO)\n",
        "print(f'Time: %s, f1-score: %s'%(hospital_few_shot_time, hospital_few_shot_score))"
      ]
    },
    {
      "cell_type": "markdown",
      "metadata": {},
      "source": [
        "# Custom Datasets\n",
        "\n",
        "It is also possible to run error detection prompts on custom data. To do so we first need to create the appropriate datasets for the queries and the ground truth as dataframes. The following two code cells highlight one way to achieve this first step."
      ]
    },
    {
      "cell_type": "code",
      "execution_count": null,
      "metadata": {},
      "outputs": [],
      "source": [
        "import pandas as pd\n",
        "\n",
        "dirty_data = [[\"England\", \"Kyoto\"], [\"USA\", \"Miami\"], [\"Spain\", \"Paris\"], [\"Japan\", \"Kyoto\"], [\"Germany\", \"Hanover\"], [\"Netherlands\", \"Groningen\"], [\"Turkey\", \"xyz\"], [\"South Africa\", \"Queenstown\"], [\"USA\", \"Queens\"], [\"China\", \"Dubai\"], [\"Egypt\", \"New Cairo\"], [\"Mali\", \"Casablanca\"]] \n",
        "dirty_dataframe = pd.DataFrame(dirty_data, columns=[\"Country\", \"City\"]) \n",
        "dirty_dataframe"
      ]
    },
    {
      "cell_type": "code",
      "execution_count": null,
      "metadata": {},
      "outputs": [],
      "source": [
        "clean_data = [[\"England\", \"Greenwich\"], [\"USA\", \"Miami\"], [\"Spain\", \"Barcelona\"], [\"Japan\", \"Kyoto\"], [\"Germany\", \"Hannover\"], [\"Netherlands\", \"Groningen\"], [\"Turkey\", \"Istanbul\"], [\"South Africa\", \"Queenstown\"], [\"USA\", \"Queens\"], [\"China\", \"Shanghai\"], [\"Egypt\", \"New Cairo\"], [\"Mali\", \"Bamako\"]] \n",
        "clean_dataframe = pd.DataFrame(clean_data, columns=[\"Country\", \"City\"]) \n",
        "clean_dataframe"
      ]
    },
    {
      "cell_type": "markdown",
      "metadata": {},
      "source": [
        "With the dataframes ready it is time to create the dataset object used to run the experiment."
      ]
    },
    {
      "cell_type": "code",
      "execution_count": null,
      "metadata": {},
      "outputs": [],
      "source": [
        "from experiment.errorDetection import CustomDataSet\n",
        "\n",
        "custom_data_set = CustomDataSet(dirty_dataframe, clean_dataframe, \"Cities\")\n",
        "\n",
        "from experiment.errorDetection import ErrorDetection\n",
        "\n",
        "error_detection_cities = ErrorDetection(dataset=custom_data_set)"
      ]
    },
    {
      "cell_type": "markdown",
      "metadata": {},
      "source": [
        "Finally, let's try our custom error detection out! The prompts used, the examples generated and llamas responses are all logged and can be viewed in logs/[timestamp]/experiments-results.csv for the results or logs/[timestamp]/responses/[id].json for the prompts and responses. Pro tip: format the json file (using alt+shift+f) to read it."
      ]
    },
    {
      "cell_type": "code",
      "execution_count": null,
      "metadata": {},
      "outputs": [],
      "source": [
        "# zero shot\n",
        "cities_zero_shot_time, cities_zero_shot_score = error_detection_cities.zero_shot(n_samples=1)\n",
        "print(f'Time: %s, f1-score: %s'%(cities_zero_shot_time, cities_zero_shot_score))"
      ]
    },
    {
      "cell_type": "code",
      "execution_count": null,
      "metadata": {},
      "outputs": [],
      "source": [
        "# few shot\n",
        "cities_few_shot_time, cities_few_shot_score = error_detection_cities.few_shot(n_samples=1, example_count=2)\n",
        "print(f'Time: %s, f1-score: %s'%(cities_few_shot_time, cities_few_shot_score))"
      ]
    },
    {
      "cell_type": "markdown",
      "metadata": {},
      "source": [
        "# Our Custom Dataset\n",
        "\n",
        "We have our own expanded custom datasets with custom examples to generate example strings from."
      ]
    },
    {
      "cell_type": "code",
      "execution_count": 1,
      "metadata": {},
      "outputs": [
        {
          "data": {
            "text/html": [
              "<div>\n",
              "<style scoped>\n",
              "    .dataframe tbody tr th:only-of-type {\n",
              "        vertical-align: middle;\n",
              "    }\n",
              "\n",
              "    .dataframe tbody tr th {\n",
              "        vertical-align: top;\n",
              "    }\n",
              "\n",
              "    .dataframe thead th {\n",
              "        text-align: right;\n",
              "    }\n",
              "</style>\n",
              "<table border=\"1\" class=\"dataframe\">\n",
              "  <thead>\n",
              "    <tr style=\"text-align: right;\">\n",
              "      <th></th>\n",
              "      <th>Country</th>\n",
              "      <th>City</th>\n",
              "      <th>Population</th>\n",
              "      <th>ISO 3166-1 Alpha3 Code</th>\n",
              "    </tr>\n",
              "  </thead>\n",
              "  <tbody>\n",
              "    <tr>\n",
              "      <th>0</th>\n",
              "      <td>England</td>\n",
              "      <td>Greenwich</td>\n",
              "      <td>63500</td>\n",
              "      <td>GBR</td>\n",
              "    </tr>\n",
              "    <tr>\n",
              "      <th>1</th>\n",
              "      <td>United States of America</td>\n",
              "      <td>Miami</td>\n",
              "      <td>436000</td>\n",
              "      <td>USA</td>\n",
              "    </tr>\n",
              "    <tr>\n",
              "      <th>2</th>\n",
              "      <td>Spain</td>\n",
              "      <td>Barcelona</td>\n",
              "      <td>5850000</td>\n",
              "      <td>ESP</td>\n",
              "    </tr>\n",
              "    <tr>\n",
              "      <th>3</th>\n",
              "      <td>Japan</td>\n",
              "      <td>Kyoto</td>\n",
              "      <td>1460000</td>\n",
              "      <td>JPN</td>\n",
              "    </tr>\n",
              "    <tr>\n",
              "      <th>4</th>\n",
              "      <td>Philippines</td>\n",
              "      <td>Manila</td>\n",
              "      <td>13500000</td>\n",
              "      <td>PHL</td>\n",
              "    </tr>\n",
              "    <tr>\n",
              "      <th>5</th>\n",
              "      <td>Germany</td>\n",
              "      <td>Hannover</td>\n",
              "      <td>538000</td>\n",
              "      <td>DEU</td>\n",
              "    </tr>\n",
              "    <tr>\n",
              "      <th>6</th>\n",
              "      <td>Netherlands</td>\n",
              "      <td>Groningen</td>\n",
              "      <td>235000</td>\n",
              "      <td>NLD</td>\n",
              "    </tr>\n",
              "    <tr>\n",
              "      <th>7</th>\n",
              "      <td>Türkiye</td>\n",
              "      <td>Istanbul</td>\n",
              "      <td>15800000</td>\n",
              "      <td>TUR</td>\n",
              "    </tr>\n",
              "    <tr>\n",
              "      <th>8</th>\n",
              "      <td>South Africa</td>\n",
              "      <td>Queenstown</td>\n",
              "      <td>68900</td>\n",
              "      <td>ZAF</td>\n",
              "    </tr>\n",
              "    <tr>\n",
              "      <th>9</th>\n",
              "      <td>United States of America</td>\n",
              "      <td>Phoenix</td>\n",
              "      <td>1650000</td>\n",
              "      <td>USA</td>\n",
              "    </tr>\n",
              "    <tr>\n",
              "      <th>10</th>\n",
              "      <td>China</td>\n",
              "      <td>Shanghai</td>\n",
              "      <td>29200000</td>\n",
              "      <td>CHN</td>\n",
              "    </tr>\n",
              "    <tr>\n",
              "      <th>11</th>\n",
              "      <td>Hungary</td>\n",
              "      <td>Budapest</td>\n",
              "      <td>1760000</td>\n",
              "      <td>HUN</td>\n",
              "    </tr>\n",
              "    <tr>\n",
              "      <th>12</th>\n",
              "      <td>Egypt</td>\n",
              "      <td>New Cairo</td>\n",
              "      <td>297000</td>\n",
              "      <td>EGY</td>\n",
              "    </tr>\n",
              "    <tr>\n",
              "      <th>13</th>\n",
              "      <td>Mali</td>\n",
              "      <td>Bamako</td>\n",
              "      <td>2930000</td>\n",
              "      <td>MLI</td>\n",
              "    </tr>\n",
              "    <tr>\n",
              "      <th>14</th>\n",
              "      <td>Nigeria</td>\n",
              "      <td>Lagos</td>\n",
              "      <td>13500000</td>\n",
              "      <td>NGA</td>\n",
              "    </tr>\n",
              "    <tr>\n",
              "      <th>15</th>\n",
              "      <td>Mexico</td>\n",
              "      <td>Guadalajara</td>\n",
              "      <td>5040000</td>\n",
              "      <td>MEX</td>\n",
              "    </tr>\n",
              "    <tr>\n",
              "      <th>16</th>\n",
              "      <td>Thailand</td>\n",
              "      <td>Hat Yai</td>\n",
              "      <td>149000</td>\n",
              "      <td>THA</td>\n",
              "    </tr>\n",
              "    <tr>\n",
              "      <th>17</th>\n",
              "      <td>United Arab Emirates</td>\n",
              "      <td>Dubai</td>\n",
              "      <td>3140000</td>\n",
              "      <td>ARE</td>\n",
              "    </tr>\n",
              "    <tr>\n",
              "      <th>18</th>\n",
              "      <td>Ireland</td>\n",
              "      <td>Dublin</td>\n",
              "      <td>1345402</td>\n",
              "      <td>IRL</td>\n",
              "    </tr>\n",
              "    <tr>\n",
              "      <th>19</th>\n",
              "      <td>Greece</td>\n",
              "      <td>Athens</td>\n",
              "      <td>3150000</td>\n",
              "      <td>GRC</td>\n",
              "    </tr>\n",
              "  </tbody>\n",
              "</table>\n",
              "</div>"
            ],
            "text/plain": [
              "                     Country         City  Population ISO 3166-1 Alpha3 Code\n",
              "0                    England    Greenwich       63500                    GBR\n",
              "1   United States of America        Miami      436000                    USA\n",
              "2                      Spain    Barcelona     5850000                    ESP\n",
              "3                      Japan        Kyoto     1460000                    JPN\n",
              "4                Philippines       Manila    13500000                    PHL\n",
              "5                    Germany     Hannover      538000                    DEU\n",
              "6                Netherlands    Groningen      235000                    NLD\n",
              "7                    Türkiye     Istanbul    15800000                    TUR\n",
              "8               South Africa   Queenstown       68900                    ZAF\n",
              "9   United States of America      Phoenix     1650000                    USA\n",
              "10                     China     Shanghai    29200000                    CHN\n",
              "11                   Hungary     Budapest     1760000                    HUN\n",
              "12                     Egypt    New Cairo      297000                    EGY\n",
              "13                      Mali       Bamako     2930000                    MLI\n",
              "14                   Nigeria        Lagos    13500000                    NGA\n",
              "15                    Mexico  Guadalajara     5040000                    MEX\n",
              "16                  Thailand      Hat Yai      149000                    THA\n",
              "17      United Arab Emirates        Dubai     3140000                    ARE\n",
              "18                   Ireland       Dublin     1345402                    IRL\n",
              "19                    Greece       Athens     3150000                    GRC"
            ]
          },
          "execution_count": 1,
          "metadata": {},
          "output_type": "execute_result"
        }
      ],
      "source": [
        "import pandas as pd\n",
        "\n",
        "clean_data = pd.read_csv(\"data/error_detection/custom/clean_dataframe.csv\")\n",
        "clean_data"
      ]
    },
    {
      "cell_type": "code",
      "execution_count": 2,
      "metadata": {},
      "outputs": [
        {
          "data": {
            "text/html": [
              "<div>\n",
              "<style scoped>\n",
              "    .dataframe tbody tr th:only-of-type {\n",
              "        vertical-align: middle;\n",
              "    }\n",
              "\n",
              "    .dataframe tbody tr th {\n",
              "        vertical-align: top;\n",
              "    }\n",
              "\n",
              "    .dataframe thead th {\n",
              "        text-align: right;\n",
              "    }\n",
              "</style>\n",
              "<table border=\"1\" class=\"dataframe\">\n",
              "  <thead>\n",
              "    <tr style=\"text-align: right;\">\n",
              "      <th></th>\n",
              "      <th>Country</th>\n",
              "      <th>City</th>\n",
              "      <th>Population</th>\n",
              "      <th>ISO 3166-1 Alpha3 Code</th>\n",
              "    </tr>\n",
              "  </thead>\n",
              "  <tbody>\n",
              "    <tr>\n",
              "      <th>0</th>\n",
              "      <td>England</td>\n",
              "      <td>Grenwich</td>\n",
              "      <td>63500</td>\n",
              "      <td>GBR</td>\n",
              "    </tr>\n",
              "    <tr>\n",
              "      <th>1</th>\n",
              "      <td>United States of America</td>\n",
              "      <td>Miami</td>\n",
              "      <td>436000</td>\n",
              "      <td>USA</td>\n",
              "    </tr>\n",
              "    <tr>\n",
              "      <th>2</th>\n",
              "      <td>Spain</td>\n",
              "      <td>Barcellona</td>\n",
              "      <td>5850000</td>\n",
              "      <td>ESP</td>\n",
              "    </tr>\n",
              "    <tr>\n",
              "      <th>3</th>\n",
              "      <td>Japan</td>\n",
              "      <td>Kyoto</td>\n",
              "      <td>1460000</td>\n",
              "      <td>JPN</td>\n",
              "    </tr>\n",
              "    <tr>\n",
              "      <th>4</th>\n",
              "      <td>Philippines</td>\n",
              "      <td>Manila</td>\n",
              "      <td>13500000</td>\n",
              "      <td>PHL</td>\n",
              "    </tr>\n",
              "    <tr>\n",
              "      <th>5</th>\n",
              "      <td>Germany</td>\n",
              "      <td>Hanover</td>\n",
              "      <td>538000</td>\n",
              "      <td>DEU</td>\n",
              "    </tr>\n",
              "    <tr>\n",
              "      <th>6</th>\n",
              "      <td>Netherlands</td>\n",
              "      <td>Groningen</td>\n",
              "      <td>235000</td>\n",
              "      <td>NLD</td>\n",
              "    </tr>\n",
              "    <tr>\n",
              "      <th>7</th>\n",
              "      <td>Türkiye</td>\n",
              "      <td>Istanbul</td>\n",
              "      <td>15800000</td>\n",
              "      <td>TUR</td>\n",
              "    </tr>\n",
              "    <tr>\n",
              "      <th>8</th>\n",
              "      <td>South Africa</td>\n",
              "      <td>Queenstown</td>\n",
              "      <td>68900</td>\n",
              "      <td>ZAF</td>\n",
              "    </tr>\n",
              "    <tr>\n",
              "      <th>9</th>\n",
              "      <td>United States of America</td>\n",
              "      <td>Phoenix</td>\n",
              "      <td>1650000</td>\n",
              "      <td>USA</td>\n",
              "    </tr>\n",
              "    <tr>\n",
              "      <th>10</th>\n",
              "      <td>China</td>\n",
              "      <td>Shanghai</td>\n",
              "      <td>29200000</td>\n",
              "      <td>CHN</td>\n",
              "    </tr>\n",
              "    <tr>\n",
              "      <th>11</th>\n",
              "      <td>Hunagry</td>\n",
              "      <td>Budapest</td>\n",
              "      <td>1760000</td>\n",
              "      <td>HUN</td>\n",
              "    </tr>\n",
              "    <tr>\n",
              "      <th>12</th>\n",
              "      <td>Ägypt</td>\n",
              "      <td>New Cairo</td>\n",
              "      <td>297000</td>\n",
              "      <td>EGY</td>\n",
              "    </tr>\n",
              "    <tr>\n",
              "      <th>13</th>\n",
              "      <td>Mali</td>\n",
              "      <td>Bamako</td>\n",
              "      <td>2930000</td>\n",
              "      <td>MLI</td>\n",
              "    </tr>\n",
              "    <tr>\n",
              "      <th>14</th>\n",
              "      <td>Nigerria</td>\n",
              "      <td>Lagas</td>\n",
              "      <td>13500000</td>\n",
              "      <td>NGA</td>\n",
              "    </tr>\n",
              "    <tr>\n",
              "      <th>15</th>\n",
              "      <td>Mexico</td>\n",
              "      <td>Guadalajara</td>\n",
              "      <td>5040000</td>\n",
              "      <td>MEX</td>\n",
              "    </tr>\n",
              "    <tr>\n",
              "      <th>16</th>\n",
              "      <td>Thailand</td>\n",
              "      <td>Hatyai</td>\n",
              "      <td>149000</td>\n",
              "      <td>THA</td>\n",
              "    </tr>\n",
              "    <tr>\n",
              "      <th>17</th>\n",
              "      <td>Unitedd Arab Emirates</td>\n",
              "      <td>Dubai</td>\n",
              "      <td>3140000</td>\n",
              "      <td>ARE</td>\n",
              "    </tr>\n",
              "    <tr>\n",
              "      <th>18</th>\n",
              "      <td>Ireland</td>\n",
              "      <td>Dublin</td>\n",
              "      <td>1345402</td>\n",
              "      <td>IRL</td>\n",
              "    </tr>\n",
              "    <tr>\n",
              "      <th>19</th>\n",
              "      <td>Greece</td>\n",
              "      <td>Athens</td>\n",
              "      <td>3150000</td>\n",
              "      <td>GRC</td>\n",
              "    </tr>\n",
              "  </tbody>\n",
              "</table>\n",
              "</div>"
            ],
            "text/plain": [
              "                     Country         City  Population ISO 3166-1 Alpha3 Code\n",
              "0                    England     Grenwich       63500                    GBR\n",
              "1   United States of America        Miami      436000                    USA\n",
              "2                      Spain   Barcellona     5850000                    ESP\n",
              "3                      Japan        Kyoto     1460000                    JPN\n",
              "4                Philippines       Manila    13500000                    PHL\n",
              "5                    Germany      Hanover      538000                    DEU\n",
              "6                Netherlands    Groningen      235000                    NLD\n",
              "7                    Türkiye     Istanbul    15800000                    TUR\n",
              "8               South Africa   Queenstown       68900                    ZAF\n",
              "9   United States of America      Phoenix     1650000                    USA\n",
              "10                     China     Shanghai    29200000                    CHN\n",
              "11                   Hunagry     Budapest     1760000                    HUN\n",
              "12                     Ägypt    New Cairo      297000                    EGY\n",
              "13                      Mali       Bamako     2930000                    MLI\n",
              "14                  Nigerria        Lagas    13500000                    NGA\n",
              "15                    Mexico  Guadalajara     5040000                    MEX\n",
              "16                  Thailand       Hatyai      149000                    THA\n",
              "17     Unitedd Arab Emirates        Dubai     3140000                    ARE\n",
              "18                   Ireland       Dublin     1345402                    IRL\n",
              "19                    Greece       Athens     3150000                    GRC"
            ]
          },
          "execution_count": 2,
          "metadata": {},
          "output_type": "execute_result"
        }
      ],
      "source": [
        "dirty_data = pd.read_csv(\"data/error_detection/custom/dirty_dataframe_typos.csv\")\n",
        "dirty_data"
      ]
    },
    {
      "cell_type": "markdown",
      "metadata": {},
      "source": [
        "As for the few examples:"
      ]
    },
    {
      "cell_type": "code",
      "execution_count": 3,
      "metadata": {},
      "outputs": [
        {
          "data": {
            "text/html": [
              "<div>\n",
              "<style scoped>\n",
              "    .dataframe tbody tr th:only-of-type {\n",
              "        vertical-align: middle;\n",
              "    }\n",
              "\n",
              "    .dataframe tbody tr th {\n",
              "        vertical-align: top;\n",
              "    }\n",
              "\n",
              "    .dataframe thead th {\n",
              "        text-align: right;\n",
              "    }\n",
              "</style>\n",
              "<table border=\"1\" class=\"dataframe\">\n",
              "  <thead>\n",
              "    <tr style=\"text-align: right;\">\n",
              "      <th></th>\n",
              "      <th>Country</th>\n",
              "      <th>City</th>\n",
              "      <th>Population</th>\n",
              "      <th>ISO 3166-1 Alpha3 Code</th>\n",
              "    </tr>\n",
              "  </thead>\n",
              "  <tbody>\n",
              "    <tr>\n",
              "      <th>0</th>\n",
              "      <td>Vietnam</td>\n",
              "      <td>Hanoi</td>\n",
              "      <td>8050000</td>\n",
              "      <td>VNM</td>\n",
              "    </tr>\n",
              "    <tr>\n",
              "      <th>1</th>\n",
              "      <td>New Zealand</td>\n",
              "      <td>Wellington</td>\n",
              "      <td>441000</td>\n",
              "      <td>NZL</td>\n",
              "    </tr>\n",
              "    <tr>\n",
              "      <th>2</th>\n",
              "      <td>Saint Lucia</td>\n",
              "      <td>Castries</td>\n",
              "      <td>20000</td>\n",
              "      <td>LCA</td>\n",
              "    </tr>\n",
              "    <tr>\n",
              "      <th>3</th>\n",
              "      <td>Uruguay</td>\n",
              "      <td>Montevideo</td>\n",
              "      <td>1950000</td>\n",
              "      <td>URY</td>\n",
              "    </tr>\n",
              "    <tr>\n",
              "      <th>4</th>\n",
              "      <td>Australia</td>\n",
              "      <td>Canberra</td>\n",
              "      <td>396000</td>\n",
              "      <td>AUS</td>\n",
              "    </tr>\n",
              "  </tbody>\n",
              "</table>\n",
              "</div>"
            ],
            "text/plain": [
              "       Country        City  Population ISO 3166-1 Alpha3 Code\n",
              "0      Vietnam       Hanoi     8050000                    VNM\n",
              "1  New Zealand  Wellington      441000                    NZL\n",
              "2  Saint Lucia    Castries       20000                    LCA\n",
              "3      Uruguay  Montevideo     1950000                    URY\n",
              "4    Australia    Canberra      396000                    AUS"
            ]
          },
          "execution_count": 3,
          "metadata": {},
          "output_type": "execute_result"
        }
      ],
      "source": [
        "examples_clean_data = pd.read_csv(\"data/error_detection/custom/examples_clean_dataframe.csv\")\n",
        "examples_clean_data"
      ]
    },
    {
      "cell_type": "code",
      "execution_count": 4,
      "metadata": {},
      "outputs": [
        {
          "data": {
            "text/html": [
              "<div>\n",
              "<style scoped>\n",
              "    .dataframe tbody tr th:only-of-type {\n",
              "        vertical-align: middle;\n",
              "    }\n",
              "\n",
              "    .dataframe tbody tr th {\n",
              "        vertical-align: top;\n",
              "    }\n",
              "\n",
              "    .dataframe thead th {\n",
              "        text-align: right;\n",
              "    }\n",
              "</style>\n",
              "<table border=\"1\" class=\"dataframe\">\n",
              "  <thead>\n",
              "    <tr style=\"text-align: right;\">\n",
              "      <th></th>\n",
              "      <th>Country</th>\n",
              "      <th>City</th>\n",
              "      <th>Population</th>\n",
              "      <th>ISO 3166-1 Alpha3 Code</th>\n",
              "    </tr>\n",
              "  </thead>\n",
              "  <tbody>\n",
              "    <tr>\n",
              "      <th>0</th>\n",
              "      <td>Vietnan</td>\n",
              "      <td>Hanoi</td>\n",
              "      <td>8050000</td>\n",
              "      <td>VNM</td>\n",
              "    </tr>\n",
              "    <tr>\n",
              "      <th>1</th>\n",
              "      <td>New Zealand</td>\n",
              "      <td>Wellington</td>\n",
              "      <td>441000</td>\n",
              "      <td>NZL</td>\n",
              "    </tr>\n",
              "    <tr>\n",
              "      <th>2</th>\n",
              "      <td>Saint Lucia</td>\n",
              "      <td>Castryes</td>\n",
              "      <td>20000</td>\n",
              "      <td>LCA</td>\n",
              "    </tr>\n",
              "    <tr>\n",
              "      <th>3</th>\n",
              "      <td>Uruguay</td>\n",
              "      <td>Montevideo</td>\n",
              "      <td>1950000</td>\n",
              "      <td>URY</td>\n",
              "    </tr>\n",
              "    <tr>\n",
              "      <th>4</th>\n",
              "      <td>Australia</td>\n",
              "      <td>Canberra</td>\n",
              "      <td>396000</td>\n",
              "      <td>AUS</td>\n",
              "    </tr>\n",
              "  </tbody>\n",
              "</table>\n",
              "</div>"
            ],
            "text/plain": [
              "       Country        City  Population ISO 3166-1 Alpha3 Code\n",
              "0      Vietnan       Hanoi     8050000                    VNM\n",
              "1  New Zealand  Wellington      441000                    NZL\n",
              "2  Saint Lucia    Castryes       20000                    LCA\n",
              "3      Uruguay  Montevideo     1950000                    URY\n",
              "4    Australia    Canberra      396000                    AUS"
            ]
          },
          "execution_count": 4,
          "metadata": {},
          "output_type": "execute_result"
        }
      ],
      "source": [
        "examples_dirty_data = pd.read_csv(\"data/error_detection/custom/examples_dataframe_typos.csv\")\n",
        "examples_dirty_data"
      ]
    },
    {
      "cell_type": "markdown",
      "metadata": {},
      "source": [
        "So let us start s small experiment!"
      ]
    },
    {
      "cell_type": "code",
      "execution_count": 5,
      "metadata": {},
      "outputs": [
        {
          "name": "stderr",
          "output_type": "stream",
          "text": [
            "from_string grammar:\n",
            "\n"
          ]
        },
        {
          "name": "stdout",
          "output_type": "stream",
          "text": [
            "root ::= root_1 \n",
            "root_1 ::= [Y] [e] [s] | [N] [o] \n"
          ]
        },
        {
          "data": {
            "application/vnd.jupyter.widget-view+json": {
              "model_id": "3d832d6886cb4e45a0c805c3f230718a",
              "version_major": 2,
              "version_minor": 0
            },
            "text/plain": [
              "Loading checkpoint shards:   0%|          | 0/2 [00:00<?, ?it/s]"
            ]
          },
          "metadata": {},
          "output_type": "display_data"
        }
      ],
      "source": [
        "from experiment.errorDetection import CustomDataSet\n",
        "\n",
        "custom_data_set = CustomDataSet(dirty_data, clean_data, \"Cities\")\n",
        "examples_custom_data_set = CustomDataSet(examples_dirty_data, examples_clean_data, \"Examples for Cities\")\n",
        "\n",
        "from experiment.errorDetection import ErrorDetection\n",
        "\n",
        "error_detection_expanded_cities = ErrorDetection(dataset=custom_data_set)"
      ]
    },
    {
      "cell_type": "code",
      "execution_count": 7,
      "metadata": {},
      "outputs": [
        {
          "name": "stderr",
          "output_type": "stream",
          "text": [
            "ErrorDetection (INFO):\tStarted few shot for 20 rows with 2 examples\n"
          ]
        },
        {
          "data": {
            "application/vnd.jupyter.widget-view+json": {
              "model_id": "da2614129d3248d994365d9586a1fba0",
              "version_major": 2,
              "version_minor": 0
            },
            "text/plain": [
              "IntProgress(value=0, description='Attributes Prompted ', max=80)"
            ]
          },
          "metadata": {},
          "output_type": "display_data"
        },
        {
          "name": "stderr",
          "output_type": "stream",
          "text": [
            "ErrorDetection (INFO):\tFinished  in 00:02:21\n"
          ]
        },
        {
          "name": "stdout",
          "output_type": "stream",
          "text": [
            "Time: 141.85657858848572, f1-score: 0.16438356164383564\n"
          ]
        }
      ],
      "source": [
        "import warnings\n",
        "warnings.filterwarnings('ignore')\n",
        "\n",
        "# few shot\n",
        "expanded_cities_few_shot_time, expanded_cities_few_shot_score = error_detection_expanded_cities.few_shot(\n",
        "    n_samples=20, custom_examples_dataset=examples_custom_data_set)\n",
        "print(f'Time: %s, f1-score: %s'%(expanded_cities_few_shot_time, expanded_cities_few_shot_score))"
      ]
    },
    {
      "cell_type": "code",
      "execution_count": 6,
      "metadata": {},
      "outputs": [
        {
          "name": "stderr",
          "output_type": "stream",
          "text": [
            "ErrorDetection (INFO):\tStarted zero shot for 20 rows\n"
          ]
        },
        {
          "data": {
            "application/vnd.jupyter.widget-view+json": {
              "model_id": "85080e7db9fd49029578cd71c4de114a",
              "version_major": 2,
              "version_minor": 0
            },
            "text/plain": [
              "IntProgress(value=0, description='Attributes Prompted ', max=80)"
            ]
          },
          "metadata": {},
          "output_type": "display_data"
        },
        {
          "name": "stderr",
          "output_type": "stream",
          "text": [
            "ErrorDetection (INFO):\tFinished  in 00:06:42\n"
          ]
        },
        {
          "name": "stdout",
          "output_type": "stream",
          "text": [
            "Time: 402.8859815597534, f1-score: 0.1904761904761905\n"
          ]
        }
      ],
      "source": [
        "import warnings\n",
        "warnings.filterwarnings('ignore')\n",
        "\n",
        "# zero shot\n",
        "expanded_cities_zero_shot_time, expanded_cities_zero_shot_score = error_detection_expanded_cities.zero_shot(\n",
        "    n_samples=20)\n",
        "print(f'Time: %s, f1-score: %s'%(expanded_cities_zero_shot_time, expanded_cities_zero_shot_score))"
      ]
    },
    {
      "cell_type": "markdown",
      "metadata": {},
      "source": [
        "# Custom Prompt\n",
        "\n",
        "You can also create custom prompts to test out on any datasets that you want. Make sure you include the following placeholders for each inference type:\n",
        "\n",
        "1. **attr** : The attribute you want to prompt\n",
        "2. **context** : The whole row\n",
        "3. **example** (only for Few-Shot) : The example rows for the model\n",
        "\n",
        "**!! Due to formatting specifications on our side, the placeholders must follow the names given exactly !!**\n",
        "\n",
        "## Defaults\n",
        "Zero-Shot: \"Is there an error in {attr}?\\n{context}?\" \\\n",
        "Few-Shot : \"Is there an error in {attr}?\\n\\n{example}\\n\\n{context}?\""
      ]
    },
    {
      "cell_type": "code",
      "execution_count": null,
      "metadata": {},
      "outputs": [],
      "source": [
        "custom_prompt_zero_shot = \"First take a deep breath. Is there an error in {attr}?\\n{context}?\"\n",
        "custom_prompt_few_shot = \"First take a deep breath. Is there an error in {attr}?\\n\\n{example}\\n\\n{context}\"\n",
        "\n",
        "# zero shot\n",
        "cities_zero_shot_time, cities_zero_shot_score = error_detection_cities.zero_shot(n_samples=1, prompt_template=custom_prompt_zero_shot)\n",
        "# few shot\n",
        "cities_few_shot_time, cities_few_shot_score = error_detection_cities.few_shot(n_samples=1, example_count=1, prompt_template=custom_prompt_few_shot)"
      ]
    },
    {
      "cell_type": "code",
      "execution_count": null,
      "metadata": {},
      "outputs": [],
      "source": [
        "# zero shot\n",
        "print(f'Time: %s, f1-score: %s'%(cities_zero_shot_time, cities_zero_shot_score))\n",
        "# few shot\n",
        "print(f'Time: %s, f1-score: %s'%(cities_few_shot_time, cities_few_shot_score))"
      ]
    },
    {
      "cell_type": "markdown",
      "metadata": {},
      "source": [
        "# Evaluation\n",
        "\n",
        "\n",
        "<!-- Finally, you can display your results in Plotly Express diagrams. All you have to do is save your results and use them in the following code block. Good luck! -->\n",
        "To evaluate the results, we ran each inference type multiple times to obtain a stable set of data points. You can change the parameters if you want:\n",
        "\n",
        "1. **ITERATION_AMOUNT** : How often the experiment should be carried out\n",
        "2. **MAXIMUM_ROW_COUNT** : The amount of rows for each experiment"
      ]
    },
    {
      "cell_type": "code",
      "execution_count": null,
      "metadata": {},
      "outputs": [],
      "source": [
        "ITERATION_AMOUNT = 10\n",
        "MAXIMUM_ROW_COUNT = 2\n",
        "\n",
        "results = pd.DataFrame([], columns=[\"Dataset\", \"Type\", \"Time\", \"F1-Score\"])\n",
        "for i in range(ITERATION_AMOUNT):\n",
        "        runtime_zeroshot, f1_zeroshot = error_detection_cities.zero_shot(\n",
        "        prompt_template=custom_prompt_zero_shot,\n",
        "        n_samples=MAXIMUM_ROW_COUNT,\n",
        "        log_id=f\"_p1_{i}\",\n",
        "        )\n",
        "\n",
        "        runtime_fewshot, f1_fewshot = error_detection_cities.few_shot(\n",
        "        prompt_template=custom_prompt_few_shot,\n",
        "        n_samples=MAXIMUM_ROW_COUNT,\n",
        "        log_id=f\"_p1_{i}\",\n",
        "        )\n",
        "        \n",
        "        zero_res = pd.DataFrame(\n",
        "            [[\"Cities\", \"ZS\", runtime_zeroshot, f1_zeroshot]],\n",
        "            columns=[\"Dataset\", \"Type\", \"Time\", \"F1-Score\"],\n",
        "        )\n",
        "        few_res = pd.DataFrame(\n",
        "            [[\"Cities\", \"FS\", runtime_fewshot, f1_fewshot]],\n",
        "            columns=[\"Dataset\", \"Type\", \"Time\", \"F1-Score\"],\n",
        "        )\n",
        "\n",
        "        results = pd.concat([results, zero_res, few_res], ignore_index=True)"
      ]
    },
    {
      "cell_type": "markdown",
      "metadata": {},
      "source": [
        "## Graphs\n",
        "\n",
        "We then presented the results in box plots. The top graph shows the time required for each experiment and the lower shows the f1 score achieved for each experiment.\n",
        "You can also interact with each one. (e.g. Zoom in)"
      ]
    },
    {
      "cell_type": "code",
      "execution_count": null,
      "metadata": {},
      "outputs": [],
      "source": [
        "import plotly.graph_objects as go\n",
        "import plotly.express as px\n",
        "\n",
        "flightData = pd.read_csv('./analysis/data/flight_10_5.csv')\n",
        "flightData = flightData.sort_values(['Dataset', 'Type'], ascending=[True, True])\n",
        "flightData.Time = flightData.Time / 60\n",
        "\n",
        "fig = go.Figure()\n",
        "fig = px.box(flightData, y = \"Time\", color = \"Type\")\n",
        "fig.show()\n",
        "fig = px.box(flightData, y = \"F1-Score\", color = \"Type\")\n",
        "fig.show()"
      ]
    }
  ],
  "metadata": {
    "accelerator": "GPU",
    "colab": {
      "gpuType": "T4",
      "provenance": [],
      "toc_visible": true
    },
    "kernelspec": {
      "display_name": "Python 3 (ipykernel)",
      "language": "python",
      "name": "python3"
    },
    "language_info": {
      "codemirror_mode": {
        "name": "ipython",
        "version": 3
      },
      "file_extension": ".py",
      "mimetype": "text/x-python",
      "name": "python",
      "nbconvert_exporter": "python",
      "pygments_lexer": "ipython3",
      "version": "3.10.13"
    },
    "vscode": {
      "interpreter": {
        "hash": "85e08a7f08984051b26ef58c6313c9cce44d2f98f904ee07e3d2a22c6e22049c"
      }
    },
    "widgets": {
      "application/vnd.jupyter.widget-state+json": {
        "09d42872c6c6458e9a332aa727f5470f": {
          "model_module": "@jupyter-widgets/base",
          "model_module_version": "1.2.0",
          "model_name": "LayoutModel",
          "state": {
            "_model_module": "@jupyter-widgets/base",
            "_model_module_version": "1.2.0",
            "_model_name": "LayoutModel",
            "_view_count": null,
            "_view_module": "@jupyter-widgets/base",
            "_view_module_version": "1.2.0",
            "_view_name": "LayoutView",
            "align_content": null,
            "align_items": null,
            "align_self": null,
            "border": null,
            "bottom": null,
            "display": null,
            "flex": null,
            "flex_flow": null,
            "grid_area": null,
            "grid_auto_columns": null,
            "grid_auto_flow": null,
            "grid_auto_rows": null,
            "grid_column": null,
            "grid_gap": null,
            "grid_row": null,
            "grid_template_areas": null,
            "grid_template_columns": null,
            "grid_template_rows": null,
            "height": null,
            "justify_content": null,
            "justify_items": null,
            "left": null,
            "margin": null,
            "max_height": null,
            "max_width": null,
            "min_height": null,
            "min_width": null,
            "object_fit": null,
            "object_position": null,
            "order": null,
            "overflow": null,
            "overflow_x": null,
            "overflow_y": null,
            "padding": null,
            "right": null,
            "top": null,
            "visibility": null,
            "width": null
          }
        },
        "0b2cf038ae21412eabfe39c512a200a5": {
          "model_module": "@jupyter-widgets/controls",
          "model_module_version": "1.5.0",
          "model_name": "ProgressStyleModel",
          "state": {
            "_model_module": "@jupyter-widgets/controls",
            "_model_module_version": "1.5.0",
            "_model_name": "ProgressStyleModel",
            "_view_count": null,
            "_view_module": "@jupyter-widgets/base",
            "_view_module_version": "1.2.0",
            "_view_name": "StyleView",
            "bar_color": null,
            "description_width": ""
          }
        },
        "156a2a533b1a4eda962fd942ff957aeb": {
          "model_module": "@jupyter-widgets/base",
          "model_module_version": "1.2.0",
          "model_name": "LayoutModel",
          "state": {
            "_model_module": "@jupyter-widgets/base",
            "_model_module_version": "1.2.0",
            "_model_name": "LayoutModel",
            "_view_count": null,
            "_view_module": "@jupyter-widgets/base",
            "_view_module_version": "1.2.0",
            "_view_name": "LayoutView",
            "align_content": null,
            "align_items": null,
            "align_self": null,
            "border": null,
            "bottom": null,
            "display": null,
            "flex": null,
            "flex_flow": null,
            "grid_area": null,
            "grid_auto_columns": null,
            "grid_auto_flow": null,
            "grid_auto_rows": null,
            "grid_column": null,
            "grid_gap": null,
            "grid_row": null,
            "grid_template_areas": null,
            "grid_template_columns": null,
            "grid_template_rows": null,
            "height": null,
            "justify_content": null,
            "justify_items": null,
            "left": null,
            "margin": null,
            "max_height": null,
            "max_width": null,
            "min_height": null,
            "min_width": null,
            "object_fit": null,
            "object_position": null,
            "order": null,
            "overflow": null,
            "overflow_x": null,
            "overflow_y": null,
            "padding": null,
            "right": null,
            "top": null,
            "visibility": null,
            "width": null
          }
        },
        "1797e1f7ab1c4c5ebe61ddad6e81dd2c": {
          "model_module": "@jupyter-widgets/controls",
          "model_module_version": "1.5.0",
          "model_name": "HTMLModel",
          "state": {
            "_dom_classes": [],
            "_model_module": "@jupyter-widgets/controls",
            "_model_module_version": "1.5.0",
            "_model_name": "HTMLModel",
            "_view_count": null,
            "_view_module": "@jupyter-widgets/controls",
            "_view_module_version": "1.5.0",
            "_view_name": "HTMLView",
            "description": "",
            "description_tooltip": null,
            "layout": "IPY_MODEL_09d42872c6c6458e9a332aa727f5470f",
            "placeholder": "​",
            "style": "IPY_MODEL_a68b5332106b412e9e6703ed794fbe6c",
            "value": " 9.76G/9.76G [00:50&lt;00:00, 202MB/s]"
          }
        },
        "315bc2cd30fe4991ae619e809df120ab": {
          "model_module": "@jupyter-widgets/base",
          "model_module_version": "1.2.0",
          "model_name": "LayoutModel",
          "state": {
            "_model_module": "@jupyter-widgets/base",
            "_model_module_version": "1.2.0",
            "_model_name": "LayoutModel",
            "_view_count": null,
            "_view_module": "@jupyter-widgets/base",
            "_view_module_version": "1.2.0",
            "_view_name": "LayoutView",
            "align_content": null,
            "align_items": null,
            "align_self": null,
            "border": null,
            "bottom": null,
            "display": null,
            "flex": null,
            "flex_flow": null,
            "grid_area": null,
            "grid_auto_columns": null,
            "grid_auto_flow": null,
            "grid_auto_rows": null,
            "grid_column": null,
            "grid_gap": null,
            "grid_row": null,
            "grid_template_areas": null,
            "grid_template_columns": null,
            "grid_template_rows": null,
            "height": null,
            "justify_content": null,
            "justify_items": null,
            "left": null,
            "margin": null,
            "max_height": null,
            "max_width": null,
            "min_height": null,
            "min_width": null,
            "object_fit": null,
            "object_position": null,
            "order": null,
            "overflow": null,
            "overflow_x": null,
            "overflow_y": null,
            "padding": null,
            "right": null,
            "top": null,
            "visibility": null,
            "width": null
          }
        },
        "556bfcb645634b35b03a984f33479337": {
          "model_module": "@jupyter-widgets/controls",
          "model_module_version": "1.5.0",
          "model_name": "DescriptionStyleModel",
          "state": {
            "_model_module": "@jupyter-widgets/controls",
            "_model_module_version": "1.5.0",
            "_model_name": "DescriptionStyleModel",
            "_view_count": null,
            "_view_module": "@jupyter-widgets/base",
            "_view_module_version": "1.2.0",
            "_view_name": "StyleView",
            "description_width": ""
          }
        },
        "5713394de8fc4e188305da99ed3246e1": {
          "model_module": "@jupyter-widgets/controls",
          "model_module_version": "1.5.0",
          "model_name": "HBoxModel",
          "state": {
            "_dom_classes": [],
            "_model_module": "@jupyter-widgets/controls",
            "_model_module_version": "1.5.0",
            "_model_name": "HBoxModel",
            "_view_count": null,
            "_view_module": "@jupyter-widgets/controls",
            "_view_module_version": "1.5.0",
            "_view_name": "HBoxView",
            "box_style": "",
            "children": [
              "IPY_MODEL_e5558c97f5164068a6d3fcd9cd92c882",
              "IPY_MODEL_e2b78e4398764cf3a2d16b903bcb9250",
              "IPY_MODEL_1797e1f7ab1c4c5ebe61ddad6e81dd2c"
            ],
            "layout": "IPY_MODEL_d3878af2847e4e0a9c5f9d23939413dd"
          }
        },
        "95da484b7b894ab69520b7a2212cf401": {
          "model_module": "@jupyter-widgets/controls",
          "model_module_version": "1.5.0",
          "model_name": "ProgressStyleModel",
          "state": {
            "_model_module": "@jupyter-widgets/controls",
            "_model_module_version": "1.5.0",
            "_model_name": "ProgressStyleModel",
            "_view_count": null,
            "_view_module": "@jupyter-widgets/base",
            "_view_module_version": "1.2.0",
            "_view_name": "StyleView",
            "bar_color": null,
            "description_width": ""
          }
        },
        "9d44840150934f83abada9fff846cde4": {
          "model_module": "@jupyter-widgets/controls",
          "model_module_version": "1.5.0",
          "model_name": "IntProgressModel",
          "state": {
            "_dom_classes": [],
            "_model_module": "@jupyter-widgets/controls",
            "_model_module_version": "1.5.0",
            "_model_name": "IntProgressModel",
            "_view_count": null,
            "_view_module": "@jupyter-widgets/controls",
            "_view_module_version": "1.5.0",
            "_view_name": "ProgressView",
            "bar_style": "",
            "description": "Attributes Prompted",
            "description_tooltip": null,
            "layout": "IPY_MODEL_d2d754e3beb1475797fefdfc9158f191",
            "max": 60,
            "min": 0,
            "orientation": "horizontal",
            "style": "IPY_MODEL_0b2cf038ae21412eabfe39c512a200a5",
            "value": 60
          }
        },
        "a68b5332106b412e9e6703ed794fbe6c": {
          "model_module": "@jupyter-widgets/controls",
          "model_module_version": "1.5.0",
          "model_name": "DescriptionStyleModel",
          "state": {
            "_model_module": "@jupyter-widgets/controls",
            "_model_module_version": "1.5.0",
            "_model_name": "DescriptionStyleModel",
            "_view_count": null,
            "_view_module": "@jupyter-widgets/base",
            "_view_module_version": "1.2.0",
            "_view_name": "StyleView",
            "description_width": ""
          }
        },
        "b999fb0abf2f4210bea023359bdaf409": {
          "model_module": "@jupyter-widgets/base",
          "model_module_version": "1.2.0",
          "model_name": "LayoutModel",
          "state": {
            "_model_module": "@jupyter-widgets/base",
            "_model_module_version": "1.2.0",
            "_model_name": "LayoutModel",
            "_view_count": null,
            "_view_module": "@jupyter-widgets/base",
            "_view_module_version": "1.2.0",
            "_view_name": "LayoutView",
            "align_content": null,
            "align_items": null,
            "align_self": null,
            "border": null,
            "bottom": null,
            "display": null,
            "flex": null,
            "flex_flow": null,
            "grid_area": null,
            "grid_auto_columns": null,
            "grid_auto_flow": null,
            "grid_auto_rows": null,
            "grid_column": null,
            "grid_gap": null,
            "grid_row": null,
            "grid_template_areas": null,
            "grid_template_columns": null,
            "grid_template_rows": null,
            "height": null,
            "justify_content": null,
            "justify_items": null,
            "left": null,
            "margin": null,
            "max_height": null,
            "max_width": null,
            "min_height": null,
            "min_width": null,
            "object_fit": null,
            "object_position": null,
            "order": null,
            "overflow": null,
            "overflow_x": null,
            "overflow_y": null,
            "padding": null,
            "right": null,
            "top": null,
            "visibility": null,
            "width": null
          }
        },
        "c23151dc4e7047d9b345d0be8332f865": {
          "model_module": "@jupyter-widgets/controls",
          "model_module_version": "1.5.0",
          "model_name": "ProgressStyleModel",
          "state": {
            "_model_module": "@jupyter-widgets/controls",
            "_model_module_version": "1.5.0",
            "_model_name": "ProgressStyleModel",
            "_view_count": null,
            "_view_module": "@jupyter-widgets/base",
            "_view_module_version": "1.2.0",
            "_view_name": "StyleView",
            "bar_color": null,
            "description_width": ""
          }
        },
        "d2d754e3beb1475797fefdfc9158f191": {
          "model_module": "@jupyter-widgets/base",
          "model_module_version": "1.2.0",
          "model_name": "LayoutModel",
          "state": {
            "_model_module": "@jupyter-widgets/base",
            "_model_module_version": "1.2.0",
            "_model_name": "LayoutModel",
            "_view_count": null,
            "_view_module": "@jupyter-widgets/base",
            "_view_module_version": "1.2.0",
            "_view_name": "LayoutView",
            "align_content": null,
            "align_items": null,
            "align_self": null,
            "border": null,
            "bottom": null,
            "display": null,
            "flex": null,
            "flex_flow": null,
            "grid_area": null,
            "grid_auto_columns": null,
            "grid_auto_flow": null,
            "grid_auto_rows": null,
            "grid_column": null,
            "grid_gap": null,
            "grid_row": null,
            "grid_template_areas": null,
            "grid_template_columns": null,
            "grid_template_rows": null,
            "height": null,
            "justify_content": null,
            "justify_items": null,
            "left": null,
            "margin": null,
            "max_height": null,
            "max_width": null,
            "min_height": null,
            "min_width": null,
            "object_fit": null,
            "object_position": null,
            "order": null,
            "overflow": null,
            "overflow_x": null,
            "overflow_y": null,
            "padding": null,
            "right": null,
            "top": null,
            "visibility": null,
            "width": null
          }
        },
        "d3878af2847e4e0a9c5f9d23939413dd": {
          "model_module": "@jupyter-widgets/base",
          "model_module_version": "1.2.0",
          "model_name": "LayoutModel",
          "state": {
            "_model_module": "@jupyter-widgets/base",
            "_model_module_version": "1.2.0",
            "_model_name": "LayoutModel",
            "_view_count": null,
            "_view_module": "@jupyter-widgets/base",
            "_view_module_version": "1.2.0",
            "_view_name": "LayoutView",
            "align_content": null,
            "align_items": null,
            "align_self": null,
            "border": null,
            "bottom": null,
            "display": null,
            "flex": null,
            "flex_flow": null,
            "grid_area": null,
            "grid_auto_columns": null,
            "grid_auto_flow": null,
            "grid_auto_rows": null,
            "grid_column": null,
            "grid_gap": null,
            "grid_row": null,
            "grid_template_areas": null,
            "grid_template_columns": null,
            "grid_template_rows": null,
            "height": null,
            "justify_content": null,
            "justify_items": null,
            "left": null,
            "margin": null,
            "max_height": null,
            "max_width": null,
            "min_height": null,
            "min_width": null,
            "object_fit": null,
            "object_position": null,
            "order": null,
            "overflow": null,
            "overflow_x": null,
            "overflow_y": null,
            "padding": null,
            "right": null,
            "top": null,
            "visibility": null,
            "width": null
          }
        },
        "e2b78e4398764cf3a2d16b903bcb9250": {
          "model_module": "@jupyter-widgets/controls",
          "model_module_version": "1.5.0",
          "model_name": "FloatProgressModel",
          "state": {
            "_dom_classes": [],
            "_model_module": "@jupyter-widgets/controls",
            "_model_module_version": "1.5.0",
            "_model_name": "FloatProgressModel",
            "_view_count": null,
            "_view_module": "@jupyter-widgets/controls",
            "_view_module_version": "1.5.0",
            "_view_name": "ProgressView",
            "bar_style": "success",
            "description": "",
            "description_tooltip": null,
            "layout": "IPY_MODEL_b999fb0abf2f4210bea023359bdaf409",
            "max": 9763701888,
            "min": 0,
            "orientation": "horizontal",
            "style": "IPY_MODEL_c23151dc4e7047d9b345d0be8332f865",
            "value": 9763701888
          }
        },
        "e5558c97f5164068a6d3fcd9cd92c882": {
          "model_module": "@jupyter-widgets/controls",
          "model_module_version": "1.5.0",
          "model_name": "HTMLModel",
          "state": {
            "_dom_classes": [],
            "_model_module": "@jupyter-widgets/controls",
            "_model_module_version": "1.5.0",
            "_model_name": "HTMLModel",
            "_view_count": null,
            "_view_module": "@jupyter-widgets/controls",
            "_view_module_version": "1.5.0",
            "_view_name": "HTMLView",
            "description": "",
            "description_tooltip": null,
            "layout": "IPY_MODEL_315bc2cd30fe4991ae619e809df120ab",
            "placeholder": "​",
            "style": "IPY_MODEL_556bfcb645634b35b03a984f33479337",
            "value": "llama-2-13b-chat.ggmlv3.q5_1.bin: 100%"
          }
        },
        "e67519cc43eb47938159d54439b8fece": {
          "model_module": "@jupyter-widgets/controls",
          "model_module_version": "1.5.0",
          "model_name": "IntProgressModel",
          "state": {
            "_dom_classes": [],
            "_model_module": "@jupyter-widgets/controls",
            "_model_module_version": "1.5.0",
            "_model_name": "IntProgressModel",
            "_view_count": null,
            "_view_module": "@jupyter-widgets/controls",
            "_view_module_version": "1.5.0",
            "_view_name": "ProgressView",
            "bar_style": "",
            "description": "Attributes Prompted",
            "description_tooltip": null,
            "layout": "IPY_MODEL_156a2a533b1a4eda962fd942ff957aeb",
            "max": 600,
            "min": 0,
            "orientation": "horizontal",
            "style": "IPY_MODEL_95da484b7b894ab69520b7a2212cf401",
            "value": 600
          }
        }
      }
    }
  },
  "nbformat": 4,
  "nbformat_minor": 0
}
