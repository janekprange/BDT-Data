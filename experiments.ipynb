{
  "cells": [
    {
      "cell_type": "markdown",
      "metadata": {
        "id": "93O27az2E2Dh"
      },
      "source": [
        "# Setup"
      ]
    },
    {
      "cell_type": "markdown",
      "metadata": {
        "id": "vc9s4G6c5UHC"
      },
      "source": [
        "## Setup + Download the Model"
      ]
    },
    {
      "cell_type": "code",
      "execution_count": null,
      "metadata": {
        "colab": {
          "base_uri": "https://localhost:8080/",
          "height": 49,
          "referenced_widgets": [
            "5713394de8fc4e188305da99ed3246e1",
            "e5558c97f5164068a6d3fcd9cd92c882",
            "e2b78e4398764cf3a2d16b903bcb9250",
            "1797e1f7ab1c4c5ebe61ddad6e81dd2c",
            "d3878af2847e4e0a9c5f9d23939413dd",
            "315bc2cd30fe4991ae619e809df120ab",
            "556bfcb645634b35b03a984f33479337",
            "b999fb0abf2f4210bea023359bdaf409",
            "c23151dc4e7047d9b345d0be8332f865",
            "09d42872c6c6458e9a332aa727f5470f",
            "a68b5332106b412e9e6703ed794fbe6c"
          ]
        },
        "id": "MoPQ_Ip05Ry6",
        "outputId": "12dce208-36ca-4448-e324-5f0c15d387c5"
      },
      "outputs": [],
      "source": [
        "# select the model\n",
        "model_name_or_path = \"TheBloke/Llama-2-13B-chat-GGUF\"\n",
        "model_basename = \"llama-2-13b-chat.Q5_K_M.gguf\" \n",
        "\n",
        "\n",
        "# download the model\n",
        "from huggingface_hub import hf_hub_download\n",
        "model_path = hf_hub_download(repo_id=model_name_or_path, filename=model_basename)\n",
        "\n"
      ]
    },
    {
      "cell_type": "markdown",
      "metadata": {
        "id": "ogmyo1Pn7VrZ"
      },
      "source": [
        "## Loading the Model (GPU)"
      ]
    },
    {
      "cell_type": "code",
      "execution_count": null,
      "metadata": {
        "colab": {
          "base_uri": "https://localhost:8080/"
        },
        "id": "68CWnTD-6TTH",
        "outputId": "a569c09f-a0b6-4426-ac92-68bb036aa583"
      },
      "outputs": [],
      "source": [
        "from llama_cpp import Llama\n",
        "lcpp_llm = None\n",
        "lcpp_llm = Llama(\n",
        "    model_path=model_path,\n",
        "    n_ctx=40960, # Context window\n",
        "    n_parts=-1, # Number of parts to split the model into. If -1, the number of parts is automatically determined.\n",
        "    # n_threads=64, # CPU cores\n",
        "    # n_batch=5120, # Should be between 1 and n_ctx, consider the amount of VRAM in your GPU.\n",
        "    # n_gpu_layers=1, # Change this value based on your model and your GPU VRAM pool.\n",
        "    # tensor_split=8, #List of floats to split the model across multiple GPUs. If None, the model is not split\n",
        "    #verbose=False, #-> Sadly this does not work due to an issue in the library https://github.com/abetlen/llama-cpp-python/issues/729\n",
        ")"
      ]
    },
    {
      "cell_type": "markdown",
      "metadata": {
        "id": "qLBv32fs_gLU"
      },
      "source": [
        "## Generate Response"
      ]
    },
    {
      "cell_type": "code",
      "execution_count": null,
      "metadata": {
        "id": "xj0lNt-T_iwp"
      },
      "outputs": [],
      "source": [
        "def ask_llama(prompt: str) -> str:\n",
        "  #prompt_template=f'''SYSTEM: You are a helpful, respectful and honest assistant. Always answer as helpfully.\n",
        "\n",
        "  #USER: {prompt}\n",
        "\n",
        "  #ASSISTANT:\n",
        "  #'''\n",
        "  prompt_template = prompt\n",
        "\n",
        "  # if we print every promt this will get annoying quickly\n",
        "  #print(prompt_template)\n",
        "  #print('-------------------')\n",
        "\n",
        "  response = lcpp_llm(\n",
        "    prompt=prompt_template,\n",
        "    max_tokens=256,\n",
        "    temperature=0.5,\n",
        "    top_p=0.95,\n",
        "    repeat_penalty=1.2,\n",
        "    top_k=50,\n",
        "    stop = ['USER:'], # Dynamic stopping when such token is detected.\n",
        "    echo=False # return the prompt\n",
        "  )\n",
        "\n",
        "  return response[\"choices\"][0][\"text\"]"
      ]
    },
    {
      "cell_type": "markdown",
      "metadata": {
        "id": "IlciArfg-Cmu"
      },
      "source": [
        "## Load Data"
      ]
    },
    {
      "cell_type": "code",
      "execution_count": null,
      "metadata": {
        "id": "r4yrEftmLwjS"
      },
      "outputs": [],
      "source": [
        "from typing import Tuple\n",
        "import numpy as np\n",
        "import pandas as pd\n",
        "from ipywidgets import IntProgress\n",
        "from IPython.display import display\n",
        "import time"
      ]
    },
    {
      "cell_type": "code",
      "execution_count": null,
      "metadata": {
        "id": "dM3Fo5qMWWKA"
      },
      "outputs": [],
      "source": [
        "def create_flights_table() -> Tuple[pd.DataFrame, pd.DataFrame]:\n",
        "  return pd.read_csv(\"./prepared/flights_clean.csv\"), pd.read_csv(\"./prepared/flights_dirty.csv\")\n",
        "flights_clean, flights_dirty = create_flights_table()\n",
        "\n",
        "def create_food_table() -> Tuple[pd.DataFrame, pd.DataFrame]:\n",
        "    return pd.read_csv(\"./prepared/food_clean.csv\"), pd.read_csv(\"./prepared/food_dirty.csv\")\n",
        "food_clean, food_dirty = create_food_table()\n",
        "\n",
        "def create_hospital_table() -> Tuple[pd.DataFrame, pd.DataFrame]:\n",
        "  return pd.read_csv(\"./prepared/hospital_clean.csv\"), pd.read_csv(\"./prepared/hospital_dirty.csv\")\n",
        "hospital_clean, hospital_dirty = create_hospital_table()"
      ]
    },
    {
      "cell_type": "code",
      "execution_count": null,
      "metadata": {
        "id": "Ey_XguxiGJ4O"
      },
      "outputs": [],
      "source": [
        "def make_table(df: pd.DataFrame, label = \"\") -> pd.DataFrame:\n",
        "  progressBar = IntProgress(min=0, max=min(df['tupleid'].max(), MAXIMUM_ROW_COUNT), description=label)\n",
        "  display(progressBar)\n",
        "\n",
        "  grouped = df.groupby(\"tupleid\")\n",
        "\n",
        "  attributes = df['attribute'].unique()\n",
        "  result = pd.DataFrame(np.nan, index=df['tupleid'].unique()[:MAXIMUM_ROW_COUNT], columns=attributes)\n",
        "  for name, group in grouped:\n",
        "    if name > MAXIMUM_ROW_COUNT:\n",
        "      break\n",
        "    progressBar.value += 1\n",
        "    result.loc[name] = [group.loc[group[\"attribute\"] == attribute, \"value\"].item() for attribute in attributes]\n",
        "    # try:\n",
        "    #   result.loc[name] = [group.loc[group[\"attribute\"] == attribute, \"value\"].item() for attribute in attributes]\n",
        "    # except Exception as e:\n",
        "    #   print([group.loc[group[\"attribute\"] == attribute, \"value\"] for attribute in attributes])\n",
        "    #   break\n",
        "  return result\n",
        "\n",
        "#def make_error_table(dirty: pd.DataFrame, clean: pd.DataFrame) -> pd.DataFrame:\n",
        "#  return dirty.where(dirty == clean, True)\n",
        "\n",
        "def compare_dataframes_by_row(df1, df2):\n",
        "  # Check if the DataFrames have the same shape\n",
        "  if df1.shape != df2.shape:\n",
        "      raise ValueError(\"DataFrames must have the same shape for row-wise comparison.\")\n",
        "\n",
        "  # Compare the two DataFrames element-wise and create a Boolean DataFrame\n",
        "  comparison_result = df1 != df2\n",
        "\n",
        "  return comparison_result\n",
        "\n",
        "def ground_truth_as_int(gt):\n",
        "  new_df = gt.astype(int)\n",
        "  return new_df.values.ravel().tolist()\n"
      ]
    },
    {
      "cell_type": "markdown",
      "metadata": {
        "id": "3-K3hNE_ViS5"
      },
      "source": [
        "## General Setup"
      ]
    },
    {
      "cell_type": "code",
      "execution_count": null,
      "metadata": {
        "id": "G4dkEbcpVf_m"
      },
      "outputs": [],
      "source": [
        "MAXIMUM_ROW_COUNT = 2 # maximum number of rows that will be evaluated\n",
        "DEBUG_MESSAGES = True # print debug messages such as the prompts and responses"
      ]
    },
    {
      "cell_type": "markdown",
      "metadata": {
        "id": "am3h08MFFV29"
      },
      "source": [
        "# Function declarations"
      ]
    },
    {
      "cell_type": "markdown",
      "metadata": {
        "id": "opz-g210d__2"
      },
      "source": [
        "## Prompt Table Zero Shot\n",
        "This cell provides a method to prompt an entire dataframe with zero shots."
      ]
    },
    {
      "cell_type": "code",
      "execution_count": null,
      "metadata": {
        "id": "UOLl3bUHeHSn"
      },
      "outputs": [],
      "source": [
        "prompt_zero_shot = '''Is there an error in {att}:{val}?\\n{ser}?'''\n",
        "\n",
        "def serialize_row(row: pd.Series) -> str:\n",
        "  result = \"\"\n",
        "  for index, value in row.items():\n",
        "    result += f\"{index}: {value} \"\n",
        "  return result\n",
        "\n",
        "def prompt_table_zero_shot(df: pd.DataFrame):\n",
        "  progressBar = IntProgress(min=0, max=min(df.shape[0], MAXIMUM_ROW_COUNT)*df.shape[1], description=\"Attributes Prompted\")\n",
        "  display(progressBar)\n",
        "\n",
        "  # generate table\n",
        "  classifications = []\n",
        "  for index, row in df.iterrows():\n",
        "      serialized_row = serialize_row(row)\n",
        "      for i, (attribute, value) in enumerate(row.items()):\n",
        "        #print(value)\n",
        "        # create prompt\n",
        "        prompt = prompt_zero_shot.format(att=attribute, val=value, ser=serialized_row)\n",
        "        response = ask_llama(prompt)\n",
        "        if DEBUG_MESSAGES:\n",
        "          print(prompt)\n",
        "          print(\"--------------------\")\n",
        "          print(response)\n",
        "          print(\"====================\")\n",
        "        # evaluate response\n",
        "        if \"Yes\" in response or \"yes\" in response:\n",
        "          classifications.append(1)\n",
        "        else:\n",
        "          classifications.append(0)\n",
        "\n",
        "        progressBar.value += 1\n",
        "\n",
        "  return classifications"
      ]
    },
    {
      "cell_type": "markdown",
      "metadata": {
        "id": "UqlRgrNCbPtC"
      },
      "source": [
        "## Prompt Table Few Shot\n",
        "This cell provides a function to prompt an entire dataframe with few shot. It returns an array containing zeros and ones based on the response of the model."
      ]
    },
    {
      "cell_type": "code",
      "execution_count": null,
      "metadata": {
        "id": "gEsYdHUsbOp-"
      },
      "outputs": [],
      "source": [
        "prompt_few_shot = '''Is there an error in {att}?\\n\\n{exas}\\n{ser}?'''\n",
        "\n",
        "def sample_example(df: pd.DataFrame, comparison_df:pd.DataFrame) -> str:\n",
        "  rand_row = np.random.randint(0, df.shape[0])\n",
        "  rand_col = np.random.randint(0, df.shape[1])\n",
        "  # print(f\"row: {rand_row}, col: {rand_col}\")\n",
        "  error_string = \" No\"\n",
        "  # if comparison of ground truth and dirty is \"False\" it means there is an error\n",
        "  if(comparison_df.iloc[rand_row, rand_col] is False):\n",
        "    error_string = \" Yes\"\n",
        "  row = df.iloc[rand_row]\n",
        "  result_str = serialize_row(row)\n",
        "  return result_str + \"?\" + error_string\n",
        "\n",
        "def prompt_table_few_shot(df: pd.DataFrame, ground_truth: pd.DataFrame, samples=1):\n",
        "  progressBar = IntProgress(min=0, max=min(df.shape[0], MAXIMUM_ROW_COUNT)*df.shape[1], description=\"Attributes Prompted\")\n",
        "  display(progressBar)\n",
        "  err_table = compare_dataframes_by_row(df, ground_truth)\n",
        "  # generate table\n",
        "  classifications = []\n",
        "  for index, row in df.iterrows():\n",
        "    # if index >= MAXIMUM_ROW_COUNT: ????\n",
        "    #     break\n",
        "    serialized_row = serialize_row(row)\n",
        "    for i, (attribute, value) in enumerate(row.items()):\n",
        "\n",
        "      # get examples\n",
        "      examples = []\n",
        "      for i in range(samples):\n",
        "        row_str = sample_example(df, err_table)\n",
        "        examples.append(row_str)\n",
        "\n",
        "      # create prompt\n",
        "      prompt = prompt_few_shot.format(att=attribute, ser=serialized_row,exas=\"\\n\".join(examples))\n",
        "      response = ask_llama(prompt)\n",
        "      if DEBUG_MESSAGES:\n",
        "          print(prompt)\n",
        "          print(\"--------------------\")\n",
        "          print(response)\n",
        "          print(\"====================\")\n",
        "\n",
        "      # evaluate response\n",
        "      if \"Yes\" in response or \"yes\" in response:\n",
        "        classifications.append(1)\n",
        "      else:\n",
        "        classifications.append(0)\n",
        "\n",
        "      progressBar.value += 1\n",
        "\n",
        "  return classifications"
      ]
    },
    {
      "cell_type": "markdown",
      "metadata": {
        "id": "vMmrrCl0V9QV"
      },
      "source": [
        "# F1 Score"
      ]
    },
    {
      "cell_type": "code",
      "execution_count": null,
      "metadata": {
        "id": "b4gSFtk7V8Ug"
      },
      "outputs": [],
      "source": [
        "def f1_score(y_true, y_pred):\n",
        "    true_positives = sum(1 for a, b in zip(y_true, y_pred) if a == b == 1)\n",
        "    false_positives = sum(1 for a, b in zip(y_true, y_pred) if a == 0 and b == 1)\n",
        "    false_negatives = sum(1 for a, b in zip(y_true, y_pred) if a == 1 and b == 0)\n",
        "\n",
        "\n",
        "    if true_positives == 0:\n",
        "        return 0.0  # Handle the case where true_positives is 0\n",
        "\n",
        "    precision = true_positives / (true_positives + false_positives) if (true_positives + false_positives) > 0 else 0.0\n",
        "    recall = true_positives / (true_positives + false_negatives) if (true_positives + false_negatives) > 0 else 0.0\n",
        "\n",
        "    if precision + recall == 0:\n",
        "        return 0.0\n",
        "\n",
        "    f1 = 2 * (precision * recall) / (precision + recall)\n",
        "    return f1"
      ]
    },
    {
      "cell_type": "markdown",
      "metadata": {
        "id": "2Y9NjvVeZ5IS"
      },
      "source": [
        "# Shuffle"
      ]
    },
    {
      "cell_type": "code",
      "execution_count": null,
      "metadata": {
        "id": "ZDodq2ffZ9Dg"
      },
      "outputs": [],
      "source": [
        "def shuffle_dfs(df1, df2, num_output_rows):\n",
        "  if(len(df1) != len(df2)):\n",
        "    print(\"ERROR\")\n",
        "  # Generate a random permutation of row indices\n",
        "  rng = np.random.default_rng()  # Create a random number generator\n",
        "  permutation = rng.permutation(len(df1))\n",
        "\n",
        "  # Shuffle both DataFrames using the same permutation\n",
        "  df1_shuffled = df1.iloc[permutation[:num_output_rows]]\n",
        "  df2_shuffled = df2.iloc[permutation[:num_output_rows]]\n",
        "\n",
        "  return df1_shuffled, df2_shuffled\n"
      ]
    },
    {
      "cell_type": "markdown",
      "metadata": {
        "id": "1Zu1nwsmFm4w"
      },
      "source": [
        "# Experiments"
      ]
    },
    {
      "cell_type": "markdown",
      "metadata": {
        "id": "VZyaZxHoD6MQ"
      },
      "source": [
        "## Flight Test\n",
        "Computes F1 score of Llama zero-shotting the first `MAXIMUM_ROW_COUNT` rows of the flight table.\n",
        "\n",
        "For perspective: Prompting a single row (6 attributes in this case) took around 32.192 seconds in one case and around 5.017 in another. It varies quite a bit."
      ]
    },
    {
      "cell_type": "code",
      "execution_count": null,
      "metadata": {
        "id": "vSegEftIghjC"
      },
      "outputs": [],
      "source": [
        "shuffled_flights_dirty, shuffled_flights_clean = shuffle_dfs(flights_dirty, flights_clean, MAXIMUM_ROW_COUNT)\n",
        "comp = compare_dataframes_by_row(shuffled_flights_dirty, shuffled_flights_clean)\n",
        "ints = ground_truth_as_int(comp)"
      ]
    },
    {
      "cell_type": "code",
      "execution_count": null,
      "metadata": {
        "colab": {
          "base_uri": "https://localhost:8080/",
          "height": 49,
          "referenced_widgets": [
            "e67519cc43eb47938159d54439b8fece",
            "156a2a533b1a4eda962fd942ff957aeb",
            "95da484b7b894ab69520b7a2212cf401"
          ]
        },
        "id": "K82SsVRqX8L9",
        "outputId": "774aca1f-1407-4d49-a53d-d49760ad9e70"
      },
      "outputs": [],
      "source": [
        "%%capture --no-stdout --no-display\n",
        "\n",
        "start_time = time.time()\n",
        "classified = prompt_table_zero_shot(shuffled_flights_dirty)\n",
        "end_time = time.time()\n",
        "\n",
        "time_spent = elapsed_time = end_time - start_time\n",
        "flights_zero_shot_score = f1_score(ints, classified)"
      ]
    },
    {
      "cell_type": "code",
      "execution_count": null,
      "metadata": {
        "colab": {
          "base_uri": "https://localhost:8080/"
        },
        "id": "m3Kfny0KDblr",
        "outputId": "215d3177-f87c-4d4e-a205-a374c7189aed"
      },
      "outputs": [],
      "source": [
        "from sklearn.metrics import f1_score as f1\n",
        "ints = [0, 0, 0, 1, 0, 0, 0, 0, 0, 0, 0, 0, 0, 0, 0, 1, 0, 1, 0, 0, 1, 1, 1, 1, 0, 0, 0, 0, 0, 0, 0, 0, 1, 0, 1, 1, 0, 0, 1, 1, 1, 1, 0, 0, 1, 0, 1, 1, 0, 0, 0, 0, 0, 0, 0, 0, 1, 1, 1, 0, 0, 0, 0, 1, 1, 1, 0, 0, 0, 0, 0, 0, 0, 0, 0, 1, 0, 1, 0, 0, 0, 1, 0, 0, 0, 0, 1, 1, 1, 1, 0, 0, 0, 1, 0, 1, 0, 0, 0, 0, 0, 1, 0, 0, 1, 1, 1, 0, 0, 0, 0, 1, 0, 0, 0, 0, 1, 1, 1, 1, 0, 0, 0, 0, 0, 0, 0, 0, 1, 1, 1, 1, 0, 0, 1, 1, 1, 1, 0, 0, 1, 1, 1, 0, 0, 0, 1, 1, 0, 1, 0, 0, 0, 1, 1, 1, 0, 0, 1, 0, 1, 1, 0, 0, 0, 1, 0, 0, 0, 0, 1, 1, 1, 1, 0, 0, 1, 1, 1, 0, 0, 0, 1, 1, 1, 1, 0, 0, 0, 1, 1, 1, 0, 0, 0, 1, 0, 0, 0, 0, 0, 0, 0, 0, 0, 0, 0, 1, 0, 1, 0, 0, 0, 1, 0, 1, 0, 0, 0, 0, 0, 0, 0, 0, 0, 1, 0, 1, 0, 0, 1, 1, 1, 1, 0, 0, 1, 1, 1, 0, 0, 0, 1, 1, 1, 0, 0, 0, 1, 0, 1, 0, 0, 0, 1, 1, 1, 1, 0, 0, 0, 0, 0, 0, 0, 0, 1, 0, 1, 1, 0, 0, 0, 1, 0, 0, 0, 0, 0, 0, 0, 0, 0, 0, 1, 1, 1, 0, 0, 0, 1, 1, 1, 1, 0, 0, 0, 0, 1, 1, 0, 0, 1, 1, 1, 1, 0, 0, 0, 0, 0, 0, 0, 0, 1, 1, 1, 1, 0, 0, 1, 0, 1, 1, 0, 0, 1, 0, 1, 0, 0, 0, 0, 0, 0, 0, 0, 0, 1, 1, 1, 0, 0, 0, 0, 1, 1, 1, 0, 0, 1, 1, 1, 0, 0, 0, 0, 0, 0, 0, 0, 0, 1, 1, 1, 1, 0, 0, 1, 1, 1, 1, 0, 0, 1, 1, 1, 0, 0, 0, 0, 1, 0, 1, 0, 0, 1, 1, 1, 0, 0, 0, 0, 0, 1, 1, 0, 0, 0, 1, 0, 0, 0, 0, 0, 0, 0, 0, 0, 0, 0, 1, 0, 1, 0, 0, 0, 0, 0, 0, 0, 0, 1, 0, 1, 1, 0, 0, 1, 1, 1, 1, 0, 0, 1, 1, 1, 1, 0, 0, 1, 1, 1, 1, 0, 0, 0, 1, 1, 1, 0, 0, 0, 0, 0, 0, 0, 0, 0, 0, 1, 1, 0, 0, 0, 1, 0, 1, 0, 0, 1, 1, 1, 0, 0, 0, 0, 1, 0, 1, 0, 0, 0, 0, 0, 0, 0, 0, 0, 0, 0, 0, 0, 0, 1, 1, 1, 1, 0, 0, 0, 1, 1, 1, 0, 0, 1, 1, 1, 1, 0, 0, 0, 0, 0, 0, 0, 0, 1, 1, 1, 1, 0, 0, 0, 1, 0, 1, 0, 0, 0, 0, 0, 0, 0, 0, 0, 0, 0, 0, 0, 0, 1, 1, 1, 0, 0, 0, 0, 1, 0, 0, 0, 0, 0, 1, 0, 1, 0, 0, 0, 0, 0, 0, 0, 0, 1, 1, 1, 0, 0, 0, 1, 0, 1, 0, 0, 0, 0, 1, 1, 1, 0, 0, 0, 0, 0, 0, 0, 0, 1, 0, 1, 0, 0, 0, 1, 0, 1, 0]\n",
        "classified = [0, 0, 0, 0, 0, 0, 0, 0, 0, 0, 0, 0, 1, 0, 0, 0, 0, 0, 0, 0, 0, 0, 1, 0, 0, 0, 0, 0, 0, 0, 0, 0, 1, 0, 0, 0, 0, 0, 0, 0, 0, 0, 1, 0, 0, 0, 0, 0, 0, 0, 0, 0, 0, 0, 0, 0, 0, 0, 1, 0, 0, 0, 0, 0, 0, 0, 0, 1, 0, 0, 0, 0, 0, 0, 0, 0, 0, 0, 0, 0, 0, 0, 0, 0, 0, 0, 0, 0, 1, 0, 0, 0, 0, 0, 0, 0, 0, 0, 1, 0, 0, 0, 0, 0, 0, 0, 0, 1, 0, 0, 0, 0, 0, 0, 0, 0, 0, 0, 0, 0, 0, 0, 0, 0, 0, 0, 0, 0, 1, 0, 0, 0, 0, 0, 1, 0, 0, 0, 0, 0, 1, 0, 1, 0, 1, 0, 0, 0, 0, 1, 0, 0, 0, 0, 0, 1, 0, 0, 1, 0, 0, 0, 0, 0, 0, 0, 0, 0, 0, 0, 1, 0, 1, 0, 0, 0, 0, 0, 0, 0, 0, 0, 0, 0, 1, 0, 0, 0, 1, 0, 0, 0, 0, 0, 0, 0, 0, 0, 0, 0, 0, 0, 0, 0, 0, 0, 0, 0, 0, 0, 0, 0, 0, 0, 0, 0, 0, 0, 0, 0, 0, 0, 0, 0, 0, 0, 0, 0, 0, 0, 0, 0, 0, 0, 0, 0, 0, 0, 1, 0, 0, 0, 0, 0, 0, 0, 0, 0, 0, 0, 0, 0, 0, 0, 1, 0, 0, 1, 0, 0, 0, 0, 0, 0, 0, 1, 1, 0, 0, 0, 0, 0, 0, 0, 0, 0, 0, 0, 0, 0, 0, 0, 0, 0, 0, 0, 0, 0, 0, 0, 0, 0, 0, 0, 0, 0, 0, 0, 0, 0, 0, 0, 0, 0, 0, 0, 0, 0, 0, 0, 0, 0, 0, 0, 0, 0, 0, 0, 0, 0, 0, 0, 0, 0, 0, 0, 1, 0, 1, 0, 0, 0, 0, 0, 0, 0, 0, 1, 0, 0, 0, 0, 0, 0, 0, 0, 0, 0, 0, 0, 1, 0, 1, 0, 0, 0, 0, 0, 0, 0, 1, 0, 0, 0, 0, 0, 0, 0, 0, 0, 1, 0, 0, 0, 0, 0, 0, 0, 0, 0, 0, 0, 0, 1, 0, 0, 0, 0, 1, 0, 0, 0, 0, 0, 0, 0, 0, 0, 0, 0, 0, 0, 0, 0, 0, 0, 0, 0, 0, 0, 0, 1, 0, 0, 0, 0, 0, 0, 0, 0, 1, 0, 1, 0, 0, 0, 0, 0, 0, 0, 0, 0, 0, 0, 0, 0, 0, 0, 0, 0, 0, 0, 1, 0, 0, 0, 0, 1, 0, 1, 0, 0, 0, 0, 0, 0, 0, 0, 0, 0, 0, 0, 0, 0, 0, 0, 0, 1, 0, 0, 0, 0, 0, 0, 0, 0, 0, 0, 0, 0, 0, 0, 0, 0, 0, 0, 1, 0, 0, 1, 0, 0, 0, 0, 0, 0, 1, 0, 0, 0, 0, 0, 0, 0, 0, 0, 0, 0, 0, 0, 0, 0, 1, 0, 0, 0, 0, 0, 1, 0, 1, 0, 0, 0, 0, 0, 0, 0, 0, 0, 0, 0, 0, 0, 0, 0, 0, 0, 0, 0, 0, 1, 0, 0, 1, 0, 0, 0, 0, 0, 0, 0, 0, 0, 0, 0, 0, 0, 0, 0, 0, 0, 0, 0, 0, 0, 0, 0, 1, 0, 0, 0, 1, 0, 1, 0, 0, 0, 0, 0, 0, 0, 0, 0, 0, 0, 0, 0, 0, 0, 1, 0, 1, 0, 0, 0, 0, 0, 0, 0]\n",
        "\n",
        "print(f1(ints, classified))\n",
        "print(f1_score(ints, classified))"
      ]
    },
    {
      "cell_type": "code",
      "execution_count": null,
      "metadata": {
        "colab": {
          "base_uri": "https://localhost:8080/"
        },
        "id": "PO0Xv8tJaQUe",
        "outputId": "2b02703e-0272-4b9d-a3ce-3337976d2af4"
      },
      "outputs": [],
      "source": [
        "print(ints)\n",
        "print(classified)\n",
        "print(flights_zero_shot_score)\n",
        "print(time_spent)"
      ]
    },
    {
      "cell_type": "code",
      "execution_count": null,
      "metadata": {
        "colab": {
          "base_uri": "https://localhost:8080/",
          "height": 49,
          "referenced_widgets": [
            "9d44840150934f83abada9fff846cde4",
            "d2d754e3beb1475797fefdfc9158f191",
            "0b2cf038ae21412eabfe39c512a200a5"
          ]
        },
        "id": "YEM1GBE1FXTY",
        "outputId": "79e54310-4322-4ed8-c58f-a919e8d30ac6"
      },
      "outputs": [],
      "source": [
        "%%capture --no-stdout --no-display\n",
        "\n",
        "\n",
        "start_time = time.time()\n",
        "classified_few_shot = prompt_table_few_shot(shuffled_flights_dirty, shuffled_flights_clean)\n",
        "end_time = time.time()\n",
        "\n",
        "time_spent = elapsed_time = end_time - start_time\n",
        "flights_few_shot_score = f1_score(ints, classified_few_shot)"
      ]
    },
    {
      "cell_type": "code",
      "execution_count": null,
      "metadata": {
        "colab": {
          "base_uri": "https://localhost:8080/"
        },
        "id": "tiVmcXEOFeDo",
        "outputId": "d65d63de-8b12-4dcb-9361-8dc5ac4fa7a8"
      },
      "outputs": [],
      "source": [
        "print(flights_few_shot_score)\n",
        "print(time_spent)"
      ]
    },
    {
      "cell_type": "markdown",
      "metadata": {
        "id": "Ox9Kn0ArI6zY"
      },
      "source": [
        "# Food Test\n",
        "\n",
        "Test food on a small sample subset with zero shot. For perspective: A single row (16 attributes) took around 137.798 seconds."
      ]
    },
    {
      "cell_type": "code",
      "execution_count": null,
      "metadata": {
        "id": "DRvVEdHGJPWj"
      },
      "outputs": [],
      "source": [
        "shuffled_food_dirty, shuffled_food_clean = shuffle_dfs(food_dirty, food_clean, MAXIMUM_ROW_COUNT)\n",
        "comp = compare_dataframes_by_row(shuffled_food_dirty, shuffled_food_clean)\n",
        "ints_food = ground_truth_as_int(comp)"
      ]
    },
    {
      "cell_type": "code",
      "execution_count": null,
      "metadata": {
        "id": "gOGrTY3vb6W1"
      },
      "outputs": [],
      "source": [
        "%%capture --no-stdout --no-display\n",
        "\n",
        "start_time = time.time()\n",
        "classified = prompt_table_zero_shot(shuffled_food_dirty)\n",
        "end_time = time.time()\n",
        "\n",
        "time_spent = elapsed_time = end_time - start_time\n",
        "food_zero_shot_score = f1_score(ints_food, classified)"
      ]
    },
    {
      "cell_type": "code",
      "execution_count": null,
      "metadata": {
        "id": "68bJr-gDFLrt"
      },
      "outputs": [],
      "source": [
        "print(food_zero_shot_score)\n",
        "print(time_spent)"
      ]
    },
    {
      "cell_type": "markdown",
      "metadata": {
        "id": "a294YsxsEu4f"
      },
      "source": [
        "Test food on subset with few shot"
      ]
    },
    {
      "cell_type": "code",
      "execution_count": null,
      "metadata": {
        "id": "RyMM22E-Eltp"
      },
      "outputs": [],
      "source": [
        "%%capture --no-stdout --no-display\n",
        "\n",
        "start_time = time.time()\n",
        "classified_few_shot = prompt_table_few_shot(shuffled_food_dirty, shuffled_food_clean)\n",
        "end_time = time.time()\n",
        "\n",
        "time_spent = elapsed_time = end_time - start_time\n",
        "food_few_shot_score = f1_score(ints_food, classified_few_shot)"
      ]
    },
    {
      "cell_type": "code",
      "execution_count": null,
      "metadata": {
        "id": "MDGJfNBOcN9i"
      },
      "outputs": [],
      "source": [
        "print(food_few_shot_score)\n",
        "print(time_spent)"
      ]
    },
    {
      "cell_type": "markdown",
      "metadata": {
        "id": "DqspqZSuJNGm"
      },
      "source": [
        "# Hostpital Test\n",
        "Test hospital set on a small sample subset with zero shot. For perspective: A single row (19 attributes) took around 221.656 seconds."
      ]
    },
    {
      "cell_type": "code",
      "execution_count": null,
      "metadata": {
        "id": "BunaTkQQJJJQ"
      },
      "outputs": [],
      "source": [
        "shuffled_hospital_dirty, shuffled_hospital_clean = shuffle_dfs(hospital_dirty, hospital_clean, MAXIMUM_ROW_COUNT)\n",
        "comp = compare_dataframes_by_row(shuffled_hospital_dirty, shuffled_hospital_clean)\n",
        "ints_hospital = ground_truth_as_int(comp)"
      ]
    },
    {
      "cell_type": "code",
      "execution_count": null,
      "metadata": {
        "id": "Bxlrh2rpdYRI"
      },
      "outputs": [],
      "source": [
        "%%capture --no-stdout --no-display\n",
        "\n",
        "start_time = time.time()\n",
        "classified = prompt_table_zero_shot(shuffled_hospital_dirty)\n",
        "end_time = time.time()\n",
        "\n",
        "time_spent = elapsed_time = end_time - start_time\n",
        "hospital_zero_shot_score = f1_score(ints_hospital, classified)"
      ]
    },
    {
      "cell_type": "code",
      "execution_count": null,
      "metadata": {
        "id": "48Ow3IOSE9Mn"
      },
      "outputs": [],
      "source": [
        "print(time_spent)\n",
        "print(hospital_zero_shot_score)"
      ]
    },
    {
      "cell_type": "markdown",
      "metadata": {
        "id": "bZsJviBtFBuF"
      },
      "source": [
        "Test hospital set on small subset with few shot"
      ]
    },
    {
      "cell_type": "code",
      "execution_count": null,
      "metadata": {
        "id": "sZXIESzTERXd"
      },
      "outputs": [],
      "source": [
        "%%capture --no-stdout --no-display\n",
        "\n",
        "start_time = time.time()\n",
        "classified_few_shot = prompt_table_few_shot(shuffled_hospital_dirty,shuffled_hospital_clean)\n",
        "end_time = time.time()\n",
        "\n",
        "time_spent = elapsed_time = end_time - start_time\n",
        "hospital_few_shot_score = f1_score(ints_hospital, classified_few_shot)"
      ]
    },
    {
      "cell_type": "code",
      "execution_count": null,
      "metadata": {
        "id": "kwxXLHnCgcyA"
      },
      "outputs": [],
      "source": [
        "print(time_spent)\n",
        "print(hospital_few_shot_score)"
      ]
    },
    {
      "cell_type": "markdown",
      "metadata": {
        "id": "fJb_IWRPzpby"
      },
      "source": [
        "## Evaluation"
      ]
    },
    {
      "cell_type": "markdown",
      "metadata": {
        "id": "kGgVNQPOJ3DK"
      },
      "source": [
        "# TODO:\n",
        "\n",
        "- retrieve the errors from the answer in an automatic way\n",
        "- compute recall/f1 etc. from clean data\n",
        "- test different prompts\n",
        "- test different hyperparameters (?)\n",
        "- automate experiments for different parameters\n",
        "\n"
      ]
    }
  ],
  "metadata": {
    "accelerator": "GPU",
    "colab": {
      "gpuType": "T4",
      "provenance": [],
      "toc_visible": true
    },
    "kernelspec": {
      "display_name": "Python 3",
      "name": "python3"
    },
    "language_info": {
      "codemirror_mode": {
        "name": "ipython",
        "version": 3
      },
      "file_extension": ".py",
      "mimetype": "text/x-python",
      "name": "python",
      "nbconvert_exporter": "python",
      "pygments_lexer": "ipython3",
      "version": "3.10.13"
    },
    "widgets": {
      "application/vnd.jupyter.widget-state+json": {
        "09d42872c6c6458e9a332aa727f5470f": {
          "model_module": "@jupyter-widgets/base",
          "model_module_version": "1.2.0",
          "model_name": "LayoutModel",
          "state": {
            "_model_module": "@jupyter-widgets/base",
            "_model_module_version": "1.2.0",
            "_model_name": "LayoutModel",
            "_view_count": null,
            "_view_module": "@jupyter-widgets/base",
            "_view_module_version": "1.2.0",
            "_view_name": "LayoutView",
            "align_content": null,
            "align_items": null,
            "align_self": null,
            "border": null,
            "bottom": null,
            "display": null,
            "flex": null,
            "flex_flow": null,
            "grid_area": null,
            "grid_auto_columns": null,
            "grid_auto_flow": null,
            "grid_auto_rows": null,
            "grid_column": null,
            "grid_gap": null,
            "grid_row": null,
            "grid_template_areas": null,
            "grid_template_columns": null,
            "grid_template_rows": null,
            "height": null,
            "justify_content": null,
            "justify_items": null,
            "left": null,
            "margin": null,
            "max_height": null,
            "max_width": null,
            "min_height": null,
            "min_width": null,
            "object_fit": null,
            "object_position": null,
            "order": null,
            "overflow": null,
            "overflow_x": null,
            "overflow_y": null,
            "padding": null,
            "right": null,
            "top": null,
            "visibility": null,
            "width": null
          }
        },
        "0b2cf038ae21412eabfe39c512a200a5": {
          "model_module": "@jupyter-widgets/controls",
          "model_module_version": "1.5.0",
          "model_name": "ProgressStyleModel",
          "state": {
            "_model_module": "@jupyter-widgets/controls",
            "_model_module_version": "1.5.0",
            "_model_name": "ProgressStyleModel",
            "_view_count": null,
            "_view_module": "@jupyter-widgets/base",
            "_view_module_version": "1.2.0",
            "_view_name": "StyleView",
            "bar_color": null,
            "description_width": ""
          }
        },
        "156a2a533b1a4eda962fd942ff957aeb": {
          "model_module": "@jupyter-widgets/base",
          "model_module_version": "1.2.0",
          "model_name": "LayoutModel",
          "state": {
            "_model_module": "@jupyter-widgets/base",
            "_model_module_version": "1.2.0",
            "_model_name": "LayoutModel",
            "_view_count": null,
            "_view_module": "@jupyter-widgets/base",
            "_view_module_version": "1.2.0",
            "_view_name": "LayoutView",
            "align_content": null,
            "align_items": null,
            "align_self": null,
            "border": null,
            "bottom": null,
            "display": null,
            "flex": null,
            "flex_flow": null,
            "grid_area": null,
            "grid_auto_columns": null,
            "grid_auto_flow": null,
            "grid_auto_rows": null,
            "grid_column": null,
            "grid_gap": null,
            "grid_row": null,
            "grid_template_areas": null,
            "grid_template_columns": null,
            "grid_template_rows": null,
            "height": null,
            "justify_content": null,
            "justify_items": null,
            "left": null,
            "margin": null,
            "max_height": null,
            "max_width": null,
            "min_height": null,
            "min_width": null,
            "object_fit": null,
            "object_position": null,
            "order": null,
            "overflow": null,
            "overflow_x": null,
            "overflow_y": null,
            "padding": null,
            "right": null,
            "top": null,
            "visibility": null,
            "width": null
          }
        },
        "1797e1f7ab1c4c5ebe61ddad6e81dd2c": {
          "model_module": "@jupyter-widgets/controls",
          "model_module_version": "1.5.0",
          "model_name": "HTMLModel",
          "state": {
            "_dom_classes": [],
            "_model_module": "@jupyter-widgets/controls",
            "_model_module_version": "1.5.0",
            "_model_name": "HTMLModel",
            "_view_count": null,
            "_view_module": "@jupyter-widgets/controls",
            "_view_module_version": "1.5.0",
            "_view_name": "HTMLView",
            "description": "",
            "description_tooltip": null,
            "layout": "IPY_MODEL_09d42872c6c6458e9a332aa727f5470f",
            "placeholder": "​",
            "style": "IPY_MODEL_a68b5332106b412e9e6703ed794fbe6c",
            "value": " 9.76G/9.76G [00:50&lt;00:00, 202MB/s]"
          }
        },
        "315bc2cd30fe4991ae619e809df120ab": {
          "model_module": "@jupyter-widgets/base",
          "model_module_version": "1.2.0",
          "model_name": "LayoutModel",
          "state": {
            "_model_module": "@jupyter-widgets/base",
            "_model_module_version": "1.2.0",
            "_model_name": "LayoutModel",
            "_view_count": null,
            "_view_module": "@jupyter-widgets/base",
            "_view_module_version": "1.2.0",
            "_view_name": "LayoutView",
            "align_content": null,
            "align_items": null,
            "align_self": null,
            "border": null,
            "bottom": null,
            "display": null,
            "flex": null,
            "flex_flow": null,
            "grid_area": null,
            "grid_auto_columns": null,
            "grid_auto_flow": null,
            "grid_auto_rows": null,
            "grid_column": null,
            "grid_gap": null,
            "grid_row": null,
            "grid_template_areas": null,
            "grid_template_columns": null,
            "grid_template_rows": null,
            "height": null,
            "justify_content": null,
            "justify_items": null,
            "left": null,
            "margin": null,
            "max_height": null,
            "max_width": null,
            "min_height": null,
            "min_width": null,
            "object_fit": null,
            "object_position": null,
            "order": null,
            "overflow": null,
            "overflow_x": null,
            "overflow_y": null,
            "padding": null,
            "right": null,
            "top": null,
            "visibility": null,
            "width": null
          }
        },
        "556bfcb645634b35b03a984f33479337": {
          "model_module": "@jupyter-widgets/controls",
          "model_module_version": "1.5.0",
          "model_name": "DescriptionStyleModel",
          "state": {
            "_model_module": "@jupyter-widgets/controls",
            "_model_module_version": "1.5.0",
            "_model_name": "DescriptionStyleModel",
            "_view_count": null,
            "_view_module": "@jupyter-widgets/base",
            "_view_module_version": "1.2.0",
            "_view_name": "StyleView",
            "description_width": ""
          }
        },
        "5713394de8fc4e188305da99ed3246e1": {
          "model_module": "@jupyter-widgets/controls",
          "model_module_version": "1.5.0",
          "model_name": "HBoxModel",
          "state": {
            "_dom_classes": [],
            "_model_module": "@jupyter-widgets/controls",
            "_model_module_version": "1.5.0",
            "_model_name": "HBoxModel",
            "_view_count": null,
            "_view_module": "@jupyter-widgets/controls",
            "_view_module_version": "1.5.0",
            "_view_name": "HBoxView",
            "box_style": "",
            "children": [
              "IPY_MODEL_e5558c97f5164068a6d3fcd9cd92c882",
              "IPY_MODEL_e2b78e4398764cf3a2d16b903bcb9250",
              "IPY_MODEL_1797e1f7ab1c4c5ebe61ddad6e81dd2c"
            ],
            "layout": "IPY_MODEL_d3878af2847e4e0a9c5f9d23939413dd"
          }
        },
        "95da484b7b894ab69520b7a2212cf401": {
          "model_module": "@jupyter-widgets/controls",
          "model_module_version": "1.5.0",
          "model_name": "ProgressStyleModel",
          "state": {
            "_model_module": "@jupyter-widgets/controls",
            "_model_module_version": "1.5.0",
            "_model_name": "ProgressStyleModel",
            "_view_count": null,
            "_view_module": "@jupyter-widgets/base",
            "_view_module_version": "1.2.0",
            "_view_name": "StyleView",
            "bar_color": null,
            "description_width": ""
          }
        },
        "9d44840150934f83abada9fff846cde4": {
          "model_module": "@jupyter-widgets/controls",
          "model_module_version": "1.5.0",
          "model_name": "IntProgressModel",
          "state": {
            "_dom_classes": [],
            "_model_module": "@jupyter-widgets/controls",
            "_model_module_version": "1.5.0",
            "_model_name": "IntProgressModel",
            "_view_count": null,
            "_view_module": "@jupyter-widgets/controls",
            "_view_module_version": "1.5.0",
            "_view_name": "ProgressView",
            "bar_style": "",
            "description": "Attributes Prompted",
            "description_tooltip": null,
            "layout": "IPY_MODEL_d2d754e3beb1475797fefdfc9158f191",
            "max": 60,
            "min": 0,
            "orientation": "horizontal",
            "style": "IPY_MODEL_0b2cf038ae21412eabfe39c512a200a5",
            "value": 60
          }
        },
        "a68b5332106b412e9e6703ed794fbe6c": {
          "model_module": "@jupyter-widgets/controls",
          "model_module_version": "1.5.0",
          "model_name": "DescriptionStyleModel",
          "state": {
            "_model_module": "@jupyter-widgets/controls",
            "_model_module_version": "1.5.0",
            "_model_name": "DescriptionStyleModel",
            "_view_count": null,
            "_view_module": "@jupyter-widgets/base",
            "_view_module_version": "1.2.0",
            "_view_name": "StyleView",
            "description_width": ""
          }
        },
        "b999fb0abf2f4210bea023359bdaf409": {
          "model_module": "@jupyter-widgets/base",
          "model_module_version": "1.2.0",
          "model_name": "LayoutModel",
          "state": {
            "_model_module": "@jupyter-widgets/base",
            "_model_module_version": "1.2.0",
            "_model_name": "LayoutModel",
            "_view_count": null,
            "_view_module": "@jupyter-widgets/base",
            "_view_module_version": "1.2.0",
            "_view_name": "LayoutView",
            "align_content": null,
            "align_items": null,
            "align_self": null,
            "border": null,
            "bottom": null,
            "display": null,
            "flex": null,
            "flex_flow": null,
            "grid_area": null,
            "grid_auto_columns": null,
            "grid_auto_flow": null,
            "grid_auto_rows": null,
            "grid_column": null,
            "grid_gap": null,
            "grid_row": null,
            "grid_template_areas": null,
            "grid_template_columns": null,
            "grid_template_rows": null,
            "height": null,
            "justify_content": null,
            "justify_items": null,
            "left": null,
            "margin": null,
            "max_height": null,
            "max_width": null,
            "min_height": null,
            "min_width": null,
            "object_fit": null,
            "object_position": null,
            "order": null,
            "overflow": null,
            "overflow_x": null,
            "overflow_y": null,
            "padding": null,
            "right": null,
            "top": null,
            "visibility": null,
            "width": null
          }
        },
        "c23151dc4e7047d9b345d0be8332f865": {
          "model_module": "@jupyter-widgets/controls",
          "model_module_version": "1.5.0",
          "model_name": "ProgressStyleModel",
          "state": {
            "_model_module": "@jupyter-widgets/controls",
            "_model_module_version": "1.5.0",
            "_model_name": "ProgressStyleModel",
            "_view_count": null,
            "_view_module": "@jupyter-widgets/base",
            "_view_module_version": "1.2.0",
            "_view_name": "StyleView",
            "bar_color": null,
            "description_width": ""
          }
        },
        "d2d754e3beb1475797fefdfc9158f191": {
          "model_module": "@jupyter-widgets/base",
          "model_module_version": "1.2.0",
          "model_name": "LayoutModel",
          "state": {
            "_model_module": "@jupyter-widgets/base",
            "_model_module_version": "1.2.0",
            "_model_name": "LayoutModel",
            "_view_count": null,
            "_view_module": "@jupyter-widgets/base",
            "_view_module_version": "1.2.0",
            "_view_name": "LayoutView",
            "align_content": null,
            "align_items": null,
            "align_self": null,
            "border": null,
            "bottom": null,
            "display": null,
            "flex": null,
            "flex_flow": null,
            "grid_area": null,
            "grid_auto_columns": null,
            "grid_auto_flow": null,
            "grid_auto_rows": null,
            "grid_column": null,
            "grid_gap": null,
            "grid_row": null,
            "grid_template_areas": null,
            "grid_template_columns": null,
            "grid_template_rows": null,
            "height": null,
            "justify_content": null,
            "justify_items": null,
            "left": null,
            "margin": null,
            "max_height": null,
            "max_width": null,
            "min_height": null,
            "min_width": null,
            "object_fit": null,
            "object_position": null,
            "order": null,
            "overflow": null,
            "overflow_x": null,
            "overflow_y": null,
            "padding": null,
            "right": null,
            "top": null,
            "visibility": null,
            "width": null
          }
        },
        "d3878af2847e4e0a9c5f9d23939413dd": {
          "model_module": "@jupyter-widgets/base",
          "model_module_version": "1.2.0",
          "model_name": "LayoutModel",
          "state": {
            "_model_module": "@jupyter-widgets/base",
            "_model_module_version": "1.2.0",
            "_model_name": "LayoutModel",
            "_view_count": null,
            "_view_module": "@jupyter-widgets/base",
            "_view_module_version": "1.2.0",
            "_view_name": "LayoutView",
            "align_content": null,
            "align_items": null,
            "align_self": null,
            "border": null,
            "bottom": null,
            "display": null,
            "flex": null,
            "flex_flow": null,
            "grid_area": null,
            "grid_auto_columns": null,
            "grid_auto_flow": null,
            "grid_auto_rows": null,
            "grid_column": null,
            "grid_gap": null,
            "grid_row": null,
            "grid_template_areas": null,
            "grid_template_columns": null,
            "grid_template_rows": null,
            "height": null,
            "justify_content": null,
            "justify_items": null,
            "left": null,
            "margin": null,
            "max_height": null,
            "max_width": null,
            "min_height": null,
            "min_width": null,
            "object_fit": null,
            "object_position": null,
            "order": null,
            "overflow": null,
            "overflow_x": null,
            "overflow_y": null,
            "padding": null,
            "right": null,
            "top": null,
            "visibility": null,
            "width": null
          }
        },
        "e2b78e4398764cf3a2d16b903bcb9250": {
          "model_module": "@jupyter-widgets/controls",
          "model_module_version": "1.5.0",
          "model_name": "FloatProgressModel",
          "state": {
            "_dom_classes": [],
            "_model_module": "@jupyter-widgets/controls",
            "_model_module_version": "1.5.0",
            "_model_name": "FloatProgressModel",
            "_view_count": null,
            "_view_module": "@jupyter-widgets/controls",
            "_view_module_version": "1.5.0",
            "_view_name": "ProgressView",
            "bar_style": "success",
            "description": "",
            "description_tooltip": null,
            "layout": "IPY_MODEL_b999fb0abf2f4210bea023359bdaf409",
            "max": 9763701888,
            "min": 0,
            "orientation": "horizontal",
            "style": "IPY_MODEL_c23151dc4e7047d9b345d0be8332f865",
            "value": 9763701888
          }
        },
        "e5558c97f5164068a6d3fcd9cd92c882": {
          "model_module": "@jupyter-widgets/controls",
          "model_module_version": "1.5.0",
          "model_name": "HTMLModel",
          "state": {
            "_dom_classes": [],
            "_model_module": "@jupyter-widgets/controls",
            "_model_module_version": "1.5.0",
            "_model_name": "HTMLModel",
            "_view_count": null,
            "_view_module": "@jupyter-widgets/controls",
            "_view_module_version": "1.5.0",
            "_view_name": "HTMLView",
            "description": "",
            "description_tooltip": null,
            "layout": "IPY_MODEL_315bc2cd30fe4991ae619e809df120ab",
            "placeholder": "​",
            "style": "IPY_MODEL_556bfcb645634b35b03a984f33479337",
            "value": "llama-2-13b-chat.ggmlv3.q5_1.bin: 100%"
          }
        },
        "e67519cc43eb47938159d54439b8fece": {
          "model_module": "@jupyter-widgets/controls",
          "model_module_version": "1.5.0",
          "model_name": "IntProgressModel",
          "state": {
            "_dom_classes": [],
            "_model_module": "@jupyter-widgets/controls",
            "_model_module_version": "1.5.0",
            "_model_name": "IntProgressModel",
            "_view_count": null,
            "_view_module": "@jupyter-widgets/controls",
            "_view_module_version": "1.5.0",
            "_view_name": "ProgressView",
            "bar_style": "",
            "description": "Attributes Prompted",
            "description_tooltip": null,
            "layout": "IPY_MODEL_156a2a533b1a4eda962fd942ff957aeb",
            "max": 600,
            "min": 0,
            "orientation": "horizontal",
            "style": "IPY_MODEL_95da484b7b894ab69520b7a2212cf401",
            "value": 600
          }
        }
      }
    }
  },
  "nbformat": 4,
  "nbformat_minor": 0
}
