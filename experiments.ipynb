{
  "cells": [
    {
      "cell_type": "markdown",
      "metadata": {
        "id": "93O27az2E2Dh"
      },
      "source": [
        "# Setup\n",
        "\n",
        "The llama setup was moved to __experiment/setupExperiment.py__ inside the __init__() function."
      ]
    },
    {
      "cell_type": "markdown",
      "metadata": {
        "id": "IlciArfg-Cmu"
      },
      "source": [
        "## Load Data\n",
        "\n",
        "The loading and handling of the data sets is handled by the external DataSet class. This class provides access to all the datasets as datafames via their Subclasses, such as the Flights class. Each Subclass provides access to the data as DataFrames via the .get(Boolean) function. The Boolean controls whether the dirty or clean set should be returned.\n",
        "\n",
        "Each DataSet Subclass also provides the following functionalities:\n",
        "* random_sample(amount) generates two DataFrames, a dirty set and a clean set, of the given size with random (non-duplicate) sample rows.\n",
        "* generate_examples(column_id, amount) generates an example string of 'amount' random sample rows. Whether or not there is an error in the column of the given id is appended as well. \n"
      ]
    },
    {
      "cell_type": "code",
      "execution_count": 9,
      "metadata": {},
      "outputs": [
        {
          "data": {
            "text/html": [
              "<div>\n",
              "<style scoped>\n",
              "    .dataframe tbody tr th:only-of-type {\n",
              "        vertical-align: middle;\n",
              "    }\n",
              "\n",
              "    .dataframe tbody tr th {\n",
              "        vertical-align: top;\n",
              "    }\n",
              "\n",
              "    .dataframe thead th {\n",
              "        text-align: right;\n",
              "    }\n",
              "</style>\n",
              "<table border=\"1\" class=\"dataframe\">\n",
              "  <thead>\n",
              "    <tr style=\"text-align: right;\">\n",
              "      <th></th>\n",
              "      <th>src</th>\n",
              "      <th>flight</th>\n",
              "      <th>sched_dep_time</th>\n",
              "      <th>act_dep_time</th>\n",
              "      <th>sched_arr_time</th>\n",
              "      <th>act_arr_time</th>\n",
              "    </tr>\n",
              "  </thead>\n",
              "  <tbody>\n",
              "    <tr>\n",
              "      <th>0</th>\n",
              "      <td>aa</td>\n",
              "      <td>AA-3859-IAH-ORD</td>\n",
              "      <td>7:10 a.m.</td>\n",
              "      <td>7:16 a.m.</td>\n",
              "      <td>9:40 a.m.</td>\n",
              "      <td>9:32 a.m.</td>\n",
              "    </tr>\n",
              "    <tr>\n",
              "      <th>1</th>\n",
              "      <td>aa</td>\n",
              "      <td>AA-1733-ORD-PHX</td>\n",
              "      <td>7:45 p.m.</td>\n",
              "      <td>7:58 p.m.</td>\n",
              "      <td>10:30 p.m.</td>\n",
              "      <td>NaN</td>\n",
              "    </tr>\n",
              "    <tr>\n",
              "      <th>2</th>\n",
              "      <td>aa</td>\n",
              "      <td>AA-1640-MIA-MCO</td>\n",
              "      <td>6:30 p.m.</td>\n",
              "      <td>NaN</td>\n",
              "      <td>7:25 p.m.</td>\n",
              "      <td>NaN</td>\n",
              "    </tr>\n",
              "    <tr>\n",
              "      <th>3</th>\n",
              "      <td>aa</td>\n",
              "      <td>AA-518-MIA-JFK</td>\n",
              "      <td>6:40 a.m.</td>\n",
              "      <td>6:54 a.m.</td>\n",
              "      <td>9:25 a.m.</td>\n",
              "      <td>9:28 a.m.</td>\n",
              "    </tr>\n",
              "    <tr>\n",
              "      <th>4</th>\n",
              "      <td>aa</td>\n",
              "      <td>AA-3756-ORD-SLC</td>\n",
              "      <td>12:15 p.m.</td>\n",
              "      <td>12:41 p.m.</td>\n",
              "      <td>2:45 p.m.</td>\n",
              "      <td>2:50 p.m.</td>\n",
              "    </tr>\n",
              "    <tr>\n",
              "      <th>...</th>\n",
              "      <td>...</td>\n",
              "      <td>...</td>\n",
              "      <td>...</td>\n",
              "      <td>...</td>\n",
              "      <td>...</td>\n",
              "      <td>...</td>\n",
              "    </tr>\n",
              "    <tr>\n",
              "      <th>2371</th>\n",
              "      <td>world-flight-tracker</td>\n",
              "      <td>UA-3099-PHX-PHL</td>\n",
              "      <td>11:55 a.m.</td>\n",
              "      <td>11:43 a.m.</td>\n",
              "      <td>6:17 p.m.</td>\n",
              "      <td>5:38 p.m.</td>\n",
              "    </tr>\n",
              "    <tr>\n",
              "      <th>2372</th>\n",
              "      <td>world-flight-tracker</td>\n",
              "      <td>AA-4198-ORD-CLE</td>\n",
              "      <td>10:40 a.m.</td>\n",
              "      <td>10:54 a.m.</td>\n",
              "      <td>12:55 p.m.</td>\n",
              "      <td>12:50 p.m.</td>\n",
              "    </tr>\n",
              "    <tr>\n",
              "      <th>2373</th>\n",
              "      <td>world-flight-tracker</td>\n",
              "      <td>CO-45-EWR-MIA</td>\n",
              "      <td>4:00 p.m.</td>\n",
              "      <td>3:58 p.m.</td>\n",
              "      <td>7:05 p.m.</td>\n",
              "      <td>6:36 p.m.</td>\n",
              "    </tr>\n",
              "    <tr>\n",
              "      <th>2374</th>\n",
              "      <td>world-flight-tracker</td>\n",
              "      <td>AA-3809-PHX-LAX</td>\n",
              "      <td>6:00 a.m.</td>\n",
              "      <td>6:10 a.m.</td>\n",
              "      <td>6:40 a.m.</td>\n",
              "      <td>6:19 a.m.</td>\n",
              "    </tr>\n",
              "    <tr>\n",
              "      <th>2375</th>\n",
              "      <td>world-flight-tracker</td>\n",
              "      <td>AA-59-JFK-SFO</td>\n",
              "      <td>7:10 a.m.</td>\n",
              "      <td>7:39 a.m.</td>\n",
              "      <td>10:45 a.m.</td>\n",
              "      <td>11:12 a.m.</td>\n",
              "    </tr>\n",
              "  </tbody>\n",
              "</table>\n",
              "<p>2376 rows × 6 columns</p>\n",
              "</div>"
            ],
            "text/plain": [
              "                       src           flight sched_dep_time act_dep_time  \\\n",
              "0                       aa  AA-3859-IAH-ORD      7:10 a.m.    7:16 a.m.   \n",
              "1                       aa  AA-1733-ORD-PHX      7:45 p.m.    7:58 p.m.   \n",
              "2                       aa  AA-1640-MIA-MCO      6:30 p.m.          NaN   \n",
              "3                       aa   AA-518-MIA-JFK      6:40 a.m.    6:54 a.m.   \n",
              "4                       aa  AA-3756-ORD-SLC     12:15 p.m.   12:41 p.m.   \n",
              "...                    ...              ...            ...          ...   \n",
              "2371  world-flight-tracker  UA-3099-PHX-PHL     11:55 a.m.   11:43 a.m.   \n",
              "2372  world-flight-tracker  AA-4198-ORD-CLE     10:40 a.m.   10:54 a.m.   \n",
              "2373  world-flight-tracker    CO-45-EWR-MIA      4:00 p.m.    3:58 p.m.   \n",
              "2374  world-flight-tracker  AA-3809-PHX-LAX      6:00 a.m.    6:10 a.m.   \n",
              "2375  world-flight-tracker    AA-59-JFK-SFO      7:10 a.m.    7:39 a.m.   \n",
              "\n",
              "     sched_arr_time act_arr_time  \n",
              "0         9:40 a.m.    9:32 a.m.  \n",
              "1        10:30 p.m.          NaN  \n",
              "2         7:25 p.m.          NaN  \n",
              "3         9:25 a.m.    9:28 a.m.  \n",
              "4         2:45 p.m.    2:50 p.m.  \n",
              "...             ...          ...  \n",
              "2371      6:17 p.m.    5:38 p.m.  \n",
              "2372     12:55 p.m.   12:50 p.m.  \n",
              "2373      7:05 p.m.    6:36 p.m.  \n",
              "2374      6:40 a.m.    6:19 a.m.  \n",
              "2375     10:45 a.m.   11:12 a.m.  \n",
              "\n",
              "[2376 rows x 6 columns]"
            ]
          },
          "execution_count": 9,
          "metadata": {},
          "output_type": "execute_result"
        }
      ],
      "source": [
        "from DataSet import Flights, Food, Hospital\n",
        "Flights().get(True)"
      ]
    },
    {
      "cell_type": "code",
      "execution_count": 10,
      "metadata": {},
      "outputs": [
        {
          "data": {
            "text/html": [
              "<div>\n",
              "<style scoped>\n",
              "    .dataframe tbody tr th:only-of-type {\n",
              "        vertical-align: middle;\n",
              "    }\n",
              "\n",
              "    .dataframe tbody tr th {\n",
              "        vertical-align: top;\n",
              "    }\n",
              "\n",
              "    .dataframe thead th {\n",
              "        text-align: right;\n",
              "    }\n",
              "</style>\n",
              "<table border=\"1\" class=\"dataframe\">\n",
              "  <thead>\n",
              "    <tr style=\"text-align: right;\">\n",
              "      <th></th>\n",
              "      <th>provider number</th>\n",
              "      <th>hospital name</th>\n",
              "      <th>address1</th>\n",
              "      <th>address2</th>\n",
              "      <th>address3</th>\n",
              "      <th>city</th>\n",
              "      <th>state</th>\n",
              "      <th>zip code</th>\n",
              "      <th>county name</th>\n",
              "      <th>phone number</th>\n",
              "      <th>hospital type</th>\n",
              "      <th>hospital owner</th>\n",
              "      <th>emergency service</th>\n",
              "      <th>condition</th>\n",
              "      <th>measure code</th>\n",
              "      <th>measure name</th>\n",
              "      <th>score</th>\n",
              "      <th>sample</th>\n",
              "      <th>stateavg</th>\n",
              "    </tr>\n",
              "  </thead>\n",
              "  <tbody>\n",
              "    <tr>\n",
              "      <th>35</th>\n",
              "      <td>10001</td>\n",
              "      <td>SOUTHEAST ALABAMA MEDICAL CENTER</td>\n",
              "      <td>1108 ROSS CLARK CIRCLE</td>\n",
              "      <td>NaN</td>\n",
              "      <td>NaN</td>\n",
              "      <td>DOTHAN</td>\n",
              "      <td>AL</td>\n",
              "      <td>36302</td>\n",
              "      <td>HOUSTON</td>\n",
              "      <td>3347938701</td>\n",
              "      <td>Acute Care Hospitals</td>\n",
              "      <td>Government - Hospital District or Authority</td>\n",
              "      <td>Yes</td>\n",
              "      <td>Pneumonia</td>\n",
              "      <td>PN-7</td>\n",
              "      <td>Pneumonia Patients Assessed and Given Influenz...</td>\n",
              "      <td>84%</td>\n",
              "      <td>160 patients</td>\n",
              "      <td>AL_PN-7</td>\n",
              "    </tr>\n",
              "    <tr>\n",
              "      <th>991</th>\n",
              "      <td>10050</td>\n",
              "      <td>ST VINCENTS BLOUNT</td>\n",
              "      <td>150 GILBREATH DRIVE</td>\n",
              "      <td>NaN</td>\n",
              "      <td>NaN</td>\n",
              "      <td>ONEONTA</td>\n",
              "      <td>AL</td>\n",
              "      <td>35121</td>\n",
              "      <td>BLOUNT</td>\n",
              "      <td>2052743000</td>\n",
              "      <td>Acute Care Hospitals</td>\n",
              "      <td>Voluntary non-profit - Private</td>\n",
              "      <td>Yes</td>\n",
              "      <td>Pneumonia</td>\n",
              "      <td>PN-2</td>\n",
              "      <td>Pneumonia Patients Assessed and Given Pneumoco...</td>\n",
              "      <td>74%</td>\n",
              "      <td>92 patients</td>\n",
              "      <td>AL_PN-2</td>\n",
              "    </tr>\n",
              "    <tr>\n",
              "      <th>249</th>\n",
              "      <td>10015</td>\n",
              "      <td>SOUTHWEST ALABAMA MEDICAL CENTER</td>\n",
              "      <td>33700 HIGHWAY 43</td>\n",
              "      <td>NaN</td>\n",
              "      <td>NaN</td>\n",
              "      <td>THOMASVILLE</td>\n",
              "      <td>AL</td>\n",
              "      <td>36784</td>\n",
              "      <td>CLARKE</td>\n",
              "      <td>3346366221</td>\n",
              "      <td>Acute Care Hospitals</td>\n",
              "      <td>Government - Federal</td>\n",
              "      <td>Yes</td>\n",
              "      <td>Heart Attack</td>\n",
              "      <td>AMI-7A</td>\n",
              "      <td>Heart Attack Patients Given Fibrinolytic Medic...</td>\n",
              "      <td>NaN</td>\n",
              "      <td>0 patients</td>\n",
              "      <td>AL_AMI-7A</td>\n",
              "    </tr>\n",
              "    <tr>\n",
              "      <th>669</th>\n",
              "      <td>10033</td>\n",
              "      <td>UNIVERSITY OF ALABAMA HOSPITAL</td>\n",
              "      <td>619 SOUTH 19TH STREET</td>\n",
              "      <td>NaN</td>\n",
              "      <td>NaN</td>\n",
              "      <td>BIRMINGHAM</td>\n",
              "      <td>AL</td>\n",
              "      <td>35233</td>\n",
              "      <td>JEFFERSON</td>\n",
              "      <td>2059344011</td>\n",
              "      <td>Acute Care Hospitals</td>\n",
              "      <td>Government - State</td>\n",
              "      <td>Yes</td>\n",
              "      <td>Heart Attack</td>\n",
              "      <td>AMI-3</td>\n",
              "      <td>Heart Attack Patients Given ACE Inhibitor or A...</td>\n",
              "      <td>91%</td>\n",
              "      <td>87 paxienxs</td>\n",
              "      <td>AL_AMI-3</td>\n",
              "    </tr>\n",
              "    <tr>\n",
              "      <th>194</th>\n",
              "      <td>10010</td>\n",
              "      <td>MARSHALL MEDICAL CENTER NORTH</td>\n",
              "      <td>8000 ALABAMA HIGHWAY 69</td>\n",
              "      <td>NaN</td>\n",
              "      <td>NaN</td>\n",
              "      <td>GUNTERSVILLE</td>\n",
              "      <td>AL</td>\n",
              "      <td>35976</td>\n",
              "      <td>MARSHALL</td>\n",
              "      <td>2565718000</td>\n",
              "      <td>Acute Care Hospitals</td>\n",
              "      <td>Government - Hospital District or Authority</td>\n",
              "      <td>Yes</td>\n",
              "      <td>Surgical Infection Prevention</td>\n",
              "      <td>SCIP-VTE-2</td>\n",
              "      <td>patients who got treatment  at the right time ...</td>\n",
              "      <td>84%</td>\n",
              "      <td>56 patients</td>\n",
              "      <td>AL_SCIx-VTE-2</td>\n",
              "    </tr>\n",
              "  </tbody>\n",
              "</table>\n",
              "</div>"
            ],
            "text/plain": [
              "    provider number                     hospital name  \\\n",
              "35            10001  SOUTHEAST ALABAMA MEDICAL CENTER   \n",
              "991           10050                ST VINCENTS BLOUNT   \n",
              "249           10015  SOUTHWEST ALABAMA MEDICAL CENTER   \n",
              "669           10033    UNIVERSITY OF ALABAMA HOSPITAL   \n",
              "194           10010     MARSHALL MEDICAL CENTER NORTH   \n",
              "\n",
              "                    address1  address2  address3          city state zip code  \\\n",
              "35    1108 ROSS CLARK CIRCLE       NaN       NaN        DOTHAN    AL    36302   \n",
              "991      150 GILBREATH DRIVE       NaN       NaN       ONEONTA    AL    35121   \n",
              "249         33700 HIGHWAY 43       NaN       NaN   THOMASVILLE    AL    36784   \n",
              "669    619 SOUTH 19TH STREET       NaN       NaN    BIRMINGHAM    AL    35233   \n",
              "194  8000 ALABAMA HIGHWAY 69       NaN       NaN  GUNTERSVILLE    AL    35976   \n",
              "\n",
              "    county name phone number         hospital type  \\\n",
              "35      HOUSTON   3347938701  Acute Care Hospitals   \n",
              "991      BLOUNT   2052743000  Acute Care Hospitals   \n",
              "249      CLARKE   3346366221  Acute Care Hospitals   \n",
              "669   JEFFERSON   2059344011  Acute Care Hospitals   \n",
              "194    MARSHALL   2565718000  Acute Care Hospitals   \n",
              "\n",
              "                                  hospital owner emergency service  \\\n",
              "35   Government - Hospital District or Authority               Yes   \n",
              "991               Voluntary non-profit - Private               Yes   \n",
              "249                         Government - Federal               Yes   \n",
              "669                           Government - State               Yes   \n",
              "194  Government - Hospital District or Authority               Yes   \n",
              "\n",
              "                         condition measure code  \\\n",
              "35                       Pneumonia         PN-7   \n",
              "991                      Pneumonia         PN-2   \n",
              "249                   Heart Attack       AMI-7A   \n",
              "669                   Heart Attack        AMI-3   \n",
              "194  Surgical Infection Prevention   SCIP-VTE-2   \n",
              "\n",
              "                                          measure name score        sample  \\\n",
              "35   Pneumonia Patients Assessed and Given Influenz...   84%  160 patients   \n",
              "991  Pneumonia Patients Assessed and Given Pneumoco...   74%   92 patients   \n",
              "249  Heart Attack Patients Given Fibrinolytic Medic...   NaN    0 patients   \n",
              "669  Heart Attack Patients Given ACE Inhibitor or A...   91%   87 paxienxs   \n",
              "194  patients who got treatment  at the right time ...   84%   56 patients   \n",
              "\n",
              "          stateavg  \n",
              "35         AL_PN-7  \n",
              "991        AL_PN-2  \n",
              "249      AL_AMI-7A  \n",
              "669       AL_AMI-3  \n",
              "194  AL_SCIx-VTE-2  "
            ]
          },
          "execution_count": 10,
          "metadata": {},
          "output_type": "execute_result"
        }
      ],
      "source": [
        "Hospital().random_sample(5)[0]"
      ]
    },
    {
      "cell_type": "code",
      "execution_count": 11,
      "metadata": {},
      "outputs": [
        {
          "name": "stdout",
          "output_type": "stream",
          "text": [
            "akaname: VOLARE, inspectionid: 569451, city: CHICAGO, state: IL, results: Pass, longitude: -87.62260381, latitude: 41.89165221, inspectiondate: 20110714, risk: Risk 1 (High), location: (41.89165221441017, -87.62260381408842), license: 57820.0, facilitytype: Restaurant, address: 201 E GRAND AVE , inspectiontype: Canvass, dbaname: VOLARE, zip: 60611.0? No\n",
            "akaname: MR. PHILLY, inspectionid: 54254, city: CHICAGO, state: IL, results: Pass, longitude: -87.75783481, latitude: 41.89502331, inspectiondate: 20100302, risk: Risk 2 (Medium), location: (41.89502331496054, -87.75783480830066), license: 1649619.0, facilitytype: Restaurant, address: 5254 W CHICAGO AVE , inspectiontype: Complaint Re-Inspection, dbaname: MR. PHILLY, zip: 60651.0? No\n",
            "akaname: Earle, inspectionid: 543350, city: CHICAGO, state: IL, results: Pass, longitude: -87.66777712, latitude: 41.78230211, inspectiondate: 20110504, risk: Risk 1 (High), location: (41.782302105880994, -87.66777711762356), license: 23031.0, facilitytype: School, address: 6121 S Hermitage (1732W) , inspectiontype: Canvass, dbaname: EARLE ELEMENTARY, zip: 60636.0? No\n"
          ]
        }
      ],
      "source": [
        "print(Food().generate_examples(0, 3))"
      ]
    },
    {
      "cell_type": "markdown",
      "metadata": {
        "id": "opz-g210d__2"
      },
      "source": [
        "## Prompt Table Zero Shot\n",
        "The following examples show how to first initialise the experiment and then how to promt llama for error detection using our external, dedicated python ErrorDetection class. The whole creation of the llama model is inside the construction of the ErrorDetectionModel."
      ]
    },
    {
      "cell_type": "code",
      "execution_count": null,
      "metadata": {
        "id": "UOLl3bUHeHSn"
      },
      "outputs": [],
      "source": [
        "from experiment.errorDetection import ErrorDetection\n",
        "ed = ErrorDetection(dataset=Flights())"
      ]
    },
    {
      "cell_type": "code",
      "execution_count": 13,
      "metadata": {},
      "outputs": [
        {
          "name": "stderr",
          "output_type": "stream",
          "text": [
            "ErrorDetection (INFO):\tStarted zero shot for 2 rows\n",
            "ErrorDetection (INFO):\tStarted zero shot for 2 rows\n"
          ]
        },
        {
          "data": {
            "application/vnd.jupyter.widget-view+json": {
              "model_id": "a659a517d8e742f48b78c1ca9fb5d6d4",
              "version_major": 2,
              "version_minor": 0
            },
            "text/plain": [
              "IntProgress(value=0, description='Attributes Prompted Error Detection Zero Shot', max=12)"
            ]
          },
          "metadata": {},
          "output_type": "display_data"
        },
        {
          "name": "stderr",
          "output_type": "stream",
          "text": [
            "ErrorDetection (INFO):\tFinished Error Detection Zero Shot in 00:00:05\n",
            "ErrorDetection (INFO):\tFinished Error Detection Zero Shot in 00:00:05\n"
          ]
        },
        {
          "data": {
            "text/plain": [
              "(5.0234503746032715, 0.0)"
            ]
          },
          "execution_count": 13,
          "metadata": {},
          "output_type": "execute_result"
        }
      ],
      "source": [
        "%%capture --no-stdout --no-display\n",
        "\n",
        "ed.zero_shot(n_samples=2)"
      ]
    },
    {
      "cell_type": "code",
      "execution_count": 14,
      "metadata": {
        "id": "gEsYdHUsbOp-"
      },
      "outputs": [
        {
          "name": "stderr",
          "output_type": "stream",
          "text": [
            "ErrorDetection (INFO):\tStarted few shot for 2 rows with 2 examples\n",
            "ErrorDetection (INFO):\tStarted few shot for 2 rows with 2 examples\n"
          ]
        },
        {
          "data": {
            "application/vnd.jupyter.widget-view+json": {
              "model_id": "3158337516ff46c5b88906edcc098c59",
              "version_major": 2,
              "version_minor": 0
            },
            "text/plain": [
              "IntProgress(value=0, description='Attributes Prompted Error Detection Few Shot', max=12)"
            ]
          },
          "metadata": {},
          "output_type": "display_data"
        },
        {
          "name": "stderr",
          "output_type": "stream",
          "text": [
            "ErrorDetection (INFO):\tFinished Error Detection Few Shot in 00:01:32\n",
            "ErrorDetection (INFO):\tFinished Error Detection Few Shot in 00:01:32\n"
          ]
        },
        {
          "data": {
            "text/plain": [
              "(92.51563501358032, 0.2222222222222222)"
            ]
          },
          "execution_count": 14,
          "metadata": {},
          "output_type": "execute_result"
        }
      ],
      "source": [
        "%%capture --no-stdout --no-display\n",
        "\n",
        "ed.few_shot(n_samples=2)"
      ]
    },
    {
      "cell_type": "markdown",
      "metadata": {
        "id": "1Zu1nwsmFm4w"
      },
      "source": [
        "# Experiments (Setup)\n",
        "\n",
        "This is how we conduct the time and score peformance experiments for error detection on the three main datasets: Flights, Food and Hospital."
      ]
    },
    {
      "cell_type": "code",
      "execution_count": null,
      "metadata": {},
      "outputs": [],
      "source": [
        "from typing import Tuple\n",
        "import numpy as np\n",
        "import pandas as pd\n",
        "from ipywidgets import IntProgress\n",
        "from IPython.display import display\n",
        "import time\n",
        "\n",
        "from experiment.errorDetection import ErrorDetection\n",
        "\n",
        "# maximum number of rows that will be evaluated\n",
        "MAXIMUM_ROW_COUNT = 2 \n",
        "# print debug messages such as the prompts and responses\n",
        "DEBUG_MESSAGES = True \n",
        "\n",
        "error_detection_flights = ErrorDetection(dataset=Flights())\n",
        "error_detection_food = ErrorDetection(dataset=Food())\n",
        "error_detection_hospital = ErrorDetection(dataset=Hospital())"
      ]
    },
    {
      "cell_type": "markdown",
      "metadata": {
        "id": "VZyaZxHoD6MQ"
      },
      "source": [
        "## Flight Test\n",
        "Let's first compute the F1 score of Llama resposes by zero-shotting a sample of `MAXIMUM_ROW_COUNT` amount of random rows of the flight table.\n",
        "\n",
        "For perspective: Prompting a single row (6 attributes in this case) took around 32.192 seconds in one case and around 5.017 in another. It varies quite a bit."
      ]
    },
    {
      "cell_type": "code",
      "execution_count": 8,
      "metadata": {
        "id": "vSegEftIghjC"
      },
      "outputs": [
        {
          "name": "stderr",
          "output_type": "stream",
          "text": [
            "ErrorDetection (INFO):\tStarted zero shot for 2 rows\n",
            "ErrorDetection (INFO):\tStarted zero shot for 2 rows\n",
            "ErrorDetection (INFO):\tStarted zero shot for 2 rows\n",
            "ErrorDetection (INFO):\tStarted zero shot for 2 rows\n"
          ]
        },
        {
          "data": {
            "application/vnd.jupyter.widget-view+json": {
              "model_id": "da24436dc4e14e20b913515d8ba55c14",
              "version_major": 2,
              "version_minor": 0
            },
            "text/plain": [
              "IntProgress(value=0, description='Attributes Prompted Error Detection Zero Shot', max=12)"
            ]
          },
          "metadata": {},
          "output_type": "display_data"
        },
        {
          "name": "stderr",
          "output_type": "stream",
          "text": [
            "ErrorDetection (INFO):\tFinished Error Detection Zero Shot in 00:00:05\n",
            "ErrorDetection (INFO):\tFinished Error Detection Zero Shot in 00:00:05\n",
            "ErrorDetection (INFO):\tFinished Error Detection Zero Shot in 00:00:05\n",
            "ErrorDetection (INFO):\tFinished Error Detection Zero Shot in 00:00:05\n"
          ]
        },
        {
          "name": "stdout",
          "output_type": "stream",
          "text": [
            "Time: 5.443749666213989, f1-score: 0.0\n"
          ]
        }
      ],
      "source": [
        "flights_zero_shot_time, flights_zero_shot_score = error_detection_flights.zero_shot(n_samples=MAXIMUM_ROW_COUNT)\n",
        "print(f'Time: %s, f1-score: %s'%(flights_zero_shot_time, flights_zero_shot_score))"
      ]
    },
    {
      "cell_type": "markdown",
      "metadata": {},
      "source": [
        "Now the same experiment with few-shotting."
      ]
    },
    {
      "cell_type": "code",
      "execution_count": 9,
      "metadata": {
        "colab": {
          "base_uri": "https://localhost:8080/",
          "height": 49,
          "referenced_widgets": [
            "9d44840150934f83abada9fff846cde4",
            "d2d754e3beb1475797fefdfc9158f191",
            "0b2cf038ae21412eabfe39c512a200a5"
          ]
        },
        "id": "YEM1GBE1FXTY",
        "outputId": "79e54310-4322-4ed8-c58f-a919e8d30ac6"
      },
      "outputs": [
        {
          "name": "stderr",
          "output_type": "stream",
          "text": [
            "ErrorDetection (INFO):\tStarted few shot for 2 rows with 2 examples\n",
            "ErrorDetection (INFO):\tStarted few shot for 2 rows with 2 examples\n",
            "ErrorDetection (INFO):\tStarted few shot for 2 rows with 2 examples\n",
            "ErrorDetection (INFO):\tStarted few shot for 2 rows with 2 examples\n"
          ]
        },
        {
          "data": {
            "application/vnd.jupyter.widget-view+json": {
              "model_id": "f7c1eb5f13634149ad5a2dbc4ae79e25",
              "version_major": 2,
              "version_minor": 0
            },
            "text/plain": [
              "IntProgress(value=0, description='Attributes Prompted Error Detection Few Shot', max=12)"
            ]
          },
          "metadata": {},
          "output_type": "display_data"
        },
        {
          "name": "stderr",
          "output_type": "stream",
          "text": [
            "ErrorDetection (INFO):\tFinished Error Detection Few Shot in 00:02:06\n",
            "ErrorDetection (INFO):\tFinished Error Detection Few Shot in 00:02:06\n",
            "ErrorDetection (INFO):\tFinished Error Detection Few Shot in 00:02:06\n",
            "ErrorDetection (INFO):\tFinished Error Detection Few Shot in 00:02:06\n"
          ]
        },
        {
          "name": "stdout",
          "output_type": "stream",
          "text": [
            "Time: 126.298668384552, f1-score: 0.6666666666666666\n"
          ]
        }
      ],
      "source": [
        "flights_few_shot_time, flights_few_shot_score = error_detection_flights.few_shot(n_samples=MAXIMUM_ROW_COUNT, example_count=2)\n",
        "print(f'Time: %s, f1-score: %s'%(flights_few_shot_time, flights_few_shot_score))"
      ]
    },
    {
      "cell_type": "markdown",
      "metadata": {
        "id": "Ox9Kn0ArI6zY"
      },
      "source": [
        "# Food Test\n",
        "\n",
        "Next we conduct the same experiment on the Food dataset and we again start with zero-shot. \n",
        "\n",
        "For perspective: A single row (16 attributes) took around 137.798 seconds."
      ]
    },
    {
      "cell_type": "code",
      "execution_count": 10,
      "metadata": {
        "id": "DRvVEdHGJPWj"
      },
      "outputs": [
        {
          "name": "stderr",
          "output_type": "stream",
          "text": [
            "ErrorDetection (INFO):\tStarted zero shot for 2 rows\n",
            "ErrorDetection (INFO):\tStarted zero shot for 2 rows\n",
            "ErrorDetection (INFO):\tStarted zero shot for 2 rows\n",
            "ErrorDetection (INFO):\tStarted zero shot for 2 rows\n"
          ]
        },
        {
          "data": {
            "application/vnd.jupyter.widget-view+json": {
              "model_id": "078ee01a61734a06b59ed61165d12bac",
              "version_major": 2,
              "version_minor": 0
            },
            "text/plain": [
              "IntProgress(value=0, description='Attributes Prompted Error Detection Zero Shot', max=32)"
            ]
          },
          "metadata": {},
          "output_type": "display_data"
        },
        {
          "name": "stderr",
          "output_type": "stream",
          "text": [
            "ErrorDetection (INFO):\tFinished Error Detection Zero Shot in 00:05:13\n",
            "ErrorDetection (INFO):\tFinished Error Detection Zero Shot in 00:05:13\n",
            "ErrorDetection (INFO):\tFinished Error Detection Zero Shot in 00:05:13\n",
            "ErrorDetection (INFO):\tFinished Error Detection Zero Shot in 00:05:13\n"
          ]
        },
        {
          "name": "stdout",
          "output_type": "stream",
          "text": [
            "Time: 313.8261339664459, f1-score: 0.0\n"
          ]
        }
      ],
      "source": [
        "food_zero_shot_time, food_zero_shot_score = error_detection_food.zero_shot(n_samples=MAXIMUM_ROW_COUNT)\n",
        "print(f'Time: %s, f1-score: %s'%(food_zero_shot_time, food_zero_shot_score))"
      ]
    },
    {
      "cell_type": "markdown",
      "metadata": {
        "id": "a294YsxsEu4f"
      },
      "source": [
        "Next up is few shot on this dataset."
      ]
    },
    {
      "cell_type": "code",
      "execution_count": 11,
      "metadata": {
        "id": "RyMM22E-Eltp"
      },
      "outputs": [
        {
          "name": "stderr",
          "output_type": "stream",
          "text": [
            "ErrorDetection (INFO):\tStarted few shot for 2 rows with 2 examples\n",
            "ErrorDetection (INFO):\tStarted few shot for 2 rows with 2 examples\n",
            "ErrorDetection (INFO):\tStarted few shot for 2 rows with 2 examples\n",
            "ErrorDetection (INFO):\tStarted few shot for 2 rows with 2 examples\n"
          ]
        },
        {
          "data": {
            "application/vnd.jupyter.widget-view+json": {
              "model_id": "a5ca09fe9435435f8aed31c2cce716b0",
              "version_major": 2,
              "version_minor": 0
            },
            "text/plain": [
              "IntProgress(value=0, description='Attributes Prompted Error Detection Few Shot', max=32)"
            ]
          },
          "metadata": {},
          "output_type": "display_data"
        },
        {
          "name": "stderr",
          "output_type": "stream",
          "text": [
            "ErrorDetection (INFO):\tFinished Error Detection Few Shot in 00:08:09\n",
            "ErrorDetection (INFO):\tFinished Error Detection Few Shot in 00:08:09\n",
            "ErrorDetection (INFO):\tFinished Error Detection Few Shot in 00:08:09\n",
            "ErrorDetection (INFO):\tFinished Error Detection Few Shot in 00:08:09\n"
          ]
        },
        {
          "name": "stdout",
          "output_type": "stream",
          "text": [
            "Time: 489.44751358032227, f1-score: 0.0\n"
          ]
        }
      ],
      "source": [
        "food_few_shot_time, food_few_shot_score = error_detection_food.few_shot(n_samples=MAXIMUM_ROW_COUNT, example_count=2)\n",
        "print(f'Time: %s, f1-score: %s'%(food_few_shot_time, food_few_shot_score))"
      ]
    },
    {
      "cell_type": "markdown",
      "metadata": {
        "id": "DqspqZSuJNGm"
      },
      "source": [
        "# Hostpital Test\n",
        "Finally, we conduct the exact same experiment again, but this time on the Hospital dataset.\n",
        "\n",
        "For perspective: A single row (19 attributes) took around 221.656 seconds."
      ]
    },
    {
      "cell_type": "code",
      "execution_count": 12,
      "metadata": {
        "id": "BunaTkQQJJJQ"
      },
      "outputs": [
        {
          "name": "stderr",
          "output_type": "stream",
          "text": [
            "ErrorDetection (INFO):\tStarted zero shot for 2 rows\n",
            "ErrorDetection (INFO):\tStarted zero shot for 2 rows\n",
            "ErrorDetection (INFO):\tStarted zero shot for 2 rows\n",
            "ErrorDetection (INFO):\tStarted zero shot for 2 rows\n"
          ]
        },
        {
          "data": {
            "application/vnd.jupyter.widget-view+json": {
              "model_id": "bcd88748b89542e8997696b388577f53",
              "version_major": 2,
              "version_minor": 0
            },
            "text/plain": [
              "IntProgress(value=0, description='Attributes Prompted Error Detection Zero Shot', max=38)"
            ]
          },
          "metadata": {},
          "output_type": "display_data"
        },
        {
          "name": "stderr",
          "output_type": "stream",
          "text": [
            "ErrorDetection (INFO):\tFinished Error Detection Zero Shot in 00:06:19\n",
            "ErrorDetection (INFO):\tFinished Error Detection Zero Shot in 00:06:19\n",
            "ErrorDetection (INFO):\tFinished Error Detection Zero Shot in 00:06:19\n",
            "ErrorDetection (INFO):\tFinished Error Detection Zero Shot in 00:06:19\n"
          ]
        },
        {
          "name": "stdout",
          "output_type": "stream",
          "text": [
            "Time: 379.8894290924072, f1-score: 0.13333333333333336\n"
          ]
        }
      ],
      "source": [
        "hospital_zero_shot_time, hospital_zero_shot_score = error_detection_hospital.zero_shot(n_samples=MAXIMUM_ROW_COUNT)\n",
        "print(f'Time: %s, f1-score: %s'%(hospital_zero_shot_time, hospital_zero_shot_score))"
      ]
    },
    {
      "cell_type": "markdown",
      "metadata": {
        "id": "bZsJviBtFBuF"
      },
      "source": [
        "And now few-shot."
      ]
    },
    {
      "cell_type": "code",
      "execution_count": 13,
      "metadata": {
        "id": "sZXIESzTERXd"
      },
      "outputs": [
        {
          "name": "stderr",
          "output_type": "stream",
          "text": [
            "ErrorDetection (INFO):\tStarted few shot for 2 rows with 2 examples\n",
            "ErrorDetection (INFO):\tStarted few shot for 2 rows with 2 examples\n",
            "ErrorDetection (INFO):\tStarted few shot for 2 rows with 2 examples\n",
            "ErrorDetection (INFO):\tStarted few shot for 2 rows with 2 examples\n"
          ]
        },
        {
          "data": {
            "application/vnd.jupyter.widget-view+json": {
              "model_id": "ce71b46f16d44932a8fa09bdef259966",
              "version_major": 2,
              "version_minor": 0
            },
            "text/plain": [
              "IntProgress(value=0, description='Attributes Prompted Error Detection Few Shot', max=38)"
            ]
          },
          "metadata": {},
          "output_type": "display_data"
        },
        {
          "name": "stderr",
          "output_type": "stream",
          "text": [
            "ErrorDetection (INFO):\tFinished Error Detection Few Shot in 00:09:32\n",
            "ErrorDetection (INFO):\tFinished Error Detection Few Shot in 00:09:32\n",
            "ErrorDetection (INFO):\tFinished Error Detection Few Shot in 00:09:32\n",
            "ErrorDetection (INFO):\tFinished Error Detection Few Shot in 00:09:32\n"
          ]
        },
        {
          "name": "stdout",
          "output_type": "stream",
          "text": [
            "Time: 572.1538238525391, f1-score: 0.37499999999999994\n"
          ]
        }
      ],
      "source": [
        "hospital_few_shot_time, hospital_few_shot_score = error_detection_hospital.few_shot(n_samples=MAXIMUM_ROW_COUNT, example_count=2)\n",
        "print(f'Time: %s, f1-score: %s'%(hospital_few_shot_time, hospital_few_shot_score))"
      ]
    },
    {
      "cell_type": "markdown",
      "metadata": {},
      "source": [
        "# Custom Datasets\n",
        "\n",
        "It is also possible to run error detection promts on custom data. To do so we first need to create the appropriate datasets for the queries and the ground truth as dataframes. The following two code cells highlight one way to achieve this first step."
      ]
    },
    {
      "cell_type": "code",
      "execution_count": 4,
      "metadata": {},
      "outputs": [
        {
          "data": {
            "text/html": [
              "<div>\n",
              "<style scoped>\n",
              "    .dataframe tbody tr th:only-of-type {\n",
              "        vertical-align: middle;\n",
              "    }\n",
              "\n",
              "    .dataframe tbody tr th {\n",
              "        vertical-align: top;\n",
              "    }\n",
              "\n",
              "    .dataframe thead th {\n",
              "        text-align: right;\n",
              "    }\n",
              "</style>\n",
              "<table border=\"1\" class=\"dataframe\">\n",
              "  <thead>\n",
              "    <tr style=\"text-align: right;\">\n",
              "      <th></th>\n",
              "      <th>Country</th>\n",
              "      <th>City</th>\n",
              "    </tr>\n",
              "  </thead>\n",
              "  <tbody>\n",
              "    <tr>\n",
              "      <th>0</th>\n",
              "      <td>England</td>\n",
              "      <td>Kyoto</td>\n",
              "    </tr>\n",
              "    <tr>\n",
              "      <th>1</th>\n",
              "      <td>USA</td>\n",
              "      <td>Miami</td>\n",
              "    </tr>\n",
              "    <tr>\n",
              "      <th>2</th>\n",
              "      <td>Spain</td>\n",
              "      <td>Paris</td>\n",
              "    </tr>\n",
              "  </tbody>\n",
              "</table>\n",
              "</div>"
            ],
            "text/plain": [
              "   Country   City\n",
              "0  England  Kyoto\n",
              "1      USA  Miami\n",
              "2    Spain  Paris"
            ]
          },
          "execution_count": 4,
          "metadata": {},
          "output_type": "execute_result"
        }
      ],
      "source": [
        "import pandas as pd\n",
        "\n",
        "dirty_data = [[\"England\", \"Kyoto\"], [\"USA\", \"Miami\"], [\"Spain\", \"Paris\"]] \n",
        "dirty_dataframe = pd.DataFrame(dirty_data, columns=[\"Country\", \"City\"]) \n",
        "dirty_dataframe"
      ]
    },
    {
      "cell_type": "code",
      "execution_count": 5,
      "metadata": {},
      "outputs": [
        {
          "data": {
            "text/html": [
              "<div>\n",
              "<style scoped>\n",
              "    .dataframe tbody tr th:only-of-type {\n",
              "        vertical-align: middle;\n",
              "    }\n",
              "\n",
              "    .dataframe tbody tr th {\n",
              "        vertical-align: top;\n",
              "    }\n",
              "\n",
              "    .dataframe thead th {\n",
              "        text-align: right;\n",
              "    }\n",
              "</style>\n",
              "<table border=\"1\" class=\"dataframe\">\n",
              "  <thead>\n",
              "    <tr style=\"text-align: right;\">\n",
              "      <th></th>\n",
              "      <th>Country</th>\n",
              "      <th>City</th>\n",
              "    </tr>\n",
              "  </thead>\n",
              "  <tbody>\n",
              "    <tr>\n",
              "      <th>0</th>\n",
              "      <td>England</td>\n",
              "      <td>Greenwich</td>\n",
              "    </tr>\n",
              "    <tr>\n",
              "      <th>1</th>\n",
              "      <td>USA</td>\n",
              "      <td>Miami</td>\n",
              "    </tr>\n",
              "    <tr>\n",
              "      <th>2</th>\n",
              "      <td>Spain</td>\n",
              "      <td>Barcelona</td>\n",
              "    </tr>\n",
              "  </tbody>\n",
              "</table>\n",
              "</div>"
            ],
            "text/plain": [
              "   Country       City\n",
              "0  England  Greenwich\n",
              "1      USA      Miami\n",
              "2    Spain  Barcelona"
            ]
          },
          "execution_count": 5,
          "metadata": {},
          "output_type": "execute_result"
        }
      ],
      "source": [
        "clean_data = [[\"England\", \"Greenwich\"], [\"USA\", \"Miami\"], [\"Spain\", \"Barcelona\"]] \n",
        "clean_dataframe = pd.DataFrame(clean_data, columns=[\"Country\", \"City\"]) \n",
        "clean_dataframe"
      ]
    },
    {
      "cell_type": "markdown",
      "metadata": {},
      "source": [
        "With the dataframes ready it is time to create the dataset object used to run the experiment."
      ]
    },
    {
      "cell_type": "code",
      "execution_count": null,
      "metadata": {},
      "outputs": [],
      "source": [
        "from DataSet import CustomDataSet\n",
        "\n",
        "custom_data_set = CustomDataSet(dirty_dataframe, clean_dataframe, \"Cities\")\n",
        "\n",
        "from experiment.errorDetection import ErrorDetection\n",
        "\n",
        "error_detection_cities = ErrorDetection(dataset=custom_data_set)"
      ]
    },
    {
      "cell_type": "markdown",
      "metadata": {},
      "source": [
        "Finally, let's try our custom error detection out! The promts used, the examples generated and llamas responses are all logged and can be viewed in logs/[timestamp]/promt-results.csv for the results or logs/[timestamp]/responses/[id].json for the promts and responses. Pro tipp: format the json file (using alt+shift+f) to read it."
      ]
    },
    {
      "cell_type": "code",
      "execution_count": 7,
      "metadata": {},
      "outputs": [
        {
          "name": "stderr",
          "output_type": "stream",
          "text": [
            "ErrorDetection (INFO):\tStarted zero shot for 1 rows\n"
          ]
        },
        {
          "data": {
            "application/vnd.jupyter.widget-view+json": {
              "model_id": "14a04e12b1e643ceb6dae608414e8ad6",
              "version_major": 2,
              "version_minor": 0
            },
            "text/plain": [
              "IntProgress(value=0, description='Attributes Prompted Error Detection Zero Shot', max=2)"
            ]
          },
          "metadata": {},
          "output_type": "display_data"
        },
        {
          "name": "stderr",
          "output_type": "stream",
          "text": [
            "ErrorDetection (INFO):\tFinished Error Detection Zero Shot in 00:00:01\n"
          ]
        },
        {
          "name": "stdout",
          "output_type": "stream",
          "text": [
            "Time: 1.8703770637512207, f1-score: 0.0\n"
          ]
        }
      ],
      "source": [
        "# zero shot\n",
        "cities_zero_shot_time, cities_zero_shot_score = error_detection_cities.zero_shot(n_samples=1)\n",
        "print(f'Time: %s, f1-score: %s'%(cities_zero_shot_time, cities_zero_shot_score))\n"
      ]
    },
    {
      "cell_type": "code",
      "execution_count": 8,
      "metadata": {},
      "outputs": [
        {
          "name": "stderr",
          "output_type": "stream",
          "text": [
            "ErrorDetection (INFO):\tStarted few shot for 1 rows with 1 examples\n"
          ]
        },
        {
          "data": {
            "application/vnd.jupyter.widget-view+json": {
              "model_id": "ee0b6fe36043427abc44da802307ba2c",
              "version_major": 2,
              "version_minor": 0
            },
            "text/plain": [
              "IntProgress(value=0, description='Attributes Prompted Error Detection Few Shot', max=2)"
            ]
          },
          "metadata": {},
          "output_type": "display_data"
        },
        {
          "name": "stderr",
          "output_type": "stream",
          "text": [
            "ErrorDetection (INFO):\tFinished Error Detection Few Shot in 00:00:00\n"
          ]
        },
        {
          "name": "stdout",
          "output_type": "stream",
          "text": [
            "Time: 0.3987538814544678, f1-score: 0.0\n"
          ]
        }
      ],
      "source": [
        "# few shot\n",
        "cities_few_shot_time, cities_few_shot_score = error_detection_cities.few_shot(n_samples=1, example_count=1)\n",
        "print(f'Time: %s, f1-score: %s'%(cities_few_shot_time, cities_few_shot_score))"
      ]
    },
    {
      "cell_type": "markdown",
      "metadata": {
        "id": "kGgVNQPOJ3DK"
      },
      "source": [
        "# TODO:\n",
        "\n",
        "- retrieve the errors from the answer in an automatic way\n",
        "- compute recall/f1 etc. from clean data\n",
        "- test different prompts\n",
        "- test different hyperparameters (?)\n",
        "- automate experiments for different parameters\n",
        "\n"
      ]
    }
  ],
  "metadata": {
    "accelerator": "GPU",
    "colab": {
      "gpuType": "T4",
      "provenance": [],
      "toc_visible": true
    },
    "kernelspec": {
      "display_name": "Python 3 (ipykernel)",
      "language": "python",
      "name": "python3"
    },
    "language_info": {
      "codemirror_mode": {
        "name": "ipython",
        "version": 3
      },
      "file_extension": ".py",
      "mimetype": "text/x-python",
      "name": "python",
      "nbconvert_exporter": "python",
      "pygments_lexer": "ipython3",
      "version": "3.7.4"
    },
    "vscode": {
      "interpreter": {
        "hash": "85e08a7f08984051b26ef58c6313c9cce44d2f98f904ee07e3d2a22c6e22049c"
      }
    },
    "widgets": {
      "application/vnd.jupyter.widget-state+json": {
        "09d42872c6c6458e9a332aa727f5470f": {
          "model_module": "@jupyter-widgets/base",
          "model_module_version": "1.2.0",
          "model_name": "LayoutModel",
          "state": {
            "_model_module": "@jupyter-widgets/base",
            "_model_module_version": "1.2.0",
            "_model_name": "LayoutModel",
            "_view_count": null,
            "_view_module": "@jupyter-widgets/base",
            "_view_module_version": "1.2.0",
            "_view_name": "LayoutView",
            "align_content": null,
            "align_items": null,
            "align_self": null,
            "border": null,
            "bottom": null,
            "display": null,
            "flex": null,
            "flex_flow": null,
            "grid_area": null,
            "grid_auto_columns": null,
            "grid_auto_flow": null,
            "grid_auto_rows": null,
            "grid_column": null,
            "grid_gap": null,
            "grid_row": null,
            "grid_template_areas": null,
            "grid_template_columns": null,
            "grid_template_rows": null,
            "height": null,
            "justify_content": null,
            "justify_items": null,
            "left": null,
            "margin": null,
            "max_height": null,
            "max_width": null,
            "min_height": null,
            "min_width": null,
            "object_fit": null,
            "object_position": null,
            "order": null,
            "overflow": null,
            "overflow_x": null,
            "overflow_y": null,
            "padding": null,
            "right": null,
            "top": null,
            "visibility": null,
            "width": null
          }
        },
        "0b2cf038ae21412eabfe39c512a200a5": {
          "model_module": "@jupyter-widgets/controls",
          "model_module_version": "1.5.0",
          "model_name": "ProgressStyleModel",
          "state": {
            "_model_module": "@jupyter-widgets/controls",
            "_model_module_version": "1.5.0",
            "_model_name": "ProgressStyleModel",
            "_view_count": null,
            "_view_module": "@jupyter-widgets/base",
            "_view_module_version": "1.2.0",
            "_view_name": "StyleView",
            "bar_color": null,
            "description_width": ""
          }
        },
        "156a2a533b1a4eda962fd942ff957aeb": {
          "model_module": "@jupyter-widgets/base",
          "model_module_version": "1.2.0",
          "model_name": "LayoutModel",
          "state": {
            "_model_module": "@jupyter-widgets/base",
            "_model_module_version": "1.2.0",
            "_model_name": "LayoutModel",
            "_view_count": null,
            "_view_module": "@jupyter-widgets/base",
            "_view_module_version": "1.2.0",
            "_view_name": "LayoutView",
            "align_content": null,
            "align_items": null,
            "align_self": null,
            "border": null,
            "bottom": null,
            "display": null,
            "flex": null,
            "flex_flow": null,
            "grid_area": null,
            "grid_auto_columns": null,
            "grid_auto_flow": null,
            "grid_auto_rows": null,
            "grid_column": null,
            "grid_gap": null,
            "grid_row": null,
            "grid_template_areas": null,
            "grid_template_columns": null,
            "grid_template_rows": null,
            "height": null,
            "justify_content": null,
            "justify_items": null,
            "left": null,
            "margin": null,
            "max_height": null,
            "max_width": null,
            "min_height": null,
            "min_width": null,
            "object_fit": null,
            "object_position": null,
            "order": null,
            "overflow": null,
            "overflow_x": null,
            "overflow_y": null,
            "padding": null,
            "right": null,
            "top": null,
            "visibility": null,
            "width": null
          }
        },
        "1797e1f7ab1c4c5ebe61ddad6e81dd2c": {
          "model_module": "@jupyter-widgets/controls",
          "model_module_version": "1.5.0",
          "model_name": "HTMLModel",
          "state": {
            "_dom_classes": [],
            "_model_module": "@jupyter-widgets/controls",
            "_model_module_version": "1.5.0",
            "_model_name": "HTMLModel",
            "_view_count": null,
            "_view_module": "@jupyter-widgets/controls",
            "_view_module_version": "1.5.0",
            "_view_name": "HTMLView",
            "description": "",
            "description_tooltip": null,
            "layout": "IPY_MODEL_09d42872c6c6458e9a332aa727f5470f",
            "placeholder": "​",
            "style": "IPY_MODEL_a68b5332106b412e9e6703ed794fbe6c",
            "value": " 9.76G/9.76G [00:50&lt;00:00, 202MB/s]"
          }
        },
        "315bc2cd30fe4991ae619e809df120ab": {
          "model_module": "@jupyter-widgets/base",
          "model_module_version": "1.2.0",
          "model_name": "LayoutModel",
          "state": {
            "_model_module": "@jupyter-widgets/base",
            "_model_module_version": "1.2.0",
            "_model_name": "LayoutModel",
            "_view_count": null,
            "_view_module": "@jupyter-widgets/base",
            "_view_module_version": "1.2.0",
            "_view_name": "LayoutView",
            "align_content": null,
            "align_items": null,
            "align_self": null,
            "border": null,
            "bottom": null,
            "display": null,
            "flex": null,
            "flex_flow": null,
            "grid_area": null,
            "grid_auto_columns": null,
            "grid_auto_flow": null,
            "grid_auto_rows": null,
            "grid_column": null,
            "grid_gap": null,
            "grid_row": null,
            "grid_template_areas": null,
            "grid_template_columns": null,
            "grid_template_rows": null,
            "height": null,
            "justify_content": null,
            "justify_items": null,
            "left": null,
            "margin": null,
            "max_height": null,
            "max_width": null,
            "min_height": null,
            "min_width": null,
            "object_fit": null,
            "object_position": null,
            "order": null,
            "overflow": null,
            "overflow_x": null,
            "overflow_y": null,
            "padding": null,
            "right": null,
            "top": null,
            "visibility": null,
            "width": null
          }
        },
        "556bfcb645634b35b03a984f33479337": {
          "model_module": "@jupyter-widgets/controls",
          "model_module_version": "1.5.0",
          "model_name": "DescriptionStyleModel",
          "state": {
            "_model_module": "@jupyter-widgets/controls",
            "_model_module_version": "1.5.0",
            "_model_name": "DescriptionStyleModel",
            "_view_count": null,
            "_view_module": "@jupyter-widgets/base",
            "_view_module_version": "1.2.0",
            "_view_name": "StyleView",
            "description_width": ""
          }
        },
        "5713394de8fc4e188305da99ed3246e1": {
          "model_module": "@jupyter-widgets/controls",
          "model_module_version": "1.5.0",
          "model_name": "HBoxModel",
          "state": {
            "_dom_classes": [],
            "_model_module": "@jupyter-widgets/controls",
            "_model_module_version": "1.5.0",
            "_model_name": "HBoxModel",
            "_view_count": null,
            "_view_module": "@jupyter-widgets/controls",
            "_view_module_version": "1.5.0",
            "_view_name": "HBoxView",
            "box_style": "",
            "children": [
              "IPY_MODEL_e5558c97f5164068a6d3fcd9cd92c882",
              "IPY_MODEL_e2b78e4398764cf3a2d16b903bcb9250",
              "IPY_MODEL_1797e1f7ab1c4c5ebe61ddad6e81dd2c"
            ],
            "layout": "IPY_MODEL_d3878af2847e4e0a9c5f9d23939413dd"
          }
        },
        "95da484b7b894ab69520b7a2212cf401": {
          "model_module": "@jupyter-widgets/controls",
          "model_module_version": "1.5.0",
          "model_name": "ProgressStyleModel",
          "state": {
            "_model_module": "@jupyter-widgets/controls",
            "_model_module_version": "1.5.0",
            "_model_name": "ProgressStyleModel",
            "_view_count": null,
            "_view_module": "@jupyter-widgets/base",
            "_view_module_version": "1.2.0",
            "_view_name": "StyleView",
            "bar_color": null,
            "description_width": ""
          }
        },
        "9d44840150934f83abada9fff846cde4": {
          "model_module": "@jupyter-widgets/controls",
          "model_module_version": "1.5.0",
          "model_name": "IntProgressModel",
          "state": {
            "_dom_classes": [],
            "_model_module": "@jupyter-widgets/controls",
            "_model_module_version": "1.5.0",
            "_model_name": "IntProgressModel",
            "_view_count": null,
            "_view_module": "@jupyter-widgets/controls",
            "_view_module_version": "1.5.0",
            "_view_name": "ProgressView",
            "bar_style": "",
            "description": "Attributes Prompted",
            "description_tooltip": null,
            "layout": "IPY_MODEL_d2d754e3beb1475797fefdfc9158f191",
            "max": 60,
            "min": 0,
            "orientation": "horizontal",
            "style": "IPY_MODEL_0b2cf038ae21412eabfe39c512a200a5",
            "value": 60
          }
        },
        "a68b5332106b412e9e6703ed794fbe6c": {
          "model_module": "@jupyter-widgets/controls",
          "model_module_version": "1.5.0",
          "model_name": "DescriptionStyleModel",
          "state": {
            "_model_module": "@jupyter-widgets/controls",
            "_model_module_version": "1.5.0",
            "_model_name": "DescriptionStyleModel",
            "_view_count": null,
            "_view_module": "@jupyter-widgets/base",
            "_view_module_version": "1.2.0",
            "_view_name": "StyleView",
            "description_width": ""
          }
        },
        "b999fb0abf2f4210bea023359bdaf409": {
          "model_module": "@jupyter-widgets/base",
          "model_module_version": "1.2.0",
          "model_name": "LayoutModel",
          "state": {
            "_model_module": "@jupyter-widgets/base",
            "_model_module_version": "1.2.0",
            "_model_name": "LayoutModel",
            "_view_count": null,
            "_view_module": "@jupyter-widgets/base",
            "_view_module_version": "1.2.0",
            "_view_name": "LayoutView",
            "align_content": null,
            "align_items": null,
            "align_self": null,
            "border": null,
            "bottom": null,
            "display": null,
            "flex": null,
            "flex_flow": null,
            "grid_area": null,
            "grid_auto_columns": null,
            "grid_auto_flow": null,
            "grid_auto_rows": null,
            "grid_column": null,
            "grid_gap": null,
            "grid_row": null,
            "grid_template_areas": null,
            "grid_template_columns": null,
            "grid_template_rows": null,
            "height": null,
            "justify_content": null,
            "justify_items": null,
            "left": null,
            "margin": null,
            "max_height": null,
            "max_width": null,
            "min_height": null,
            "min_width": null,
            "object_fit": null,
            "object_position": null,
            "order": null,
            "overflow": null,
            "overflow_x": null,
            "overflow_y": null,
            "padding": null,
            "right": null,
            "top": null,
            "visibility": null,
            "width": null
          }
        },
        "c23151dc4e7047d9b345d0be8332f865": {
          "model_module": "@jupyter-widgets/controls",
          "model_module_version": "1.5.0",
          "model_name": "ProgressStyleModel",
          "state": {
            "_model_module": "@jupyter-widgets/controls",
            "_model_module_version": "1.5.0",
            "_model_name": "ProgressStyleModel",
            "_view_count": null,
            "_view_module": "@jupyter-widgets/base",
            "_view_module_version": "1.2.0",
            "_view_name": "StyleView",
            "bar_color": null,
            "description_width": ""
          }
        },
        "d2d754e3beb1475797fefdfc9158f191": {
          "model_module": "@jupyter-widgets/base",
          "model_module_version": "1.2.0",
          "model_name": "LayoutModel",
          "state": {
            "_model_module": "@jupyter-widgets/base",
            "_model_module_version": "1.2.0",
            "_model_name": "LayoutModel",
            "_view_count": null,
            "_view_module": "@jupyter-widgets/base",
            "_view_module_version": "1.2.0",
            "_view_name": "LayoutView",
            "align_content": null,
            "align_items": null,
            "align_self": null,
            "border": null,
            "bottom": null,
            "display": null,
            "flex": null,
            "flex_flow": null,
            "grid_area": null,
            "grid_auto_columns": null,
            "grid_auto_flow": null,
            "grid_auto_rows": null,
            "grid_column": null,
            "grid_gap": null,
            "grid_row": null,
            "grid_template_areas": null,
            "grid_template_columns": null,
            "grid_template_rows": null,
            "height": null,
            "justify_content": null,
            "justify_items": null,
            "left": null,
            "margin": null,
            "max_height": null,
            "max_width": null,
            "min_height": null,
            "min_width": null,
            "object_fit": null,
            "object_position": null,
            "order": null,
            "overflow": null,
            "overflow_x": null,
            "overflow_y": null,
            "padding": null,
            "right": null,
            "top": null,
            "visibility": null,
            "width": null
          }
        },
        "d3878af2847e4e0a9c5f9d23939413dd": {
          "model_module": "@jupyter-widgets/base",
          "model_module_version": "1.2.0",
          "model_name": "LayoutModel",
          "state": {
            "_model_module": "@jupyter-widgets/base",
            "_model_module_version": "1.2.0",
            "_model_name": "LayoutModel",
            "_view_count": null,
            "_view_module": "@jupyter-widgets/base",
            "_view_module_version": "1.2.0",
            "_view_name": "LayoutView",
            "align_content": null,
            "align_items": null,
            "align_self": null,
            "border": null,
            "bottom": null,
            "display": null,
            "flex": null,
            "flex_flow": null,
            "grid_area": null,
            "grid_auto_columns": null,
            "grid_auto_flow": null,
            "grid_auto_rows": null,
            "grid_column": null,
            "grid_gap": null,
            "grid_row": null,
            "grid_template_areas": null,
            "grid_template_columns": null,
            "grid_template_rows": null,
            "height": null,
            "justify_content": null,
            "justify_items": null,
            "left": null,
            "margin": null,
            "max_height": null,
            "max_width": null,
            "min_height": null,
            "min_width": null,
            "object_fit": null,
            "object_position": null,
            "order": null,
            "overflow": null,
            "overflow_x": null,
            "overflow_y": null,
            "padding": null,
            "right": null,
            "top": null,
            "visibility": null,
            "width": null
          }
        },
        "e2b78e4398764cf3a2d16b903bcb9250": {
          "model_module": "@jupyter-widgets/controls",
          "model_module_version": "1.5.0",
          "model_name": "FloatProgressModel",
          "state": {
            "_dom_classes": [],
            "_model_module": "@jupyter-widgets/controls",
            "_model_module_version": "1.5.0",
            "_model_name": "FloatProgressModel",
            "_view_count": null,
            "_view_module": "@jupyter-widgets/controls",
            "_view_module_version": "1.5.0",
            "_view_name": "ProgressView",
            "bar_style": "success",
            "description": "",
            "description_tooltip": null,
            "layout": "IPY_MODEL_b999fb0abf2f4210bea023359bdaf409",
            "max": 9763701888,
            "min": 0,
            "orientation": "horizontal",
            "style": "IPY_MODEL_c23151dc4e7047d9b345d0be8332f865",
            "value": 9763701888
          }
        },
        "e5558c97f5164068a6d3fcd9cd92c882": {
          "model_module": "@jupyter-widgets/controls",
          "model_module_version": "1.5.0",
          "model_name": "HTMLModel",
          "state": {
            "_dom_classes": [],
            "_model_module": "@jupyter-widgets/controls",
            "_model_module_version": "1.5.0",
            "_model_name": "HTMLModel",
            "_view_count": null,
            "_view_module": "@jupyter-widgets/controls",
            "_view_module_version": "1.5.0",
            "_view_name": "HTMLView",
            "description": "",
            "description_tooltip": null,
            "layout": "IPY_MODEL_315bc2cd30fe4991ae619e809df120ab",
            "placeholder": "​",
            "style": "IPY_MODEL_556bfcb645634b35b03a984f33479337",
            "value": "llama-2-13b-chat.ggmlv3.q5_1.bin: 100%"
          }
        },
        "e67519cc43eb47938159d54439b8fece": {
          "model_module": "@jupyter-widgets/controls",
          "model_module_version": "1.5.0",
          "model_name": "IntProgressModel",
          "state": {
            "_dom_classes": [],
            "_model_module": "@jupyter-widgets/controls",
            "_model_module_version": "1.5.0",
            "_model_name": "IntProgressModel",
            "_view_count": null,
            "_view_module": "@jupyter-widgets/controls",
            "_view_module_version": "1.5.0",
            "_view_name": "ProgressView",
            "bar_style": "",
            "description": "Attributes Prompted",
            "description_tooltip": null,
            "layout": "IPY_MODEL_156a2a533b1a4eda962fd942ff957aeb",
            "max": 600,
            "min": 0,
            "orientation": "horizontal",
            "style": "IPY_MODEL_95da484b7b894ab69520b7a2212cf401",
            "value": 600
          }
        }
      }
    }
  },
  "nbformat": 4,
  "nbformat_minor": 0
}
